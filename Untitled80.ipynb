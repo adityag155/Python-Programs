{
  "nbformat": 4,
  "nbformat_minor": 0,
  "metadata": {
    "colab": {
      "provenance": [],
      "authorship_tag": "ABX9TyPCuqUX/fQWmoIPUYetoGZ6",
      "include_colab_link": true
    },
    "kernelspec": {
      "name": "python3",
      "display_name": "Python 3"
    },
    "language_info": {
      "name": "python"
    }
  },
  "cells": [
    {
      "cell_type": "markdown",
      "metadata": {
        "id": "view-in-github",
        "colab_type": "text"
      },
      "source": [
        "<a href=\"https://colab.research.google.com/github/adityag155/Python-Programs/blob/main/Untitled80.ipynb\" target=\"_parent\"><img src=\"https://colab.research.google.com/assets/colab-badge.svg\" alt=\"Open In Colab\"/></a>"
      ]
    },
    {
      "cell_type": "code",
      "source": [
        "# defining a function to calculate HCF  def calculate_hcf(x, y):      # selecting the smaller number      if x > y:          smaller = y      else:          smaller = x      for i in range(1,smaller + 1):          if((x % i == 0) and (y % i == 0)):              hcf = i      return hcf    # taking input from users  num1 = int(input(\"Enter first number: \"))  num2 = int(input(\"Enter second number: \"))  # printing the result for the users  print(\"The H.C.F. of\", num1,\"and\", num2,\"is\", calculate_hcf(num1, num2))"
      ],
      "metadata": {
        "id": "9rl4vy8lvC_j"
      },
      "execution_count": null,
      "outputs": []
    },
    {
      "cell_type": "code",
      "source": [
        "# defining a function to calculate HCF  def calculate_hcf(x, y):      # selecting the smaller number      if x > y:          smaller = y      else:          smaller = x      for i in range(1,smaller + 1):          if((x % i == 0) and (y % i == 0)):              hcf = i      return hcf    # taking input from users  num1 = int(input(\"Enter first number: \"))  num2 = int(input(\"Enter second number: \"))  # printing the result for the users  print(\"The H.C.F. of\", num1,\"and\", num2,\"is\", calculate_hcf(num1, num2))"
      ],
      "metadata": {
        "id": "pnG_fF8NvFBx"
      },
      "execution_count": null,
      "outputs": []
    }
  ]
}