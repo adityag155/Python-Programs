{
  "nbformat": 4,
  "nbformat_minor": 0,
  "metadata": {
    "colab": {
      "name": "Untitled4.ipynb",
      "provenance": [],
      "authorship_tag": "ABX9TyO2SUxwtZAUXxhuTy5bqj8j",
      "include_colab_link": true
    },
    "kernelspec": {
      "name": "python3",
      "display_name": "Python 3"
    },
    "language_info": {
      "name": "python"
    }
  },
  "cells": [
    {
      "cell_type": "markdown",
      "metadata": {
        "id": "view-in-github",
        "colab_type": "text"
      },
      "source": [
        "<a href=\"https://colab.research.google.com/github/adityag155/Python-Programs/blob/main/Untitled4.ipynb\" target=\"_parent\"><img src=\"https://colab.research.google.com/assets/colab-badge.svg\" alt=\"Open In Colab\"/></a>"
      ]
    },
    {
      "cell_type": "code",
      "execution_count": 4,
      "metadata": {
        "colab": {
          "base_uri": "https://localhost:8080/"
        },
        "id": "2jHSv9N7ws7W",
        "outputId": "bce7417b-8846-43b3-b32b-1147553f0976"
      },
      "outputs": [
        {
          "output_type": "stream",
          "name": "stdout",
          "text": [
            "The value of count is 2\n",
            "The increment for loop\n",
            "0\n",
            "1\n",
            "2\n",
            "3\n",
            "4\n",
            "The decrement for loop\n",
            "4\n",
            "3\n",
            "2\n",
            "1\n",
            "0\n"
          ]
        }
      ],
      "source": [
        "#Increment and Decrement operator:\n",
        "count=0\n",
        "count+=1\n",
        "count=count+1\n",
        "print('The value of count is',count)\n",
        "\n",
        "print('The increment for loop')\n",
        "for i in range (0,5):\n",
        "  print(i)\n",
        "\n",
        "print('The decrement for loop')\n",
        "for i in range(4, -1, -1):\n",
        "  print(i)"
      ]
    },
    {
      "cell_type": "code",
      "source": [
        "#Increment and decrement Operator\n",
        "count=0\n",
        "count+=1\n",
        "count=count+1\n",
        "print('The value of count is',count)\n",
        "\n",
        "print('The increment for loop')\n",
        "for i in range(0,5):\n",
        "  print(i)\n",
        "\n",
        "print('The decrement for loop')\n",
        "for i in range(4, -1, -1):\n",
        "  print(i)"
      ],
      "metadata": {
        "colab": {
          "base_uri": "https://localhost:8080/"
        },
        "id": "E391TG9omTS1",
        "outputId": "192705a2-62b4-4168-9e3e-53020b472e5f"
      },
      "execution_count": 7,
      "outputs": [
        {
          "output_type": "stream",
          "name": "stdout",
          "text": [
            "The value of count is 2\n",
            "The increment for loop\n",
            "0\n",
            "1\n",
            "2\n",
            "3\n",
            "4\n",
            "The decrement for loop\n",
            "4\n",
            "3\n",
            "2\n",
            "1\n",
            "0\n"
          ]
        }
      ]
    },
    {
      "cell_type": "code",
      "source": [
        "num1=int(input(\"Enter the firstnumber\"))\n",
        "num2=int(input(\"Enter the second number\"))\n",
        "result=num1+num2\n",
        "print(\"result\",result)"
      ],
      "metadata": {
        "colab": {
          "base_uri": "https://localhost:8080/"
        },
        "id": "dRqBGfyan3Kv",
        "outputId": "e8895390-489d-47bf-d3e7-0bae17af6996"
      },
      "execution_count": 8,
      "outputs": [
        {
          "output_type": "stream",
          "name": "stdout",
          "text": [
            "Enter the firstnumber10\n",
            "Enter the second number20\n",
            "result 30\n"
          ]
        }
      ]
    },
    {
      "cell_type": "code",
      "source": [
        "#Take input from user:\n",
        "num1=int(input(\"Enter the first number\"))\n",
        "num2=int(input(\"Enter the second number\"))\n",
        "result=num1+num2\n",
        "print(\"result\",result)"
      ],
      "metadata": {
        "colab": {
          "base_uri": "https://localhost:8080/"
        },
        "id": "cJGmPGAVoxok",
        "outputId": "00b3ab55-e4e7-46dc-eafc-c402e58eb5b4"
      },
      "execution_count": 9,
      "outputs": [
        {
          "output_type": "stream",
          "name": "stdout",
          "text": [
            "Enter the first number20\n",
            "Enter the second number20\n",
            "result 40\n"
          ]
        }
      ]
    },
    {
      "cell_type": "code",
      "source": [
        "#Take input from user\n",
        "num1=input(\"Enter the first number\")\n",
        "num2=input(\"Enter the second number\")\n",
        "sum=int(num1)+int(num2)\n",
        "print(\"The sum of{0} and{1} is {2}\".format(num1,num2,sum))"
      ],
      "metadata": {
        "colab": {
          "base_uri": "https://localhost:8080/"
        },
        "id": "Rqr7QJQ4pSRd",
        "outputId": "f7c97847-d267-4859-a01c-b3b0cfdf6e1f"
      },
      "execution_count": 10,
      "outputs": [
        {
          "output_type": "stream",
          "name": "stdout",
          "text": [
            "Enter the first number50\n",
            "Enter the second number50\n",
            "The sum of50 and50 is 100\n"
          ]
        }
      ]
    },
    {
      "cell_type": "code",
      "source": [
        "#The increment and decrement operator:\n",
        "count=0\n",
        "count+=1\n",
        "count=count+1\n",
        "print(\"The value of count is\", count)\n",
        "\n",
        "print(\"The increment value for loop\")\n",
        "for i in range(0,5):\n",
        "  print(i)\n",
        "\n",
        "print(\"The decrement value for loop\")\n",
        "for i in range(4,-1,-1):\n",
        "  print(i)"
      ],
      "metadata": {
        "colab": {
          "base_uri": "https://localhost:8080/"
        },
        "id": "1dYOvoOYp7BX",
        "outputId": "31efacec-12dd-4469-a17e-219d1b3e0df7"
      },
      "execution_count": 15,
      "outputs": [
        {
          "output_type": "stream",
          "name": "stdout",
          "text": [
            "The value of count is 2\n",
            "The increment value for loop\n",
            "0\n",
            "1\n",
            "2\n",
            "3\n",
            "4\n",
            "The decrement value for loop\n",
            "4\n",
            "3\n",
            "2\n",
            "1\n",
            "0\n"
          ]
        }
      ]
    },
    {
      "cell_type": "code",
      "source": [
        "#Take input from user:\n",
        "num1=int(input(\"Enter the first number\"))\n",
        "num2=int(input(\"Enter the second number\"))\n",
        "result=num1+num2\n",
        "print(\"result\",result)"
      ],
      "metadata": {
        "colab": {
          "base_uri": "https://localhost:8080/"
        },
        "id": "sHA57kYQsF8v",
        "outputId": "8a260d25-d9bb-4a36-9d44-46002a75bfe4"
      },
      "execution_count": 18,
      "outputs": [
        {
          "output_type": "stream",
          "name": "stdout",
          "text": [
            "Enter the first number20\n",
            "Enter the second number20\n",
            "result 40\n"
          ]
        }
      ]
    },
    {
      "cell_type": "code",
      "source": [
        "#Write a program to read the two numbers from command line and find the min and max number:\n",
        "\n",
        "print(\"Maximum of 10, 5, 22, 33.9, 88, 100 is:\",end=\"\")\n",
        "print(max(10, 5, 22, 33.9, 88, 100))\n",
        "\n",
        "print(\"Minimum of 10, 5, 22, 33.9, 88, 100 is:\",end=\"\")\n",
        "print(min(10, 5, 22, 33.9, 88, 100))"
      ],
      "metadata": {
        "colab": {
          "base_uri": "https://localhost:8080/"
        },
        "id": "1OyB6fmxsvo8",
        "outputId": "bb82c9aa-d48e-4234-dfd1-18a9c62e69ce"
      },
      "execution_count": 20,
      "outputs": [
        {
          "output_type": "stream",
          "name": "stdout",
          "text": [
            "Maximum of 10, 5, 22, 33.9, 88, 100 is:100\n",
            "Minimum of 10, 5, 22, 33.9, 88, 100 is:5\n"
          ]
        }
      ]
    },
    {
      "cell_type": "code",
      "source": [
        "print(\"Maximum of 10, 22, 43, 33,89, 33.5 is:\",end=\"\")\n",
        "print(max(10, 22, 43, 33,89, 33.5))"
      ],
      "metadata": {
        "colab": {
          "base_uri": "https://localhost:8080/"
        },
        "id": "4ICkEEe96Dfm",
        "outputId": "1eeb7c84-eba5-4caf-cd27-d00e1e3dbf57"
      },
      "execution_count": 21,
      "outputs": [
        {
          "output_type": "stream",
          "name": "stdout",
          "text": [
            "Maximum of 10, 22, 43, 33,89, 33.5 is:89\n"
          ]
        }
      ]
    },
    {
      "cell_type": "code",
      "source": [
        "print(\"Minimum of 22,45,18,24,55 is:\",end=\"\")\n",
        "print(min(22,45,18,24,55))"
      ],
      "metadata": {
        "colab": {
          "base_uri": "https://localhost:8080/"
        },
        "id": "MQksAgGt7f1n",
        "outputId": "4b147023-70be-494d-f37a-0df7d8d109cd"
      },
      "execution_count": 23,
      "outputs": [
        {
          "output_type": "stream",
          "name": "stdout",
          "text": [
            "Minimum of 22,45,18,24,55 is:18\n"
          ]
        }
      ]
    },
    {
      "cell_type": "code",
      "source": [
        "#Python program to find the maximum of two numbers:\n",
        "#METHOD1\n",
        "a=2\n",
        "b=4\n",
        "maximum=max(a,b)\n",
        "print(maximum)"
      ],
      "metadata": {
        "id": "U8XRtGTH8-gx",
        "outputId": "38915811-fa31-471c-80b3-3179e09a5aee",
        "colab": {
          "base_uri": "https://localhost:8080/"
        }
      },
      "execution_count": 24,
      "outputs": [
        {
          "output_type": "stream",
          "name": "stdout",
          "text": [
            "4\n"
          ]
        }
      ]
    },
    {
      "cell_type": "code",
      "source": [
        "#METHOD2\n",
        "def maximum(a,b):\n",
        "  if a>=b:\n",
        "    return a\n",
        "  else:\n",
        "    return b\n",
        "a=2\n",
        "b=4\n",
        "print(maximum(a,b))"
      ],
      "metadata": {
        "id": "SPodIVr09W9E",
        "outputId": "76defe7a-da9a-4f18-e0bb-848cff3ee3db",
        "colab": {
          "base_uri": "https://localhost:8080/"
        }
      },
      "execution_count": 25,
      "outputs": [
        {
          "output_type": "stream",
          "name": "stdout",
          "text": [
            "4\n"
          ]
        }
      ]
    },
    {
      "cell_type": "code",
      "source": [
        "a=2\n",
        "b=4\n",
        "maximum=max(a,b)\n",
        "print(maximum)"
      ],
      "metadata": {
        "id": "wHQCh4qM90cp",
        "outputId": "dc15f52d-4eb3-4d3f-c212-6336fb944a93",
        "colab": {
          "base_uri": "https://localhost:8080/"
        }
      },
      "execution_count": 26,
      "outputs": [
        {
          "output_type": "stream",
          "name": "stdout",
          "text": [
            "4\n"
          ]
        }
      ]
    },
    {
      "cell_type": "code",
      "source": [
        "def maximum(a,b):\n",
        "  if a>=b:\n",
        "    return a\n",
        "  else:\n",
        "    return b\n",
        "a=2\n",
        "b=4\n",
        "print(maximum(a,b))"
      ],
      "metadata": {
        "id": "3YyA9FQq-FQ2",
        "outputId": "1fbf5ba2-8fd3-413c-f209-0ca70cc415cb",
        "colab": {
          "base_uri": "https://localhost:8080/"
        }
      },
      "execution_count": 28,
      "outputs": [
        {
          "output_type": "stream",
          "name": "stdout",
          "text": [
            "4\n"
          ]
        }
      ]
    },
    {
      "cell_type": "code",
      "source": [
        "#Python program to find the maximum of two numbers:\n",
        "#METHOD1\n",
        "a=2\n",
        "b=4\n",
        "minimum=(min(a,b))\n",
        "print(minimum)"
      ],
      "metadata": {
        "id": "T7nRqfe09yNY",
        "outputId": "f734792b-9d6f-4715-f6b8-12d5cf37b295",
        "colab": {
          "base_uri": "https://localhost:8080/"
        }
      },
      "execution_count": 30,
      "outputs": [
        {
          "output_type": "stream",
          "name": "stdout",
          "text": [
            "2\n"
          ]
        }
      ]
    },
    {
      "cell_type": "code",
      "source": [
        "#METHOD2\n",
        "def minimum(a,b):\n",
        "  if a<=b:\n",
        "    return a\n",
        "  else:\n",
        "    return b\n",
        "a=2\n",
        "b=4\n",
        "print(minimum(a,b))"
      ],
      "metadata": {
        "id": "bRGc7X_I-8Ba",
        "outputId": "b0556a14-dea1-46d8-cd28-6b6f3f1c45b9",
        "colab": {
          "base_uri": "https://localhost:8080/"
        }
      },
      "execution_count": 32,
      "outputs": [
        {
          "output_type": "stream",
          "name": "stdout",
          "text": [
            "2\n"
          ]
        }
      ]
    },
    {
      "cell_type": "code",
      "source": [
        "#Python program to find largest and smallest number in list:\n",
        "\n",
        "NumList=[]\n",
        "Number=int(input(\"How many elements in list, please enter num:-\"))\n",
        "for i in range(1,Number + 1):\n",
        "  value=int(input(\"Please enter the value of %d Element:\"%i))\n",
        "  NumList.append(value)\n",
        "smallest=largest=NumList[0]\n",
        "\n",
        "for j in range(1, Number):\n",
        "  if(smallest>NumList[j]):\n",
        "    smallest=NumList[j]\n",
        "    min_position=j\n",
        "  if(largest<NumList[j]):\n",
        "    largest=NumList[j]\n",
        "    max_position=j\n",
        "print(\"The Smallest Element in this list is:\", smallest)\n",
        "print(\"The index position of Smallest Element in the list is:\", min_position)\n",
        "\n",
        "print(\"The Largest Element is this list is:\", largest)\n",
        "print(\"The index position of Largest Element in list is:\", max_position)"
      ],
      "metadata": {
        "id": "6uey3Czl_oKb",
        "outputId": "ac7a01cc-ccc5-415b-a07e-293a7845cd41",
        "colab": {
          "base_uri": "https://localhost:8080/"
        }
      },
      "execution_count": 37,
      "outputs": [
        {
          "output_type": "stream",
          "name": "stdout",
          "text": [
            "How many elements in list, please enter num:-5\n",
            "Please enter the value of 1 Element:70\n",
            "Please enter the value of 2 Element:55\n",
            "Please enter the value of 3 Element:20\n",
            "Please enter the value of 4 Element:80\n",
            "Please enter the value of 5 Element:90\n",
            "The Smallest Element in this list is: 20\n",
            "The index position of Smallest Element in the list is: 2\n",
            "The Largest Element is this list is: 90\n",
            "The index position of Largest Element in list is: 4\n"
          ]
        }
      ]
    }
  ]
}