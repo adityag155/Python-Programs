{
  "nbformat": 4,
  "nbformat_minor": 0,
  "metadata": {
    "colab": {
      "provenance": [],
      "authorship_tag": "ABX9TyO/s13ngmuuVc2+3Y/SwLM5",
      "include_colab_link": true
    },
    "kernelspec": {
      "name": "python3",
      "display_name": "Python 3"
    },
    "language_info": {
      "name": "python"
    }
  },
  "cells": [
    {
      "cell_type": "markdown",
      "metadata": {
        "id": "view-in-github",
        "colab_type": "text"
      },
      "source": [
        "<a href=\"https://colab.research.google.com/github/adityag155/Python-Programs/blob/main/Untitled44.ipynb\" target=\"_parent\"><img src=\"https://colab.research.google.com/assets/colab-badge.svg\" alt=\"Open In Colab\"/></a>"
      ]
    },
    {
      "cell_type": "code",
      "execution_count": 1,
      "metadata": {
        "colab": {
          "base_uri": "https://localhost:8080/"
        },
        "id": "2VimzfCvxBHk",
        "outputId": "c1f05563-6a73-4fe2-ee99-97e5208e75f5"
      },
      "outputs": [
        {
          "output_type": "stream",
          "name": "stdout",
          "text": [
            "15\n"
          ]
        }
      ],
      "source": [
        "def fun():\n",
        "  x=15\n",
        "  print(x)\n",
        "x=12\n",
        "fun()"
      ]
    },
    {
      "cell_type": "code",
      "source": [
        "def fun():\n",
        "  x=10\n",
        "fun()\n",
        "print(x)"
      ],
      "metadata": {
        "colab": {
          "base_uri": "https://localhost:8080/"
        },
        "id": "4-m82DHUxpuI",
        "outputId": "3d9453c7-c96a-47a5-92c6-9b8e03b642d8"
      },
      "execution_count": 2,
      "outputs": [
        {
          "output_type": "stream",
          "name": "stdout",
          "text": [
            "12\n"
          ]
        }
      ]
    },
    {
      "cell_type": "code",
      "source": [
        "a='adii'\n",
        "b=2\n",
        "c=a*b\n",
        "print(c)"
      ],
      "metadata": {
        "colab": {
          "base_uri": "https://localhost:8080/"
        },
        "id": "XvjxD695y6Z9",
        "outputId": "e54108ee-6946-4083-c379-542cd79f4d7c"
      },
      "execution_count": 3,
      "outputs": [
        {
          "output_type": "stream",
          "name": "stdout",
          "text": [
            "adiiadii\n"
          ]
        }
      ]
    },
    {
      "cell_type": "code",
      "source": [
        "print('1','1','2023',sep='-')\n",
        "\n",
        "print('adii','pythoncode',sep='&')"
      ],
      "metadata": {
        "colab": {
          "base_uri": "https://localhost:8080/"
        },
        "id": "B4p74K6V_O41",
        "outputId": "2bb87cd3-f687-424a-f0dc-a1ed714bbd37"
      },
      "execution_count": 7,
      "outputs": [
        {
          "output_type": "stream",
          "name": "stdout",
          "text": [
            "1-1-2023\n",
            "adii&pythoncode\n"
          ]
        }
      ]
    }
  ]
}