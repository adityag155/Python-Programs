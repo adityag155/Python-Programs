{
  "nbformat": 4,
  "nbformat_minor": 0,
  "metadata": {
    "colab": {
      "provenance": [],
      "authorship_tag": "ABX9TyORrdjpPOXxtNfvmD1X9AtL",
      "include_colab_link": true
    },
    "kernelspec": {
      "name": "python3",
      "display_name": "Python 3"
    },
    "language_info": {
      "name": "python"
    }
  },
  "cells": [
    {
      "cell_type": "markdown",
      "metadata": {
        "id": "view-in-github",
        "colab_type": "text"
      },
      "source": [
        "<a href=\"https://colab.research.google.com/github/adityag155/Python-Programs/blob/main/Untitled44.ipynb\" target=\"_parent\"><img src=\"https://colab.research.google.com/assets/colab-badge.svg\" alt=\"Open In Colab\"/></a>"
      ]
    },
    {
      "cell_type": "code",
      "execution_count": 1,
      "metadata": {
        "colab": {
          "base_uri": "https://localhost:8080/"
        },
        "id": "2VimzfCvxBHk",
        "outputId": "c1f05563-6a73-4fe2-ee99-97e5208e75f5"
      },
      "outputs": [
        {
          "output_type": "stream",
          "name": "stdout",
          "text": [
            "15\n"
          ]
        }
      ],
      "source": [
        "def fun():\n",
        "  x=15\n",
        "  print(x)\n",
        "x=12\n",
        "fun()"
      ]
    },
    {
      "cell_type": "code",
      "source": [
        "def fun():\n",
        "  x=10\n",
        "fun()\n",
        "print(x)"
      ],
      "metadata": {
        "colab": {
          "base_uri": "https://localhost:8080/"
        },
        "id": "4-m82DHUxpuI",
        "outputId": "3d9453c7-c96a-47a5-92c6-9b8e03b642d8"
      },
      "execution_count": 2,
      "outputs": [
        {
          "output_type": "stream",
          "name": "stdout",
          "text": [
            "12\n"
          ]
        }
      ]
    },
    {
      "cell_type": "code",
      "source": [
        "a='adii'\n",
        "b=2\n",
        "c=a*b\n",
        "print(c)"
      ],
      "metadata": {
        "colab": {
          "base_uri": "https://localhost:8080/"
        },
        "id": "XvjxD695y6Z9",
        "outputId": "e54108ee-6946-4083-c379-542cd79f4d7c"
      },
      "execution_count": 3,
      "outputs": [
        {
          "output_type": "stream",
          "name": "stdout",
          "text": [
            "adiiadii\n"
          ]
        }
      ]
    },
    {
      "cell_type": "code",
      "source": [
        "print('1','1','2023',sep='-')\n",
        "\n",
        "print('adii','pythoncode',sep='&')"
      ],
      "metadata": {
        "colab": {
          "base_uri": "https://localhost:8080/"
        },
        "id": "B4p74K6V_O41",
        "outputId": "2bb87cd3-f687-424a-f0dc-a1ed714bbd37"
      },
      "execution_count": 7,
      "outputs": [
        {
          "output_type": "stream",
          "name": "stdout",
          "text": [
            "1-1-2023\n",
            "adii&pythoncode\n"
          ]
        }
      ]
    },
    {
      "cell_type": "code",
      "source": [
        "print(\"my name is:\",\"Adii\")\n",
        "print(\"Hello Everyone\")"
      ],
      "metadata": {
        "colab": {
          "base_uri": "https://localhost:8080/"
        },
        "id": "tVXKzraJ_6AE",
        "outputId": "6f7ebad0-5702-4a71-cca3-f304bbe0f65a"
      },
      "execution_count": 8,
      "outputs": [
        {
          "output_type": "stream",
          "name": "stdout",
          "text": [
            "my name is: Adii\n",
            "Hello Everyone\n"
          ]
        }
      ]
    },
    {
      "cell_type": "code",
      "source": [
        "a=5\n",
        "b=3\n",
        "print(a,end=\" \")\n",
        "print(b)"
      ],
      "metadata": {
        "colab": {
          "base_uri": "https://localhost:8080/"
        },
        "id": "qZu8F4ZFArmK",
        "outputId": "abeddf67-ed2d-42fd-fa87-6efce3f8b833"
      },
      "execution_count": 9,
      "outputs": [
        {
          "output_type": "stream",
          "name": "stdout",
          "text": [
            "5 3\n"
          ]
        }
      ]
    },
    {
      "cell_type": "code",
      "source": [
        "s=\"a\"+\"Bc\"\n",
        "print(s)"
      ],
      "metadata": {
        "colab": {
          "base_uri": "https://localhost:8080/"
        },
        "id": "2EZIrEUpBYHu",
        "outputId": "6650cca2-e034-4886-b920-380114eef131"
      },
      "execution_count": 10,
      "outputs": [
        {
          "output_type": "stream",
          "name": "stdout",
          "text": [
            "aBc\n"
          ]
        }
      ]
    }
  ]
}