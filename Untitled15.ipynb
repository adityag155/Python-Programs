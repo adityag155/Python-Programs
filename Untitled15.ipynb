{
  "nbformat": 4,
  "nbformat_minor": 0,
  "metadata": {
    "colab": {
      "provenance": [],
      "authorship_tag": "ABX9TyNKlNu2mThXsridAZgotW5p",
      "include_colab_link": true
    },
    "kernelspec": {
      "name": "python3",
      "display_name": "Python 3"
    },
    "language_info": {
      "name": "python"
    }
  },
  "cells": [
    {
      "cell_type": "markdown",
      "metadata": {
        "id": "view-in-github",
        "colab_type": "text"
      },
      "source": [
        "<a href=\"https://colab.research.google.com/github/adityag155/Python-Programs/blob/main/Untitled15.ipynb\" target=\"_parent\"><img src=\"https://colab.research.google.com/assets/colab-badge.svg\" alt=\"Open In Colab\"/></a>"
      ]
    },
    {
      "cell_type": "code",
      "execution_count": 1,
      "metadata": {
        "colab": {
          "base_uri": "https://localhost:8080/"
        },
        "id": "7QDJRHSDkD-k",
        "outputId": "3dbcb35e-0f38-47bc-a022-d2f5c29400b3"
      },
      "outputs": [
        {
          "output_type": "stream",
          "name": "stdout",
          "text": [
            "The sum is: 40\n"
          ]
        }
      ],
      "source": [
        "#retrn keyword\n",
        "def sum(a,b):\n",
        "    c=a+b\n",
        "    return c\n",
        "print(\"The sum is:\",sum(25,15))\n"
      ]
    },
    {
      "cell_type": "code",
      "source": [
        "#is keyword \n",
        "x=5\n",
        "y=5\n",
        "a=[]\n",
        "b=[]\n",
        "print(x is y)\n",
        "print(a is b)\n"
      ],
      "metadata": {
        "colab": {
          "base_uri": "https://localhost:8080/"
        },
        "id": "5gRm6MD6kp3g",
        "outputId": "245ad804-91dd-4384-9902-db8beec8a212"
      },
      "execution_count": 2,
      "outputs": [
        {
          "output_type": "stream",
          "name": "stdout",
          "text": [
            "True\n",
            "False\n"
          ]
        }
      ]
    }
  ]
}