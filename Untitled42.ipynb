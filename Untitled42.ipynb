{
  "nbformat": 4,
  "nbformat_minor": 0,
  "metadata": {
    "colab": {
      "provenance": [],
      "authorship_tag": "ABX9TyPYkm2rAWmjvD0VD+ZyTpsb",
      "include_colab_link": true
    },
    "kernelspec": {
      "name": "python3",
      "display_name": "Python 3"
    },
    "language_info": {
      "name": "python"
    }
  },
  "cells": [
    {
      "cell_type": "markdown",
      "metadata": {
        "id": "view-in-github",
        "colab_type": "text"
      },
      "source": [
        "<a href=\"https://colab.research.google.com/github/adityag155/Python-Programs/blob/main/Untitled42.ipynb\" target=\"_parent\"><img src=\"https://colab.research.google.com/assets/colab-badge.svg\" alt=\"Open In Colab\"/></a>"
      ]
    },
    {
      "cell_type": "code",
      "source": [
        "#Parameterized Constructor in python:\n",
        "class Addition:\n",
        "    first = 0\n",
        "    second = 0\n",
        "    answer = 0\n",
        " \n",
        "    # parameterized constructor\n",
        "    def __init__(self, f, s):\n",
        "        self.first = f\n",
        "        self.second = s\n",
        " \n",
        "    def display(self):\n",
        "        print(\"First number = \" + str(self.first))\n",
        "        print(\"Second number = \" + str(self.second))\n",
        "        print(\"Addition of two numbers = \" + str(self.answer))\n",
        " \n",
        "    def calculate(self):\n",
        "        self.answer = self.first + self.second\n",
        " \n",
        " \n",
        "# creating object of the class\n",
        "# this will invoke parameterized constructor\n",
        "obj1 = Addition(1000, 2000)\n",
        " \n",
        "# creating second object of same class\n",
        "obj2 = Addition(10, 20)\n",
        " \n",
        "# perform Addition on obj1\n",
        "obj1.calculate()\n",
        " \n",
        "# perform Addition on obj2\n",
        "obj2.calculate()\n",
        " \n",
        "# display result of obj1\n",
        "obj1.display()\n",
        " \n",
        "# display result of obj2\n",
        "obj2.display()"
      ],
      "metadata": {
        "colab": {
          "base_uri": "https://localhost:8080/"
        },
        "id": "uOObJ82Flh6o",
        "outputId": "5ef5ec56-74fa-4ef4-8bd6-aa7b8bee1eff"
      },
      "execution_count": 6,
      "outputs": [
        {
          "output_type": "stream",
          "name": "stdout",
          "text": [
            "First number = 1000\n",
            "Second number = 2000\n",
            "Addition of two numbers = 3000\n",
            "First number = 10\n",
            "Second number = 20\n",
            "Addition of two numbers = 30\n"
          ]
        }
      ]
    }
  ]
}