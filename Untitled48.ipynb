{
  "nbformat": 4,
  "nbformat_minor": 0,
  "metadata": {
    "colab": {
      "provenance": [],
      "authorship_tag": "ABX9TyO3JV1yZj7nkWtcLlzxI7yE",
      "include_colab_link": true
    },
    "kernelspec": {
      "name": "python3",
      "display_name": "Python 3"
    },
    "language_info": {
      "name": "python"
    }
  },
  "cells": [
    {
      "cell_type": "markdown",
      "metadata": {
        "id": "view-in-github",
        "colab_type": "text"
      },
      "source": [
        "<a href=\"https://colab.research.google.com/github/adityag155/Python-Programs/blob/main/Untitled48.ipynb\" target=\"_parent\"><img src=\"https://colab.research.google.com/assets/colab-badge.svg\" alt=\"Open In Colab\"/></a>"
      ]
    },
    {
      "cell_type": "code",
      "execution_count": 1,
      "metadata": {
        "colab": {
          "base_uri": "https://localhost:8080/"
        },
        "id": "am6myAlMM3bl",
        "outputId": "f4fb2991-9d60-4952-9f5c-ff5082af4158"
      },
      "outputs": [
        {
          "output_type": "stream",
          "name": "stdout",
          "text": [
            "1\n",
            "2\n",
            "3\n"
          ]
        }
      ],
      "source": [
        "#yield keyword\n",
        "def fun_Generator():\n",
        "    yield 1\n",
        "    yield 2\n",
        "    yield 3\n",
        "for value in fun_Generator():\n",
        "    print(value)\n"
      ]
    },
    {
      "cell_type": "code",
      "source": [
        "#None keyword\n",
        "def return_none():\n",
        "    a=10\n",
        "    b=20\n",
        "    c=a+b\n",
        "x=return_none()\n",
        "print(x)"
      ],
      "metadata": {
        "colab": {
          "base_uri": "https://localhost:8080/"
        },
        "id": "cTkBi0enNlRg",
        "outputId": "cce359b0-563e-4317-98ad-6e5974ae2ce0"
      },
      "execution_count": 2,
      "outputs": [
        {
          "output_type": "stream",
          "name": "stdout",
          "text": [
            "None\n"
          ]
        }
      ]
    },
    {
      "cell_type": "code",
      "source": [
        "#single line string\n",
        "text1='hello python'\n",
        "print(text1)"
      ],
      "metadata": {
        "colab": {
          "base_uri": "https://localhost:8080/"
        },
        "id": "UsmU8MomN1QR",
        "outputId": "1fb3539b-d2d6-49c4-d74d-e703e15ecb02"
      },
      "execution_count": 3,
      "outputs": [
        {
          "output_type": "stream",
          "name": "stdout",
          "text": [
            "hello python\n"
          ]
        }
      ]
    },
    {
      "cell_type": "code",
      "source": [
        "#1]Adding black slash at the end of each line\n",
        "text1='hello\\\n",
        "user'\n",
        "print(text1)\n"
      ],
      "metadata": {
        "colab": {
          "base_uri": "https://localhost:8080/"
        },
        "id": "LN8LNnYtPDsI",
        "outputId": "a17d9bb3-a4d8-4f2c-feca-d12f752715bb"
      },
      "execution_count": 4,
      "outputs": [
        {
          "output_type": "stream",
          "name": "stdout",
          "text": [
            "hellouser\n"
          ]
        }
      ]
    },
    {
      "cell_type": "code",
      "source": [
        "#2]Ussing triple quotation marks\n",
        "str2='''''welcome\n",
        "to\n",
        "SSSIT'''\n",
        "print(str2)\n"
      ],
      "metadata": {
        "colab": {
          "base_uri": "https://localhost:8080/"
        },
        "id": "BfAJhV51PUdS",
        "outputId": "2aae0ff2-91e8-4972-cdfa-8872267167ba"
      },
      "execution_count": 5,
      "outputs": [
        {
          "output_type": "stream",
          "name": "stdout",
          "text": [
            "''welcome\n",
            "to\n",
            "SSSIT\n"
          ]
        }
      ]
    },
    {
      "cell_type": "code",
      "source": [
        "#Numeric Literals\n",
        "x = 0b10100 #Binary Literals  \n",
        "y = 100 #Decimal Literal   \n",
        "z = 0o215 #Octal Literal  \n",
        "u = 0x12d #Hexadecimal Literal  \n",
        "  \n",
        "#Float Literal  \n",
        "float_1 = 100.5   \n",
        "float_2 = 1.5e2  \n",
        "  \n",
        "#Complex Literal   \n",
        "a = 5+3.14j  \n",
        "  \n",
        "print(x, y, z, u)  \n",
        "print(float_1, float_2)  \n",
        "print(a, a.imag, a.real)  "
      ],
      "metadata": {
        "colab": {
          "base_uri": "https://localhost:8080/"
        },
        "id": "_GbgdCwpPZQo",
        "outputId": "dfab30a7-4dfa-4e4b-f608-126dc343374c"
      },
      "execution_count": 6,
      "outputs": [
        {
          "output_type": "stream",
          "name": "stdout",
          "text": [
            "20 100 141 301\n",
            "100.5 150.0\n",
            "(5+3.14j) 3.14 5.0\n"
          ]
        }
      ]
    },
    {
      "cell_type": "code",
      "source": [
        "#Boolean literals\n",
        "A Boolean literal can have any of the two values: True or False.\n",
        "\n",
        "#Boolean literals\n",
        "x = (1 == True)  \n",
        "y = (2 == False)  \n",
        "z = (3 == True)  \n",
        "a = True + 10  \n",
        "b = False + 10  \n",
        "  \n",
        "print(\"x is\", x)  \n",
        "print(\"y is\", y)  \n",
        "print(\"z is\", z)  \n",
        "print(\"a:\", a)  \n",
        "print(\"b:\", b) "
      ],
      "metadata": {
        "colab": {
          "base_uri": "https://localhost:8080/",
          "height": 130
        },
        "id": "7ToSPV3ePqYg",
        "outputId": "89c46465-b4d3-4045-f768-8c4b8b7778f7"
      },
      "execution_count": 7,
      "outputs": [
        {
          "output_type": "error",
          "ename": "SyntaxError",
          "evalue": "ignored",
          "traceback": [
            "\u001b[0;36m  File \u001b[0;32m\"<ipython-input-7-eae0294e3c14>\"\u001b[0;36m, line \u001b[0;32m2\u001b[0m\n\u001b[0;31m    A Boolean literal can have any of the two values: True or False.\u001b[0m\n\u001b[0m      ^\u001b[0m\n\u001b[0;31mSyntaxError\u001b[0m\u001b[0;31m:\u001b[0m invalid syntax\n"
          ]
        }
      ]
    },
    {
      "cell_type": "code",
      "source": [
        "#Special literals[None]:\n",
        "#Python contains one special literal i.e., None.\n",
        "#None is used to specify to that field that is not created. It is also used for the end of lists in Python.\n",
        "\n",
        "#Special literals[None]\n",
        "\n",
        "val1=10\n",
        "\n",
        "val2=None\n",
        "\n",
        "print(val1)\n",
        "\n",
        "print(val2)\n"
      ],
      "metadata": {
        "colab": {
          "base_uri": "https://localhost:8080/"
        },
        "id": "B0hcOMvrPzDn",
        "outputId": "5ab116a8-fba9-4e75-9b22-4aa36b7aa029"
      },
      "execution_count": 8,
      "outputs": [
        {
          "output_type": "stream",
          "name": "stdout",
          "text": [
            "10\n",
            "None\n"
          ]
        }
      ]
    }
  ]
}