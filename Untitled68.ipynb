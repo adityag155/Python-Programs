{
  "nbformat": 4,
  "nbformat_minor": 0,
  "metadata": {
    "colab": {
      "provenance": [],
      "authorship_tag": "ABX9TyMTs7avh+vc97NWCrYPTSKJ",
      "include_colab_link": true
    },
    "kernelspec": {
      "name": "python3",
      "display_name": "Python 3"
    },
    "language_info": {
      "name": "python"
    }
  },
  "cells": [
    {
      "cell_type": "markdown",
      "metadata": {
        "id": "view-in-github",
        "colab_type": "text"
      },
      "source": [
        "<a href=\"https://colab.research.google.com/github/adityag155/Python-Programs/blob/main/Untitled68.ipynb\" target=\"_parent\"><img src=\"https://colab.research.google.com/assets/colab-badge.svg\" alt=\"Open In Colab\"/></a>"
      ]
    },
    {
      "cell_type": "code",
      "execution_count": 1,
      "metadata": {
        "colab": {
          "base_uri": "https://localhost:8080/"
        },
        "id": "khWdvMZzL0Jb",
        "outputId": "679fe48e-48f2-4d7a-cd94-71e930d3bab8"
      },
      "outputs": [
        {
          "output_type": "stream",
          "name": "stdout",
          "text": [
            "The original dictionary is:{'Gfg': 1, 'is': 3, 'Best': 2}\n",
            "The ordered keys and values:['Gfg', 'is', 'Best', 1, 3, 2]\n"
          ]
        }
      ],
      "source": [
        "#Python append dictionary keys and values (in order)in dictionary:\n",
        "\n",
        "#Initializing dictionary:\n",
        "test_dict = {\"Gfg\": 1, \"is\": 3, \"Best\": 2}\n",
        "\n",
        "#Printing original dictionary:\n",
        "print(\"The original dictionary is:\"+str(test_dict))\n",
        "\n",
        "# +operator is used to perform adding keys and values:\n",
        "res = list(test_dict.keys())+list(test_dict.values())\n",
        "\n",
        "#Printing result:\n",
        "print(\"The ordered keys and values:\"+str(res))\n"
      ]
    },
    {
      "cell_type": "code",
      "source": [
        "#Python sort Python Dictionaries by key or values:\n",
        "\n",
        "# Function calling\n",
        "def dictionairy():\n",
        " # Declare hash function     \n",
        " key_value ={}   \n",
        " \n",
        "# Initializing value\n",
        " key_value[2] = 56      \n",
        " key_value[1] = 2\n",
        " key_value[5] = 12\n",
        " key_value[4] = 24\n",
        " key_value[6] = 18     \n",
        " key_value[3] = 323\n",
        " \n",
        " print (\"Task 1:-\\n\")\n",
        " print (\"Keys are\")\n",
        "  \n",
        " # iterkeys() returns an iterator over the\n",
        " # dictionary’s keys.\n",
        " for i in sorted (key_value.keys()) :\n",
        "     print(i, end = \" \")\n",
        " \n",
        "def main():\n",
        "    # function calling\n",
        "    dictionairy()            \n",
        "     \n",
        "# Main function calling\n",
        "if __name__==\"__main__\":     \n",
        " \n",
        "   main()"
      ],
      "metadata": {
        "colab": {
          "base_uri": "https://localhost:8080/"
        },
        "id": "MINRma2aQiNS",
        "outputId": "954669e0-7538-40b3-88e1-4fb384c5a518"
      },
      "execution_count": 3,
      "outputs": [
        {
          "output_type": "stream",
          "name": "stdout",
          "text": [
            "Task 1:-\n",
            "\n",
            "Keys are\n",
            "1 2 3 4 5 6 "
          ]
        }
      ]
    },
    {
      "cell_type": "code",
      "source": [],
      "metadata": {
        "id": "dDLgzdPDTpQy"
      },
      "execution_count": null,
      "outputs": []
    }
  ]
}