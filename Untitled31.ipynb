{
  "nbformat": 4,
  "nbformat_minor": 0,
  "metadata": {
    "colab": {
      "provenance": [],
      "authorship_tag": "ABX9TyOphKR9Vax8v/uTWqm7mbc9",
      "include_colab_link": true
    },
    "kernelspec": {
      "name": "python3",
      "display_name": "Python 3"
    },
    "language_info": {
      "name": "python"
    }
  },
  "cells": [
    {
      "cell_type": "markdown",
      "metadata": {
        "id": "view-in-github",
        "colab_type": "text"
      },
      "source": [
        "<a href=\"https://colab.research.google.com/github/adityag155/Python-Programs/blob/main/Untitled31.ipynb\" target=\"_parent\"><img src=\"https://colab.research.google.com/assets/colab-badge.svg\" alt=\"Open In Colab\"/></a>"
      ]
    },
    {
      "cell_type": "code",
      "execution_count": 1,
      "metadata": {
        "colab": {
          "base_uri": "https://localhost:8080/"
        },
        "id": "qtKQLNeeHjfG",
        "outputId": "70338bf3-f20b-42c0-d46e-b890ba775167"
      },
      "outputs": [
        {
          "output_type": "stream",
          "name": "stdout",
          "text": [
            "Yes\n"
          ]
        }
      ],
      "source": [
        "#Pthon progran to check if a string is palindrome or not:\n",
        "\n",
        "def isPalindrome(str):\n",
        "    \n",
        "    #Run loop from 0 to len/2\n",
        "    for i in range(0, int(len(str)/2)):\n",
        "        if str[i] != str[len(str)-i-1]:\n",
        "            return False\n",
        "    return True\n",
        "\n",
        "#main function:\n",
        "s = \"malayalam\"\n",
        "ans = isPalindrome(s)\n",
        "\n",
        "if(ans):\n",
        "    print(\"Yes\")\n",
        "else:\n",
        "    print(\"No\")\n"
      ]
    },
    {
      "cell_type": "code",
      "source": [
        "#Reverse words in a given string in python:\n",
        "\n",
        "def rev_sentence(sentence):\n",
        "    \n",
        "    #First split the string into words:\n",
        "    words = sentence.split(' ')\n",
        "    \n",
        "    #then reverse the split string list and join using space:\n",
        "    reverse_sentence = ' '.join(reversed(words))\n",
        "    \n",
        "    #finally return the joined string \n",
        "    return reverse_sentence\n",
        "\n",
        "if __name__ == \"__main__\":\n",
        "    input = 'geeks quiz pratice code'\n",
        "    print(rev_sentence(input))\n"
      ],
      "metadata": {
        "colab": {
          "base_uri": "https://localhost:8080/"
        },
        "id": "3RryHelVIOFS",
        "outputId": "92707e8b-49a9-4023-b1cc-1ceb37ecea1f"
      },
      "execution_count": 3,
      "outputs": [
        {
          "output_type": "stream",
          "name": "stdout",
          "text": [
            "code pratice quiz geeks\n"
          ]
        }
      ]
    }
  ]
}