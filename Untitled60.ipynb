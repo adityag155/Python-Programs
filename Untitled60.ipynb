{
  "nbformat": 4,
  "nbformat_minor": 0,
  "metadata": {
    "colab": {
      "provenance": [],
      "authorship_tag": "ABX9TyMK73DfWFxZarZPDPpqe6vk",
      "include_colab_link": true
    },
    "kernelspec": {
      "name": "python3",
      "display_name": "Python 3"
    },
    "language_info": {
      "name": "python"
    }
  },
  "cells": [
    {
      "cell_type": "markdown",
      "metadata": {
        "id": "view-in-github",
        "colab_type": "text"
      },
      "source": [
        "<a href=\"https://colab.research.google.com/github/adityag155/Python-Programs/blob/main/Untitled60.ipynb\" target=\"_parent\"><img src=\"https://colab.research.google.com/assets/colab-badge.svg\" alt=\"Open In Colab\"/></a>"
      ]
    },
    {
      "cell_type": "code",
      "execution_count": 1,
      "metadata": {
        "colab": {
          "base_uri": "https://localhost:8080/"
        },
        "id": "WCmy4E8cFsBc",
        "outputId": "196b5481-66c5-4cc9-cdda-1f54d774cb7d"
      },
      "outputs": [
        {
          "output_type": "stream",
          "name": "stdout",
          "text": [
            "Enter lower range:12\n",
            "Enter upper range:30\n",
            "13\n",
            "17\n",
            "19\n",
            "23\n",
            "29\n"
          ]
        }
      ],
      "source": [
        "#Python program to print all prrime numbers in an Interval:\n",
        "\n",
        "\n",
        "lower=int(input(\"Enter lower range:\"))\n",
        "\n",
        "upper=int(input(\"Enter upper range:\"))\n",
        "\n",
        "for num in range(lower,upper+1):\n",
        "\n",
        "    if num>1:\n",
        "\n",
        "        for i in range(2,num):\n",
        "\n",
        "            if(num%i)==0:\n",
        "\n",
        "             break\n",
        "\n",
        "        else:\n",
        "\n",
        "            print(num)\n"
      ]
    },
    {
      "cell_type": "code",
      "source": [
        "#Python program to check whether a number is prime or not:\n",
        "\n",
        "\n",
        "num=int(input(\"Enter a number:\"))\n",
        "\n",
        "if num>>1:\n",
        "\n",
        "    for i in range(2,num):\n",
        "\n",
        "        print(num,\"is not a prime number\")\n",
        "\n",
        "        print(i,\"times\",num//i,\"is\",num)\n",
        "\n",
        "        break\n",
        "\n",
        "    else:\n",
        "\n",
        "        print(num,\"is a prime number\")\n",
        "\n",
        "else:\n",
        "\n",
        "        print(num,\"is not a prime number\")\n"
      ],
      "metadata": {
        "colab": {
          "base_uri": "https://localhost:8080/"
        },
        "id": "bTJ3D0gvIHP2",
        "outputId": "b2379eef-bad8-4a7f-b2d1-67193f85a2a8"
      },
      "execution_count": 3,
      "outputs": [
        {
          "output_type": "stream",
          "name": "stdout",
          "text": [
            "Enter a number:5\n",
            "5 is not a prime number\n",
            "2 times 2 is 5\n"
          ]
        }
      ]
    },
    {
      "cell_type": "code",
      "source": [
        "#python program for how to check if a given number is fibonacci number\n",
        "\n",
        "\n",
        "import math\n",
        "\n",
        "n = int(input(\"Please enter the integer value to check Fibonacci number: \"))\n",
        "\n",
        "def check_perfect_square(m):\n",
        "\n",
        "    n = int(math.sqrt(m))\n",
        "\n",
        "    return n*n == m\n",
        "\n",
        "   \n",
        "def check_fibo(m):\n",
        "\n",
        "    return check_perfect_square(5*m*m + 4) or check_perfect_square(5*m*m - 4)\n",
        "\n",
        "if(check_fibo(n) == True):\n",
        "\n",
        "    print( n,\" is Fibonacci number\")\n",
        "\n",
        "else:\n",
        "\n",
        "    print( n,\" is not Fibnacci number\")"
      ],
      "metadata": {
        "colab": {
          "base_uri": "https://localhost:8080/"
        },
        "id": "DEwtUlCoI7NM",
        "outputId": "daa10e64-1afe-4858-d2f5-284108408bd8"
      },
      "execution_count": 4,
      "outputs": [
        {
          "output_type": "stream",
          "name": "stdout",
          "text": [
            "Please enter the integer value to check Fibonacci number: 12\n",
            "12  is not Fibnacci number\n"
          ]
        }
      ]
    },
    {
      "cell_type": "code",
      "source": [
        "#Python program for n\\'th multiple of a number in Fibonacci series\n",
        "\n",
        "\n",
        "def find(k, n):\n",
        "\n",
        "    f1 = 0\n",
        " \n",
        "   f2 = 1\n",
        "\n",
        "    i = 2;\n",
        "\n",
        "    while i!=0:\n",
        "\n",
        "        f3 = f1 + f2;\n",
        "\n",
        "        f1 = f2;\n",
        "\n",
        "        f2 = f3;\n",
        "\n",
        "        if f2%k == 0:\n",
        "\n",
        "            return n*i\n",
        "\n",
        "        i+=1\n",
        "\n",
        "n = 5;\n",
        "k = 4;\n",
        "\n",
        "print(\"Position of n\\'th multiple of k in\"\"Fibonacci Series is: \",find(k,n));"
      ],
      "metadata": {
        "colab": {
          "base_uri": "https://localhost:8080/",
          "height": 130
        },
        "id": "_HiiNQGGKKXw",
        "outputId": "7feed19e-0c54-474e-f26c-5aa77fe1dd6c"
      },
      "execution_count": 6,
      "outputs": [
        {
          "output_type": "error",
          "ename": "IndentationError",
          "evalue": "ignored",
          "traceback": [
            "\u001b[0;36m  File \u001b[0;32m\"<tokenize>\"\u001b[0;36m, line \u001b[0;32m8\u001b[0m\n\u001b[0;31m    f2 = 1\u001b[0m\n\u001b[0m    ^\u001b[0m\n\u001b[0;31mIndentationError\u001b[0m\u001b[0;31m:\u001b[0m unindent does not match any outer indentation level\n"
          ]
        }
      ]
    }
  ]
}