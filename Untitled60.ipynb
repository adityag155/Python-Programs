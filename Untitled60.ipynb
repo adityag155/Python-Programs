{
  "nbformat": 4,
  "nbformat_minor": 0,
  "metadata": {
    "colab": {
      "provenance": [],
      "authorship_tag": "ABX9TyOVoXuO/HN4fBfqdVyoY+O3",
      "include_colab_link": true
    },
    "kernelspec": {
      "name": "python3",
      "display_name": "Python 3"
    },
    "language_info": {
      "name": "python"
    }
  },
  "cells": [
    {
      "cell_type": "markdown",
      "metadata": {
        "id": "view-in-github",
        "colab_type": "text"
      },
      "source": [
        "<a href=\"https://colab.research.google.com/github/adityag155/Python-Programs/blob/main/Untitled60.ipynb\" target=\"_parent\"><img src=\"https://colab.research.google.com/assets/colab-badge.svg\" alt=\"Open In Colab\"/></a>"
      ]
    },
    {
      "cell_type": "code",
      "execution_count": 1,
      "metadata": {
        "colab": {
          "base_uri": "https://localhost:8080/"
        },
        "id": "WCmy4E8cFsBc",
        "outputId": "196b5481-66c5-4cc9-cdda-1f54d774cb7d"
      },
      "outputs": [
        {
          "output_type": "stream",
          "name": "stdout",
          "text": [
            "Enter lower range:12\n",
            "Enter upper range:30\n",
            "13\n",
            "17\n",
            "19\n",
            "23\n",
            "29\n"
          ]
        }
      ],
      "source": [
        "#Python program to print all prrime numbers in an Interval:\n",
        "\n",
        "\n",
        "lower=int(input(\"Enter lower range:\"))\n",
        "\n",
        "upper=int(input(\"Enter upper range:\"))\n",
        "\n",
        "for num in range(lower,upper+1):\n",
        "\n",
        "    if num>1:\n",
        "\n",
        "        for i in range(2,num):\n",
        "\n",
        "            if(num%i)==0:\n",
        "\n",
        "             break\n",
        "\n",
        "        else:\n",
        "\n",
        "            print(num)\n"
      ]
    },
    {
      "cell_type": "code",
      "source": [
        "#Python program to check whether a number is prime or not:\n",
        "\n",
        "\n",
        "num=int(input(\"Enter a number:\"))\n",
        "\n",
        "if num>>1:\n",
        "\n",
        "    for i in range(2,num):\n",
        "\n",
        "        print(num,\"is not a prime number\")\n",
        "\n",
        "        print(i,\"times\",num//i,\"is\",num)\n",
        "\n",
        "        break\n",
        "\n",
        "    else:\n",
        "\n",
        "        print(num,\"is a prime number\")\n",
        "\n",
        "else:\n",
        "\n",
        "        print(num,\"is not a prime number\")\n"
      ],
      "metadata": {
        "colab": {
          "base_uri": "https://localhost:8080/"
        },
        "id": "bTJ3D0gvIHP2",
        "outputId": "b2379eef-bad8-4a7f-b2d1-67193f85a2a8"
      },
      "execution_count": 3,
      "outputs": [
        {
          "output_type": "stream",
          "name": "stdout",
          "text": [
            "Enter a number:5\n",
            "5 is not a prime number\n",
            "2 times 2 is 5\n"
          ]
        }
      ]
    }
  ]
}