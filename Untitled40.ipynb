{
  "nbformat": 4,
  "nbformat_minor": 0,
  "metadata": {
    "colab": {
      "provenance": [],
      "authorship_tag": "ABX9TyOLXjNNc0xm6twbaiLaxWtH",
      "include_colab_link": true
    },
    "kernelspec": {
      "name": "python3",
      "display_name": "Python 3"
    },
    "language_info": {
      "name": "python"
    }
  },
  "cells": [
    {
      "cell_type": "markdown",
      "metadata": {
        "id": "view-in-github",
        "colab_type": "text"
      },
      "source": [
        "<a href=\"https://colab.research.google.com/github/adityag155/Python-Programs/blob/main/Untitled40.ipynb\" target=\"_parent\"><img src=\"https://colab.research.google.com/assets/colab-badge.svg\" alt=\"Open In Colab\"/></a>"
      ]
    },
    {
      "cell_type": "code",
      "execution_count": 1,
      "metadata": {
        "colab": {
          "base_uri": "https://localhost:8080/"
        },
        "id": "DOLx2pH2_MGL",
        "outputId": "4bb90959-6e48-4136-fbdf-8f30ebfe33ee"
      },
      "outputs": [
        {
          "output_type": "stream",
          "name": "stdout",
          "text": [
            "Accepted\n"
          ]
        }
      ],
      "source": [
        "# python program to accept the strings which contains all vowels:\n",
        "\n",
        "def check(string):\n",
        "    string = string.lower()\n",
        "    \n",
        "    vowels = set(\"aeiou\")\n",
        "    \n",
        "    s = set({})\n",
        "    for char in string:\n",
        "        \n",
        "        if char in vowels:\n",
        "            s.add(char)\n",
        "        else:\n",
        "            pass\n",
        "    if len(s) == len(vowels):\n",
        "        print(\"Accepted\")\n",
        "    else:\n",
        "        print(\"Not Accepted\")\n",
        "\n",
        "#Driver code:\n",
        "if __name__ == \"__main__\":\n",
        "    string = \"SEEquoiaL\"\n",
        "    #callimg function\n",
        "    check(string)\n"
      ]
    }
  ]
}