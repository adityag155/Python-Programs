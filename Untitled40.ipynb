{
  "nbformat": 4,
  "nbformat_minor": 0,
  "metadata": {
    "colab": {
      "provenance": [],
      "authorship_tag": "ABX9TyNIosSj+5QQzioZvCO5GfC1",
      "include_colab_link": true
    },
    "kernelspec": {
      "name": "python3",
      "display_name": "Python 3"
    },
    "language_info": {
      "name": "python"
    }
  },
  "cells": [
    {
      "cell_type": "markdown",
      "metadata": {
        "id": "view-in-github",
        "colab_type": "text"
      },
      "source": [
        "<a href=\"https://colab.research.google.com/github/adityag155/Python-Programs/blob/main/Untitled40.ipynb\" target=\"_parent\"><img src=\"https://colab.research.google.com/assets/colab-badge.svg\" alt=\"Open In Colab\"/></a>"
      ]
    },
    {
      "cell_type": "code",
      "execution_count": 1,
      "metadata": {
        "colab": {
          "base_uri": "https://localhost:8080/"
        },
        "id": "DOLx2pH2_MGL",
        "outputId": "4bb90959-6e48-4136-fbdf-8f30ebfe33ee"
      },
      "outputs": [
        {
          "output_type": "stream",
          "name": "stdout",
          "text": [
            "Accepted\n"
          ]
        }
      ],
      "source": [
        "# python program to accept the strings which contains all vowels:\n",
        "\n",
        "def check(string):\n",
        "    string = string.lower()\n",
        "    \n",
        "    vowels = set(\"aeiou\")\n",
        "    \n",
        "    s = set({})\n",
        "    for char in string:\n",
        "        \n",
        "        if char in vowels:\n",
        "            s.add(char)\n",
        "        else:\n",
        "            pass\n",
        "    if len(s) == len(vowels):\n",
        "        print(\"Accepted\")\n",
        "    else:\n",
        "        print(\"Not Accepted\")\n",
        "\n",
        "#Driver code:\n",
        "if __name__ == \"__main__\":\n",
        "    string = \"SEEquoiaL\"\n",
        "    #callimg function\n",
        "    check(string)\n"
      ]
    },
    {
      "cell_type": "code",
      "source": [
        "# python count the number of matching chaacters in a pair of string:\n",
        "\n",
        "def count(str1, str2): \n",
        "    c, j = 0, 0\n",
        "      \n",
        "    for i in str1:    \n",
        "          \n",
        "        if str2.find(i)>= 0 and j == str1.find(i): \n",
        "            c += 1\n",
        "        j += 1\n",
        "    print ('No. of matching characters are : ', c)\n",
        "  \n",
        "# Main function\n",
        "def main(): \n",
        "    str1 ='aabcddekll12@' # first string\n",
        "    str2 ='bb2211@55k' # second string\n",
        "    count(str1, str2) # calling count function \n",
        "  \n",
        "# Driver Code\n",
        "if __name__==\"__main__\":\n",
        "    main()\n"
      ],
      "metadata": {
        "colab": {
          "base_uri": "https://localhost:8080/"
        },
        "id": "Y-D_2sNCAeYV",
        "outputId": "eb236e5a-bcf8-4b3e-9b4c-2019ac264082"
      },
      "execution_count": 2,
      "outputs": [
        {
          "output_type": "stream",
          "name": "stdout",
          "text": [
            "No. of matching characters are :  5\n"
          ]
        }
      ]
    },
    {
      "cell_type": "code",
      "source": [
        "# Remove all duplicate from a given string in python:\n",
        "\n",
        "from collections import OrderedDict\n",
        "\n",
        "def remove_duplicate(s):\n",
        "    string=set(s)\n",
        "    string=\"\".join(string)\n",
        "    dup=\"\"\n",
        "    for i in s:\n",
        "        if(i in dup):\n",
        "            pass\n",
        "        else:\n",
        "            dup=dup+i\n",
        "    print(\"After removing: \",dup)\n",
        "    \n",
        "s=\"stdsrdthw\"\n",
        "print(s)\n",
        "print(remove_duplicate(s))\n"
      ],
      "metadata": {
        "colab": {
          "base_uri": "https://localhost:8080/"
        },
        "id": "cMt3ii_oAx-r",
        "outputId": "19a4e81c-1739-4cbc-f161-314da84fe85a"
      },
      "execution_count": 3,
      "outputs": [
        {
          "output_type": "stream",
          "name": "stdout",
          "text": [
            "stdsrdthw\n",
            "After removing:  stdrhw\n",
            "None\n"
          ]
        }
      ]
    },
    {
      "cell_type": "code",
      "source": [
        "# Python program to check if string contains any special character:\n",
        "\n",
        "import re\n",
        "\n",
        "def run(string):\n",
        "    regex = re.compile('[@_!#$%^&*()<>?/\\|}{~:]')\n",
        "    \n",
        "    if(regex.search(string) == None):\n",
        "        print(\"String is accepted\")\n",
        "    else:\n",
        "        print(\"String is not accepted\")\n",
        "\n",
        "#Driver code:\n",
        "if __name__ == '__main__':\n",
        "    #Enter the string:\n",
        "    string = \"Geeks$For$Geeks\"\n",
        "    \n",
        "    #Calling run function:\n",
        "    run(string)\n"
      ],
      "metadata": {
        "id": "4gVdcMXZBXBp",
        "outputId": "d1d96fdb-7a38-4a86-89f4-6187dfd85d6c",
        "colab": {
          "base_uri": "https://localhost:8080/"
        }
      },
      "execution_count": 4,
      "outputs": [
        {
          "output_type": "stream",
          "name": "stdout",
          "text": [
            "String is not accepted\n"
          ]
        }
      ]
    }
  ]
}