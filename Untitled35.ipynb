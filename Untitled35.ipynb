{
  "nbformat": 4,
  "nbformat_minor": 0,
  "metadata": {
    "colab": {
      "provenance": [],
      "authorship_tag": "ABX9TyNx3mg4Bef8xMyeSh1wwcJI",
      "include_colab_link": true
    },
    "kernelspec": {
      "name": "python3",
      "display_name": "Python 3"
    },
    "language_info": {
      "name": "python"
    }
  },
  "cells": [
    {
      "cell_type": "markdown",
      "metadata": {
        "id": "view-in-github",
        "colab_type": "text"
      },
      "source": [
        "<a href=\"https://colab.research.google.com/github/adityag155/Python-Programs/blob/main/Untitled35.ipynb\" target=\"_parent\"><img src=\"https://colab.research.google.com/assets/colab-badge.svg\" alt=\"Open In Colab\"/></a>"
      ]
    },
    {
      "cell_type": "code",
      "execution_count": 5,
      "metadata": {
        "colab": {
          "base_uri": "https://localhost:8080/"
        },
        "id": "kcpCP9ylRqF-",
        "outputId": "e7351161-3fac-4528-a3b5-e2dfa54f5a85"
      },
      "outputs": [
        {
          "output_type": "stream",
          "name": "stdout",
          "text": [
            "cake\n",
            "cake\n",
            "Chocolae\n",
            "Black Current\n",
            "150\n",
            "200\n"
          ]
        }
      ],
      "source": [
        "#Static variable:\n",
        "\n",
        "class Bakery:\n",
        "  type='cake'\n",
        "  def __init__(self,flavor,price):\n",
        "    self.flavor = flavor\n",
        "    self.price=price\n",
        "\n",
        "a=Bakery('Chocolae',150)\n",
        "b=Bakery('Black Current',200)\n",
        "\n",
        "print(a.type)\n",
        "print(b.type)\n",
        "\n",
        "print(a.flavor)\n",
        "print(b.flavor)\n",
        "\n",
        "print(a.price)\n",
        "print(b.price)"
      ]
    },
    {
      "cell_type": "code",
      "source": [
        "class Bakery:\n",
        "    type = 'cake'                  # Class Variable\n",
        "    def __init__(self,flavor,price):\n",
        "        self.flavor = flavor            # Instance Variable\n",
        "        self.price = price            # Instance Variable\n",
        " \n",
        "# Objects of Bakery class\n",
        "a = Bakery('Butterscotch Cake', 300)\n",
        "b = Bakery('Chocolate-Truffle Cake', 250)\n",
        " \n",
        "print(a.type)  # prints \"cake\"\n",
        "print(b.type)  # prints \"cake\"\n",
        "print(a.flavor)    # prints \"Butterscotch Cake\"\n",
        "print(b.flavor)    # prints \"Chocolate-Truffle Cake\"\n",
        "print(a.price)    # prints \"300\"\n",
        "print(b.price) "
      ],
      "metadata": {
        "colab": {
          "base_uri": "https://localhost:8080/"
        },
        "id": "7yOHD-rNTswz",
        "outputId": "c56fe38a-add4-4089-98b4-9737af44f086"
      },
      "execution_count": 4,
      "outputs": [
        {
          "output_type": "stream",
          "name": "stdout",
          "text": [
            "cake\n",
            "cake\n",
            "Butterscotch Cake\n",
            "Chocolate-Truffle Cake\n",
            "300\n",
            "250\n"
          ]
        }
      ]
    },
    {
      "cell_type": "code",
      "source": [
        "class Employee:\n",
        "    @staticmethod\n",
        "    def sample(x):\n",
        "        print('Inside static method', x)\n",
        "\n",
        "# call static method\n",
        "Employee.sample(10)\n",
        "\n",
        "# can be called using object\n",
        "emp = Employee()\n",
        "emp.sample(10)"
      ],
      "metadata": {
        "colab": {
          "base_uri": "https://localhost:8080/"
        },
        "id": "wA5HreDhgJBY",
        "outputId": "cd245818-51c4-4b10-d6e5-74aa8453d978"
      },
      "execution_count": 7,
      "outputs": [
        {
          "output_type": "stream",
          "name": "stdout",
          "text": [
            "Inside static method 10\n",
            "Inside static method 10\n"
          ]
        }
      ]
    }
  ]
}