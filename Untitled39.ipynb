{
  "nbformat": 4,
  "nbformat_minor": 0,
  "metadata": {
    "colab": {
      "provenance": [],
      "authorship_tag": "ABX9TyPadtUsPBEhNMaDynFa1HuU",
      "include_colab_link": true
    },
    "kernelspec": {
      "name": "python3",
      "display_name": "Python 3"
    },
    "language_info": {
      "name": "python"
    }
  },
  "cells": [
    {
      "cell_type": "markdown",
      "metadata": {
        "id": "view-in-github",
        "colab_type": "text"
      },
      "source": [
        "<a href=\"https://colab.research.google.com/github/adityag155/Python-Programs/blob/main/Untitled39.ipynb\" target=\"_parent\"><img src=\"https://colab.research.google.com/assets/colab-badge.svg\" alt=\"Open In Colab\"/></a>"
      ]
    },
    {
      "cell_type": "code",
      "execution_count": 1,
      "metadata": {
        "colab": {
          "base_uri": "https://localhost:8080/"
        },
        "id": "pTf85uod906m",
        "outputId": "26af7710-4ddc-4a8a-edf8-55bfb6ed70a2"
      },
      "outputs": [
        {
          "output_type": "stream",
          "name": "stdout",
          "text": [
            "Yes\n"
          ]
        }
      ],
      "source": [
        "#Pthon progran to check if a string is palindrome or not:\n",
        "\n",
        "def isPalindrome(str):\n",
        "    \n",
        "    #Run loop from 0 to len/2\n",
        "    for i in range(0, int(len(str)/2)):\n",
        "        if str[i] != str[len(str)-i-1]:\n",
        "            return False\n",
        "    return True\n",
        "\n",
        "#main function:\n",
        "s = \"malayalam\"\n",
        "ans = isPalindrome(s)\n",
        "\n",
        "if(ans):\n",
        "    print(\"Yes\")\n",
        "else:\n",
        "    print(\"No\")\n"
      ]
    },
    {
      "cell_type": "code",
      "source": [
        "#Python program to check whether the string is symmetrical or palinfrome:\n",
        "\n",
        "def palindrome(a):\n",
        "  \n",
        "    # finding the mid, start\n",
        "    # and last index of the string\n",
        "    mid = (len(a)-1)//2     #you can remove the -1 or you add <= sign in line 21 \n",
        "    start = 0                #so that you can compare the middle elements also.\n",
        "    last = len(a)-1\n",
        "    flag = 0\n",
        " \n",
        "    # A loop till the mid of the\n",
        "    # string\n",
        "    while(start <= mid):\n",
        "  \n",
        "        # comparing letters from right\n",
        "        # from the letters from left\n",
        "        if (a[start]== a[last]):\n",
        "             \n",
        "            start += 1\n",
        "            last -= 1\n",
        "             \n",
        "        else:\n",
        "            flag = 1\n",
        "            break;\n",
        "             \n",
        "    # Checking the flag variable to\n",
        "    # check if the string is palindrome\n",
        "    # or not\n",
        "    if flag == 0:\n",
        "        print(\"The entered string is palindrome\")\n",
        "    else:\n",
        "        print(\"The entered string is not palindrome\")\n",
        "         \n",
        "# Function to check whether the\n",
        "# string is symmetrical or not       \n",
        "def symmetry(a):\n",
        "     \n",
        "    n = len(a)\n",
        "    flag = 0\n",
        "     \n",
        "    # Check if the string's length\n",
        "    # is odd or even\n",
        "    if n%2:\n",
        "        mid = n//2 +1\n",
        "    else:\n",
        "        mid = n//2\n",
        "         \n",
        "    start1 = 0\n",
        "    start2 = mid\n",
        "     \n",
        "    while(start1 < mid and start2 < n):\n",
        "         \n",
        "        if (a[start1]== a[start2]):\n",
        "            start1 = start1 + 1\n",
        "            start2 = start2 + 1\n",
        "        else:\n",
        "            flag = 1\n",
        "            break\n",
        "      \n",
        "    # Checking the flag variable to\n",
        "    # check if the string is symmetrical\n",
        "    # or not\n",
        "    if flag == 0:\n",
        "        print(\"The entered string is symmetrical\")\n",
        "    else:\n",
        "        print(\"The entered string is not symmetrical\")\n",
        "         \n",
        "# Driver code\n",
        "string = 'amaama'\n",
        "palindrome(string)\n",
        "symmetry(string)\n"
      ],
      "metadata": {
        "colab": {
          "base_uri": "https://localhost:8080/"
        },
        "id": "7TdAJ0OH_XVq",
        "outputId": "da4b79a7-a59a-4529-9d98-57282b63472e"
      },
      "execution_count": 3,
      "outputs": [
        {
          "output_type": "stream",
          "name": "stdout",
          "text": [
            "The entered string is palindrome\n",
            "The entered string is symmetrical\n"
          ]
        }
      ]
    },
    {
      "cell_type": "code",
      "source": [
        "#Reverse words in a given string in python:\n",
        "\n",
        "def rev_sentence(sentence):\n",
        "    \n",
        "    #First split the string into words:\n",
        "    words = sentence.split(' ')\n",
        "    \n",
        "    #then reverse the split string list and join using space:\n",
        "    reverse_sentence = ' '.join(reversed(words))\n",
        "    \n",
        "    #finally return the joined string \n",
        "    return reverse_sentence\n",
        "\n",
        "if __name__ == \"__main__\":\n",
        "    input = 'geeks quiz pratice code'\n",
        "    print(rev_sentence(input))\n"
      ],
      "metadata": {
        "colab": {
          "base_uri": "https://localhost:8080/"
        },
        "id": "dlJR_Z6x_vWV",
        "outputId": "ec978e6c-b0f6-40f2-c766-be87806fa258"
      },
      "execution_count": 4,
      "outputs": [
        {
          "output_type": "stream",
          "name": "stdout",
          "text": [
            "code pratice quiz geeks\n"
          ]
        }
      ]
    },
    {
      "cell_type": "code",
      "source": [
        "#way to remove i'th character from string in python:\n",
        "\n",
        "#Initializing string\n",
        "test_str = \"GeeksForGeeks\"\n",
        "\n",
        "#printing original string:\n",
        "print(\"The original string is:\"+ test_str)\n",
        "\n",
        "#Removing char at pos3 using loop:\n",
        "new_str = \" \"\n",
        "for i in range(len(test_str)):\n",
        "    if i != 2:\n",
        "        new_str = new_str + test_str[i]\n",
        "        \n",
        "#printing string after removal:\n",
        "print(\"The string after removal of i'th character: \" + new_str)\n"
      ],
      "metadata": {
        "colab": {
          "base_uri": "https://localhost:8080/"
        },
        "id": "7uhkLGCdEZ5U",
        "outputId": "445fa261-c60c-4d07-dcfe-825cd91efdb4"
      },
      "execution_count": 6,
      "outputs": [
        {
          "output_type": "stream",
          "name": "stdout",
          "text": [
            "The original string is:GeeksForGeeks\n",
            "The string after removal of i'th character:  GeksForGeeks\n"
          ]
        }
      ]
    }
  ]
}