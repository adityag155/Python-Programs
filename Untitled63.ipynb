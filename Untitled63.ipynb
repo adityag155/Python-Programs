{
  "nbformat": 4,
  "nbformat_minor": 0,
  "metadata": {
    "colab": {
      "provenance": [],
      "authorship_tag": "ABX9TyNw73QyNrxWkpwFW8zRp6eh",
      "include_colab_link": true
    },
    "kernelspec": {
      "name": "python3",
      "display_name": "Python 3"
    },
    "language_info": {
      "name": "python"
    }
  },
  "cells": [
    {
      "cell_type": "markdown",
      "metadata": {
        "id": "view-in-github",
        "colab_type": "text"
      },
      "source": [
        "<a href=\"https://colab.research.google.com/github/adityag155/Python-Programs/blob/main/Untitled63.ipynb\" target=\"_parent\"><img src=\"https://colab.research.google.com/assets/colab-badge.svg\" alt=\"Open In Colab\"/></a>"
      ]
    },
    {
      "cell_type": "code",
      "execution_count": 1,
      "metadata": {
        "id": "xig7_NYo4IB6",
        "colab": {
          "base_uri": "https://localhost:8080/"
        },
        "outputId": "205ec5e6-ac4b-4c8a-d3e8-3462a25b384e"
      },
      "outputs": [
        {
          "output_type": "stream",
          "name": "stdout",
          "text": [
            "From str method of Test: a  is 1234,b is 5678\n",
            "[Test a:1234 b:5678]\n"
          ]
        }
      ],
      "source": [
        "#Python program to print demonstrate object printing:\n",
        "\n",
        "class Test:\n",
        "  def __init__(self,a,b):\n",
        "    self.a=a\n",
        "    self.b=b\n",
        "  \n",
        "  def __repr__(self):\n",
        "    return \"Test a:% s b:%s\"%(self.a,self.b)\n",
        "  \n",
        "  def __str__(self):\n",
        "    return \"From str method of Test: a  is %s,\"\\\n",
        "          \"b is %s\"%(self.a,self.b)\n",
        "\n",
        "t=Test(1234, 5678)\n",
        "print(t)\n",
        "print([t])"
      ]
    }
  ]
}