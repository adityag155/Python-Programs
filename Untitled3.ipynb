{
  "nbformat": 4,
  "nbformat_minor": 0,
  "metadata": {
    "colab": {
      "name": "Untitled3.ipynb",
      "provenance": [],
      "authorship_tag": "ABX9TyPmc3TW5lK8IeMlhM4bw14p",
      "include_colab_link": true
    },
    "kernelspec": {
      "name": "python3",
      "display_name": "Python 3"
    },
    "language_info": {
      "name": "python"
    }
  },
  "cells": [
    {
      "cell_type": "markdown",
      "metadata": {
        "id": "view-in-github",
        "colab_type": "text"
      },
      "source": [
        "<a href=\"https://colab.research.google.com/github/adityag155/Python-Programs/blob/main/Untitled3.ipynb\" target=\"_parent\"><img src=\"https://colab.research.google.com/assets/colab-badge.svg\" alt=\"Open In Colab\"/></a>"
      ]
    },
    {
      "cell_type": "code",
      "execution_count": 14,
      "metadata": {
        "colab": {
          "base_uri": "https://localhost:8080/"
        },
        "id": "TUMM9-llxdVE",
        "outputId": "5898618f-74d4-418f-96f2-a47cf45a6763"
      },
      "outputs": [
        {
          "output_type": "stream",
          "name": "stdout",
          "text": [
            "Maximum of 4,12,43.3,19 and 100 is : 100\n"
          ]
        }
      ],
      "source": [
        "#Python code to demonstrate the working of max():\n",
        "print(\"Maximum of 4,12,43.3,19 and 100 is : \",end=\"\")\n",
        "print(max(4,12,43.3,19,100))"
      ]
    },
    {
      "cell_type": "code",
      "source": [
        "#Python code to demonstrate the working of min():\n",
        "print(\"Minimum of 12, 22, 7, 87, and 100 is: \",end=\"\")\n",
        "print(min(12, 22, 7, 87, 100))"
      ],
      "metadata": {
        "colab": {
          "base_uri": "https://localhost:8080/"
        },
        "id": "4S5SGuJo-tEx",
        "outputId": "42e39678-cf19-44b9-b76e-67d5b7c3d3b7"
      },
      "execution_count": 16,
      "outputs": [
        {
          "output_type": "stream",
          "name": "stdout",
          "text": [
            "Minimum of 12, 22, 7, 87, and 100 is: 7\n"
          ]
        }
      ]
    },
    {
      "cell_type": "code",
      "source": [
        "#Python program to demonstrate the use of oct function:\n",
        "print(\"The octal representation of 23 is \" + oct(23))\n",
        "print(\"The octal representation of the\" \"ascii value of 'z' is \" + oct(ord('z')))\n",
        "print(\"The octal representation of the binary\" \"of 23 is\" + oct(0b10111))\n",
        "print(\"The octal repesentation of the binary\" \"of 23 is \" + oct(0*17))"
      ],
      "metadata": {
        "colab": {
          "base_uri": "https://localhost:8080/"
        },
        "id": "hBSjGsG-_ORR",
        "outputId": "df5e0d07-dfe2-4c99-8bd2-830512376291"
      },
      "execution_count": 18,
      "outputs": [
        {
          "output_type": "stream",
          "name": "stdout",
          "text": [
            "The octal representation of 23 is 0o27\n",
            "The octal representation of theascii value of 'z' is 0o172\n",
            "The octal representation of the binaryof 23 is0o27\n",
            "The octal repesentation of the binaryof 23 is 0o0\n"
          ]
        }
      ]
    },
    {
      "cell_type": "code",
      "source": [
        "#Python code on Conditional contral statement:\n",
        "i=5\n",
        "if(10>15):\n",
        "  print(\"5 is less than 15\")\n",
        "print(\"Im not in if\")"
      ],
      "metadata": {
        "colab": {
          "base_uri": "https://localhost:8080/"
        },
        "id": "AgHzLTWfT5Hy",
        "outputId": "375ba94f-0aea-4b18-d95d-81f136b6161e"
      },
      "execution_count": 23,
      "outputs": [
        {
          "output_type": "stream",
          "name": "stdout",
          "text": [
            "Im not in if\n"
          ]
        }
      ]
    },
    {
      "cell_type": "code",
      "source": [
        "#If else:\n",
        "i = 20\n",
        "if(i<15):\n",
        "  print(\"i is smaller than 15\")\n",
        "  print(\"i'm in if block\")\n",
        "else:\n",
        "  print(\"i is greater than 15\")\n",
        "  print(\"i'm in else block\")\n",
        "print(\"i'm not in if and not in else Block\")"
      ],
      "metadata": {
        "colab": {
          "base_uri": "https://localhost:8080/"
        },
        "id": "irhEfN8rVYxN",
        "outputId": "240be2ae-0a0a-4e03-961c-0b86edeba501"
      },
      "execution_count": 26,
      "outputs": [
        {
          "output_type": "stream",
          "name": "stdout",
          "text": [
            "i is greater than 15\n",
            "i'm in else block\n",
            "i'm not in if and not in else Block\n"
          ]
        }
      ]
    },
    {
      "cell_type": "code",
      "source": [
        ""
      ],
      "metadata": {
        "id": "OiGjuMV0Txol"
      },
      "execution_count": null,
      "outputs": []
    }
  ]
}