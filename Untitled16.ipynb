{
  "nbformat": 4,
  "nbformat_minor": 0,
  "metadata": {
    "colab": {
      "provenance": [],
      "authorship_tag": "ABX9TyNAzYtY4lIeupUwcn5X8afX",
      "include_colab_link": true
    },
    "kernelspec": {
      "name": "python3",
      "display_name": "Python 3"
    },
    "language_info": {
      "name": "python"
    }
  },
  "cells": [
    {
      "cell_type": "markdown",
      "metadata": {
        "id": "view-in-github",
        "colab_type": "text"
      },
      "source": [
        "<a href=\"https://colab.research.google.com/github/adityag155/Python-Programs/blob/main/Untitled16.ipynb\" target=\"_parent\"><img src=\"https://colab.research.google.com/assets/colab-badge.svg\" alt=\"Open In Colab\"/></a>"
      ]
    },
    {
      "cell_type": "code",
      "execution_count": null,
      "metadata": {
        "colab": {
          "base_uri": "https://localhost:8080/"
        },
        "id": "lZ1kFy64QoMc",
        "outputId": "61396ff9-c8b5-428f-a16e-4305e139e220"
      },
      "outputs": [
        {
          "output_type": "stream",
          "name": "stdout",
          "text": [
            "Enter first number:5\n",
            "Enter second number:15\n",
            "Enter third number:10\n",
            "15 is the largest number\n"
          ]
        }
      ],
      "source": [
        "#WAP to read 3no. from command line and find the max amon three:\n",
        "\n",
        "a=int(input('Enter first number:'))\n",
        "b=int(input('Enter second number:'))\n",
        "c=int(input('Enter third number:'))\n",
        "\n",
        "largest=0\n",
        "\n",
        "if a>b and a>c:\n",
        "  largest=a\n",
        "if b>a and b>c:\n",
        "  largest=b\n",
        "if c>a and c>b:\n",
        "  largest=c\n",
        "print(largest, \"is the largest number\")"
      ]
    },
    {
      "cell_type": "code",
      "source": [
        "a=int(input('Enter 1st no:'))\n",
        "b=int(input('Enter 2nd no:'))\n",
        "c=int(input('Enter 3rd no:'))\n",
        "\n",
        "largest=0\n",
        "if a>b and a>c:\n",
        "  largest=a\n",
        "if b>a and b>c:\n",
        "  largest=b\n",
        "if c>a and c>b:\n",
        "  largest=c\n",
        "print(largest, \"is the largest no\")"
      ],
      "metadata": {
        "colab": {
          "base_uri": "https://localhost:8080/"
        },
        "id": "L20oqVKpSHei",
        "outputId": "c4d67a35-af04-4f23-864e-c987e3a055ce"
      },
      "execution_count": null,
      "outputs": [
        {
          "output_type": "stream",
          "name": "stdout",
          "text": [
            "Enter 1st no:25\n",
            "Enter 2nd no:100\n",
            "Enter 3rd no:50\n",
            "100 is the largest no\n"
          ]
        }
      ]
    },
    {
      "cell_type": "code",
      "source": [
        "#Positive or Negative:\n",
        "\n",
        "num1=int(input('Enter first number:'))\n",
        "\n",
        "if num1>0:\n",
        "  print(\"It is Positive number\")\n",
        "else:\n",
        "    \n",
        "    print(\"It is negative number\")"
      ],
      "metadata": {
        "colab": {
          "base_uri": "https://localhost:8080/"
        },
        "id": "nqXISyVfTgwg",
        "outputId": "8ab74ef2-83ba-476e-f008-694280da8d26"
      },
      "execution_count": null,
      "outputs": [
        {
          "output_type": "stream",
          "name": "stdout",
          "text": [
            "Enter first number:100\n",
            "It is Positive number\n"
          ]
        }
      ]
    },
    {
      "cell_type": "code",
      "source": [
        "#print odd no.:\n",
        "\n",
        "start=int(input(\"Enter the start of range:\"))\n",
        "end=int(input(\"Enter the end of range:\"))\n",
        "for num in range(start, end):\n",
        "  if num%2!=0:\n",
        "    print(num, end=\" \")"
      ],
      "metadata": {
        "colab": {
          "base_uri": "https://localhost:8080/"
        },
        "id": "GWYOiuepV7gA",
        "outputId": "16bffcc7-6d8d-472e-84c9-7f5e19b431a0"
      },
      "execution_count": 22,
      "outputs": [
        {
          "output_type": "stream",
          "name": "stdout",
          "text": [
            "Enter the start of range:1\n",
            "Enter the end of range:20\n",
            "1 3 5 7 9 11 13 15 17 19 "
          ]
        }
      ]
    },
    {
      "cell_type": "code",
      "source": [
        "#Program to print all the number divisible by 3 and 5 for given number:\n",
        "\n",
        "def result(N):\n",
        "\n",
        "  for num in range(N):\n",
        "    if num%3==0 and num%5==0:\n",
        "      print(str(num)+\" \",end=\" \")\n",
        "    else:\n",
        "      pass\n",
        "if __name__==\"__main__\":\n",
        "  N=100\n",
        "  result(N)"
      ],
      "metadata": {
        "colab": {
          "base_uri": "https://localhost:8080/"
        },
        "id": "bDD82DUmbmOR",
        "outputId": "f70af6ed-242f-409b-8cf2-10b0c346892d"
      },
      "execution_count": 24,
      "outputs": [
        {
          "output_type": "stream",
          "name": "stdout",
          "text": [
            "0  15  30  45  60  75  90  "
          ]
        }
      ]
    },
    {
      "cell_type": "code",
      "source": [],
      "metadata": {
        "id": "nk_Q5Jv4fugJ"
      },
      "execution_count": null,
      "outputs": []
    }
  ]
}