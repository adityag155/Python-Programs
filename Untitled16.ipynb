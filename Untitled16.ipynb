{
  "nbformat": 4,
  "nbformat_minor": 0,
  "metadata": {
    "colab": {
      "provenance": [],
      "authorship_tag": "ABX9TyOmL3GRMe1ccMbIamaSf6of",
      "include_colab_link": true
    },
    "kernelspec": {
      "name": "python3",
      "display_name": "Python 3"
    },
    "language_info": {
      "name": "python"
    }
  },
  "cells": [
    {
      "cell_type": "markdown",
      "metadata": {
        "id": "view-in-github",
        "colab_type": "text"
      },
      "source": [
        "<a href=\"https://colab.research.google.com/github/adityag155/Python-Programs/blob/main/Untitled16.ipynb\" target=\"_parent\"><img src=\"https://colab.research.google.com/assets/colab-badge.svg\" alt=\"Open In Colab\"/></a>"
      ]
    },
    {
      "cell_type": "code",
      "execution_count": 1,
      "metadata": {
        "colab": {
          "base_uri": "https://localhost:8080/"
        },
        "id": "lZ1kFy64QoMc",
        "outputId": "8d102ce1-ea1a-431f-8cda-ce34ef48a883"
      },
      "outputs": [
        {
          "output_type": "stream",
          "name": "stdout",
          "text": [
            "Enter first number:20\n",
            "Enter second number:40\n",
            "Enter third number:60\n",
            "60 is the largest number\n"
          ]
        }
      ],
      "source": [
        "#WAP to read 3no. from command line and find the max amon three:\n",
        "\n",
        "a=int(input('Enter first number:'))\n",
        "b=int(input('Enter second number:'))\n",
        "c=int(input('Enter third number:'))\n",
        "\n",
        "largest=0\n",
        "\n",
        "if a>b and a>c:\n",
        "  largest=a\n",
        "if b>a and b>c:\n",
        "  largest=b\n",
        "if c>a and c>b:\n",
        "  largest=c\n",
        "print(largest, \"is the largest number\")"
      ]
    }
  ]
}