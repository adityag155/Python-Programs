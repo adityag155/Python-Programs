{
  "nbformat": 4,
  "nbformat_minor": 0,
  "metadata": {
    "colab": {
      "provenance": [],
      "authorship_tag": "ABX9TyODUgEM6LbX3CZcd+4f2dqo",
      "include_colab_link": true
    },
    "kernelspec": {
      "name": "python3",
      "display_name": "Python 3"
    },
    "language_info": {
      "name": "python"
    }
  },
  "cells": [
    {
      "cell_type": "markdown",
      "metadata": {
        "id": "view-in-github",
        "colab_type": "text"
      },
      "source": [
        "<a href=\"https://colab.research.google.com/github/adityag155/Python-Programs/blob/main/Untitled16.ipynb\" target=\"_parent\"><img src=\"https://colab.research.google.com/assets/colab-badge.svg\" alt=\"Open In Colab\"/></a>"
      ]
    },
    {
      "cell_type": "code",
      "execution_count": null,
      "metadata": {
        "colab": {
          "base_uri": "https://localhost:8080/"
        },
        "id": "lZ1kFy64QoMc",
        "outputId": "61396ff9-c8b5-428f-a16e-4305e139e220"
      },
      "outputs": [
        {
          "output_type": "stream",
          "name": "stdout",
          "text": [
            "Enter first number:5\n",
            "Enter second number:15\n",
            "Enter third number:10\n",
            "15 is the largest number\n"
          ]
        }
      ],
      "source": [
        "#WAP to read 3no. from command line and find the max amon three:\n",
        "\n",
        "a=int(input('Enter first number:'))\n",
        "b=int(input('Enter second number:'))\n",
        "c=int(input('Enter third number:'))\n",
        "\n",
        "largest=0\n",
        "\n",
        "if a>b and a>c:\n",
        "  largest=a\n",
        "if b>a and b>c:\n",
        "  largest=b\n",
        "if c>a and c>b:\n",
        "  largest=c\n",
        "print(largest, \"is the largest number\")"
      ]
    },
    {
      "cell_type": "code",
      "source": [
        "a=int(input('Enter 1st no:'))\n",
        "b=int(input('Enter 2nd no:'))\n",
        "c=int(input('Enter 3rd no:'))\n",
        "\n",
        "largest=0\n",
        "if a>b and a>c:\n",
        "  largest=a\n",
        "if b>a and b>c:\n",
        "  largest=b\n",
        "if c>a and c>b:\n",
        "  largest=c\n",
        "print(largest, \"is the largest no\")"
      ],
      "metadata": {
        "colab": {
          "base_uri": "https://localhost:8080/"
        },
        "id": "L20oqVKpSHei",
        "outputId": "c4d67a35-af04-4f23-864e-c987e3a055ce"
      },
      "execution_count": null,
      "outputs": [
        {
          "output_type": "stream",
          "name": "stdout",
          "text": [
            "Enter 1st no:25\n",
            "Enter 2nd no:100\n",
            "Enter 3rd no:50\n",
            "100 is the largest no\n"
          ]
        }
      ]
    },
    {
      "cell_type": "code",
      "source": [
        "#Positive or Negative:\n",
        "\n",
        "num1=int(input('Enter first number:'))\n",
        "\n",
        "if num1>0:\n",
        "  print(\"It is Positive number\")\n",
        "else:\n",
        "    \n",
        "    print(\"It is negative number\")"
      ],
      "metadata": {
        "colab": {
          "base_uri": "https://localhost:8080/"
        },
        "id": "nqXISyVfTgwg",
        "outputId": "8ab74ef2-83ba-476e-f008-694280da8d26"
      },
      "execution_count": null,
      "outputs": [
        {
          "output_type": "stream",
          "name": "stdout",
          "text": [
            "Enter first number:100\n",
            "It is Positive number\n"
          ]
        }
      ]
    },
    {
      "cell_type": "code",
      "source": [
        "#print odd no.:\n",
        "\n",
        "start=int(input(\"Enter the start of range:\"))\n",
        "end=int(input(\"Enter the end of range:\"))\n",
        "for num in range(start, end):\n",
        "  if num%2!=0:\n",
        "    print(num, end=\" \")"
      ],
      "metadata": {
        "colab": {
          "base_uri": "https://localhost:8080/"
        },
        "id": "GWYOiuepV7gA",
        "outputId": "16bffcc7-6d8d-472e-84c9-7f5e19b431a0"
      },
      "execution_count": 22,
      "outputs": [
        {
          "output_type": "stream",
          "name": "stdout",
          "text": [
            "Enter the start of range:1\n",
            "Enter the end of range:20\n",
            "1 3 5 7 9 11 13 15 17 19 "
          ]
        }
      ]
    },
    {
      "cell_type": "code",
      "source": [
        "#Program to print all the number divisible by 3 and 5 for given number:\n",
        "\n",
        "def result(N):\n",
        "\n",
        "  for num in range(N):\n",
        "    if num%3==0 and num%5==0:\n",
        "      print(str(num)+\" \",end=\" \")\n",
        "    else:\n",
        "      pass\n",
        "if __name__==\"__main__\":\n",
        "  N=100\n",
        "  result(N)"
      ],
      "metadata": {
        "colab": {
          "base_uri": "https://localhost:8080/"
        },
        "id": "bDD82DUmbmOR",
        "outputId": "f70af6ed-242f-409b-8cf2-10b0c346892d"
      },
      "execution_count": 24,
      "outputs": [
        {
          "output_type": "stream",
          "name": "stdout",
          "text": [
            "0  15  30  45  60  75  90  "
          ]
        }
      ]
    },
    {
      "cell_type": "code",
      "source": [
        "#WAP for print prime no between 1 to 100:\n",
        "for number in range(1, 100):\n",
        "  count=0\n",
        "  for i in range (2,(number//2+1)):\n",
        "    if(number%i==0):\n",
        "      count= count+1\n",
        "      break\n",
        "\n",
        "  if(count==0 and number!=1):\n",
        "    print(\"%d\"%number,end='')"
      ],
      "metadata": {
        "colab": {
          "base_uri": "https://localhost:8080/"
        },
        "id": "Yu0CE_F4jNB0",
        "outputId": "c5b75bac-39b1-449d-96d1-8a68b784eac8"
      },
      "execution_count": 29,
      "outputs": [
        {
          "output_type": "stream",
          "name": "stdout",
          "text": [
            "2357111317192329313741434753596167717379838997"
          ]
        }
      ]
    },
    {
      "cell_type": "code",
      "source": [
        "#Print prime no in given range\n",
        "lower = 1\n",
        "upper = 100\n",
        "\n",
        "print(\"Prime numbers between\", lower, \"and\", upper, \"are:\")\n",
        "\n",
        "for num in range(lower, upper + 1):\n",
        "   # all prime numbers are greater than 1\n",
        "   if num > 1:\n",
        "       for i in range(2, num):\n",
        "           if (num % i) == 0:\n",
        "               break\n",
        "       else:\n",
        "           print(num)"
      ],
      "metadata": {
        "id": "sTYH3Em5nTMO",
        "outputId": "9ee8d788-9f9a-4b37-8e5f-574d39d39795",
        "colab": {
          "base_uri": "https://localhost:8080/"
        }
      },
      "execution_count": 41,
      "outputs": [
        {
          "output_type": "stream",
          "name": "stdout",
          "text": [
            "Prime numbers between 1 and 100 are:\n",
            "2\n",
            "3\n",
            "5\n",
            "7\n",
            "11\n",
            "13\n",
            "17\n",
            "19\n",
            "23\n",
            "29\n",
            "31\n",
            "37\n",
            "41\n",
            "43\n",
            "47\n",
            "53\n",
            "59\n",
            "61\n",
            "67\n",
            "71\n",
            "73\n",
            "79\n",
            "83\n",
            "89\n",
            "97\n"
          ]
        }
      ]
    },
    {
      "cell_type": "code",
      "source": [],
      "metadata": {
        "id": "9LOc0LHupnUA"
      },
      "execution_count": null,
      "outputs": []
    },
    {
      "cell_type": "code",
      "source": [
        "#Sum of digit of given no:\n",
        "\n",
        "def getSum(n):\n",
        "  sum=0\n",
        "  while(n!=0):\n",
        "    sum=sum+int(n%10)\n",
        "    n=int(n/10)\n",
        "  return sum\n",
        "\n",
        "if __name__==\"__main__\":\n",
        "  n=687\n",
        "  print(getSum(n))"
      ],
      "metadata": {
        "id": "LSw9vYZQqCqr",
        "outputId": "c5ad2ce1-1338-4034-c3bf-56a5b2723019",
        "colab": {
          "base_uri": "https://localhost:8080/"
        }
      },
      "execution_count": 42,
      "outputs": [
        {
          "output_type": "stream",
          "name": "stdout",
          "text": [
            "21\n"
          ]
        }
      ]
    }
  ]
}