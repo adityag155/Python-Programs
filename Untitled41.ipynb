{
  "nbformat": 4,
  "nbformat_minor": 0,
  "metadata": {
    "colab": {
      "provenance": [],
      "authorship_tag": "ABX9TyPm7KnIMdtsRudY/oT2aAUU",
      "include_colab_link": true
    },
    "kernelspec": {
      "name": "python3",
      "display_name": "Python 3"
    },
    "language_info": {
      "name": "python"
    }
  },
  "cells": [
    {
      "cell_type": "markdown",
      "metadata": {
        "id": "view-in-github",
        "colab_type": "text"
      },
      "source": [
        "<a href=\"https://colab.research.google.com/github/adityag155/Python-Programs/blob/main/Untitled41.ipynb\" target=\"_parent\"><img src=\"https://colab.research.google.com/assets/colab-badge.svg\" alt=\"Open In Colab\"/></a>"
      ]
    },
    {
      "cell_type": "code",
      "execution_count": 1,
      "metadata": {
        "id": "4KIO2OI-N-Ev"
      },
      "outputs": [],
      "source": [
        "from typing import Final \n",
        "RATE:Final=3000\n",
        "class Base:\n",
        "  DEFAULT_ID:Final=0\n",
        "RATE=300\n",
        "Base.DEFAULT_ID=1"
      ]
    },
    {
      "cell_type": "code",
      "source": [],
      "metadata": {
        "id": "RZL96uE4SvUo"
      },
      "execution_count": null,
      "outputs": []
    }
  ]
}