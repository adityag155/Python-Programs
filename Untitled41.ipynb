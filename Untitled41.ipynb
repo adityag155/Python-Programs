{
  "nbformat": 4,
  "nbformat_minor": 0,
  "metadata": {
    "colab": {
      "provenance": [],
      "authorship_tag": "ABX9TyPILtFpng9g0LLlR+98uL4N",
      "include_colab_link": true
    },
    "kernelspec": {
      "name": "python3",
      "display_name": "Python 3"
    },
    "language_info": {
      "name": "python"
    }
  },
  "cells": [
    {
      "cell_type": "markdown",
      "metadata": {
        "id": "view-in-github",
        "colab_type": "text"
      },
      "source": [
        "<a href=\"https://colab.research.google.com/github/adityag155/Python-Programs/blob/main/Untitled41.ipynb\" target=\"_parent\"><img src=\"https://colab.research.google.com/assets/colab-badge.svg\" alt=\"Open In Colab\"/></a>"
      ]
    },
    {
      "cell_type": "code",
      "execution_count": 1,
      "metadata": {
        "id": "4KIO2OI-N-Ev"
      },
      "outputs": [],
      "source": [
        "from typing import Final \n",
        "RATE:Final=3000\n",
        "class Base:\n",
        "  DEFAULT_ID:Final=0\n",
        "RATE=300\n",
        "Base.DEFAULT_ID=1"
      ]
    },
    {
      "cell_type": "code",
      "source": [
        "#Global variabe:\n",
        "\n",
        "a=100\n",
        "print(a)\n",
        "def som_function():\n",
        "  global a\n",
        "  print(a)\n",
        "  a='Intellipaat'\n",
        "  some_function()\n",
        "  print(a)"
      ],
      "metadata": {
        "colab": {
          "base_uri": "https://localhost:8080/"
        },
        "id": "RZL96uE4SvUo",
        "outputId": "f1b75955-edce-4580-eccc-7c9d1a6bee42"
      },
      "execution_count": 2,
      "outputs": [
        {
          "output_type": "stream",
          "name": "stdout",
          "text": [
            "100\n"
          ]
        }
      ]
    },
    {
      "cell_type": "code",
      "source": [
        "a = 100\n",
        "print (a)\n",
        "def som_function():\n",
        "  global a\n",
        "  print (a)\n",
        "  a ='Intellipaat'\n",
        "  some_function()\n",
        "  print (a)"
      ],
      "metadata": {
        "colab": {
          "base_uri": "https://localhost:8080/"
        },
        "id": "7uk9pruRdtd-",
        "outputId": "28119196-78d6-46ee-f41c-67babb0d7ac6"
      },
      "execution_count": 5,
      "outputs": [
        {
          "output_type": "stream",
          "name": "stdout",
          "text": [
            "100\n"
          ]
        }
      ]
    },
    {
      "cell_type": "code",
      "source": [
        "#Constructor:  it is called when object is created of class:\n",
        "\n",
        "class AdityaGend:\n",
        "  def __init__(self):\n",
        "    self.Aditya=\"AdityaGend\"\n",
        "\n",
        "    def print_Aditya(self):\n",
        "      print(self.Aditya)\n",
        "obj = AdityaGend()\n",
        "obj.print_Aditya()"
      ],
      "metadata": {
        "colab": {
          "base_uri": "https://localhost:8080/",
          "height": 200
        },
        "id": "u29QYC6CePja",
        "outputId": "0768d2dc-29ab-4cd5-888d-fce676aa9582"
      },
      "execution_count": 10,
      "outputs": [
        {
          "output_type": "error",
          "ename": "AttributeError",
          "evalue": "ignored",
          "traceback": [
            "\u001b[0;31m---------------------------------------------------------------------------\u001b[0m",
            "\u001b[0;31mAttributeError\u001b[0m                            Traceback (most recent call last)",
            "\u001b[0;32m<ipython-input-10-3b1a2878233d>\u001b[0m in \u001b[0;36m<module>\u001b[0;34m\u001b[0m\n\u001b[1;32m      8\u001b[0m       \u001b[0mprint\u001b[0m\u001b[0;34m(\u001b[0m\u001b[0mself\u001b[0m\u001b[0;34m.\u001b[0m\u001b[0mAditya\u001b[0m\u001b[0;34m)\u001b[0m\u001b[0;34m\u001b[0m\u001b[0;34m\u001b[0m\u001b[0m\n\u001b[1;32m      9\u001b[0m \u001b[0mobj\u001b[0m \u001b[0;34m=\u001b[0m \u001b[0mAdityaGend\u001b[0m\u001b[0;34m(\u001b[0m\u001b[0;34m)\u001b[0m\u001b[0;34m\u001b[0m\u001b[0;34m\u001b[0m\u001b[0m\n\u001b[0;32m---> 10\u001b[0;31m \u001b[0mobj\u001b[0m\u001b[0;34m.\u001b[0m\u001b[0mprint_Aditya\u001b[0m\u001b[0;34m(\u001b[0m\u001b[0;34m)\u001b[0m\u001b[0;34m\u001b[0m\u001b[0;34m\u001b[0m\u001b[0m\n\u001b[0m",
            "\u001b[0;31mAttributeError\u001b[0m: 'AdityaGend' object has no attribute 'print_Aditya'"
          ]
        }
      ]
    },
    {
      "cell_type": "code",
      "source": [
        "#Constructor:  it is called when object is created of class:\n",
        "\n",
        "class GeekforGeeks:\n",
        "\n",
        "    def __init__(self):\n",
        "        self.geek = \"GeekforGeeks\"\n",
        " \n",
        "    def print_Geek(self):\n",
        "        print(self.geek)\n",
        " \n",
        "obj = GeekforGeeks()\n",
        " \n",
        "obj.print_Geek()"
      ],
      "metadata": {
        "colab": {
          "base_uri": "https://localhost:8080/"
        },
        "id": "uLB61M0Zp6Qk",
        "outputId": "fb42db08-37fa-4645-efba-d98795cba4b2"
      },
      "execution_count": 12,
      "outputs": [
        {
          "output_type": "stream",
          "name": "stdout",
          "text": [
            "GeekforGeeks\n"
          ]
        }
      ]
    }
  ]
}