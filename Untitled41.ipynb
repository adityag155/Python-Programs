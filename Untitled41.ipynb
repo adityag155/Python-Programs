{
  "nbformat": 4,
  "nbformat_minor": 0,
  "metadata": {
    "colab": {
      "provenance": [],
      "authorship_tag": "ABX9TyPClM4Ycr5H2GheP5GnjDBl",
      "include_colab_link": true
    },
    "kernelspec": {
      "name": "python3",
      "display_name": "Python 3"
    },
    "language_info": {
      "name": "python"
    }
  },
  "cells": [
    {
      "cell_type": "markdown",
      "metadata": {
        "id": "view-in-github",
        "colab_type": "text"
      },
      "source": [
        "<a href=\"https://colab.research.google.com/github/adityag155/Python-Programs/blob/main/Untitled41.ipynb\" target=\"_parent\"><img src=\"https://colab.research.google.com/assets/colab-badge.svg\" alt=\"Open In Colab\"/></a>"
      ]
    },
    {
      "cell_type": "code",
      "execution_count": 1,
      "metadata": {
        "id": "4KIO2OI-N-Ev"
      },
      "outputs": [],
      "source": [
        "from typing import Final \n",
        "RATE:Final=3000\n",
        "class Base:\n",
        "  DEFAULT_ID:Final=0\n",
        "RATE=300\n",
        "Base.DEFAULT_ID=1"
      ]
    },
    {
      "cell_type": "code",
      "source": [
        "#Global variabe:\n",
        "\n",
        "a=100\n",
        "print(a)\n",
        "def som_function():\n",
        "  global a\n",
        "  print(a)\n",
        "  a='Intellipaat'\n",
        "  some_function()\n",
        "  print(a)"
      ],
      "metadata": {
        "colab": {
          "base_uri": "https://localhost:8080/"
        },
        "id": "RZL96uE4SvUo",
        "outputId": "f1b75955-edce-4580-eccc-7c9d1a6bee42"
      },
      "execution_count": 2,
      "outputs": [
        {
          "output_type": "stream",
          "name": "stdout",
          "text": [
            "100\n"
          ]
        }
      ]
    },
    {
      "cell_type": "code",
      "source": [
        "a = 100\n",
        "print (a)\n",
        "def som_function():\n",
        "  global a\n",
        "  print (a)\n",
        "  a ='Intellipaat'\n",
        "  some_function()\n",
        "  print (a)"
      ],
      "metadata": {
        "colab": {
          "base_uri": "https://localhost:8080/"
        },
        "id": "7uk9pruRdtd-",
        "outputId": "28119196-78d6-46ee-f41c-67babb0d7ac6"
      },
      "execution_count": 5,
      "outputs": [
        {
          "output_type": "stream",
          "name": "stdout",
          "text": [
            "100\n"
          ]
        }
      ]
    }
  ]
}