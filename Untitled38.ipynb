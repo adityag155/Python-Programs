{
  "nbformat": 4,
  "nbformat_minor": 0,
  "metadata": {
    "colab": {
      "provenance": [],
      "authorship_tag": "ABX9TyP6J2enZgt2ya0DSbKw1MD4",
      "include_colab_link": true
    },
    "kernelspec": {
      "name": "python3",
      "display_name": "Python 3"
    },
    "language_info": {
      "name": "python"
    }
  },
  "cells": [
    {
      "cell_type": "markdown",
      "metadata": {
        "id": "view-in-github",
        "colab_type": "text"
      },
      "source": [
        "<a href=\"https://colab.research.google.com/github/adityag155/Python-Programs/blob/main/Untitled38.ipynb\" target=\"_parent\"><img src=\"https://colab.research.google.com/assets/colab-badge.svg\" alt=\"Open In Colab\"/></a>"
      ]
    },
    {
      "cell_type": "code",
      "execution_count": 1,
      "metadata": {
        "colab": {
          "base_uri": "https://localhost:8080/"
        },
        "id": "60DnHXTr2Y01",
        "outputId": "d5282671-e777-46f1-b346-9787af425441"
      },
      "outputs": [
        {
          "output_type": "stream",
          "name": "stdout",
          "text": [
            "Sum of all element of an array:1\n",
            "Sum of all element of an array:3\n",
            "Sum of all element of an array:6\n",
            "Sum of all element of an array:10\n",
            "Sum of all element of an array:15\n"
          ]
        }
      ],
      "source": [
        "#Python program to find sum of arrray:\n",
        "\n",
        "\n",
        "arr=[1,2,3,4,5];\n",
        "\n",
        "sum=0;\n",
        "\n",
        "for i in range(0,len(arr)):\n",
        "\n",
        "    sum=sum+arr[i]\n",
        "\n",
        "    print(\"Sum of all element of an array:\"+str(sum));\n"
      ]
    },
    {
      "cell_type": "code",
      "source": [
        "#Python program to find largest element in an array:\n",
        "\n",
        "\n",
        "\n",
        "def largest(arr,n):\n",
        "\n",
        "    return(max(arr))\n",
        "\n",
        "arr = [10, 324, 45, 90, 9880]\n",
        "\n",
        "n = len(arr)\n",
        "\n",
        "Ans=largest(arr,n)\n",
        "\n",
        "print(\"Largest in given array is\",Ans)\n"
      ],
      "metadata": {
        "colab": {
          "base_uri": "https://localhost:8080/"
        },
        "id": "_X14bOW920F0",
        "outputId": "05697965-929a-4ae3-bbcf-8c616a4d9165"
      },
      "execution_count": 2,
      "outputs": [
        {
          "output_type": "stream",
          "name": "stdout",
          "text": [
            "Largest in given array is 9880\n"
          ]
        }
      ]
    }
  ]
}