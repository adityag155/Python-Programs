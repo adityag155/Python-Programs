{
  "nbformat": 4,
  "nbformat_minor": 0,
  "metadata": {
    "colab": {
      "provenance": [],
      "authorship_tag": "ABX9TyMuPMj4RoszJNqQfUmbk9SB",
      "include_colab_link": true
    },
    "kernelspec": {
      "name": "python3",
      "display_name": "Python 3"
    },
    "language_info": {
      "name": "python"
    }
  },
  "cells": [
    {
      "cell_type": "markdown",
      "metadata": {
        "id": "view-in-github",
        "colab_type": "text"
      },
      "source": [
        "<a href=\"https://colab.research.google.com/github/adityag155/Python-Programs/blob/main/Untitled38.ipynb\" target=\"_parent\"><img src=\"https://colab.research.google.com/assets/colab-badge.svg\" alt=\"Open In Colab\"/></a>"
      ]
    },
    {
      "cell_type": "code",
      "execution_count": 1,
      "metadata": {
        "colab": {
          "base_uri": "https://localhost:8080/"
        },
        "id": "60DnHXTr2Y01",
        "outputId": "d5282671-e777-46f1-b346-9787af425441"
      },
      "outputs": [
        {
          "output_type": "stream",
          "name": "stdout",
          "text": [
            "Sum of all element of an array:1\n",
            "Sum of all element of an array:3\n",
            "Sum of all element of an array:6\n",
            "Sum of all element of an array:10\n",
            "Sum of all element of an array:15\n"
          ]
        }
      ],
      "source": [
        "#Python program to find sum of arrray:\n",
        "\n",
        "\n",
        "arr=[1,2,3,4,5];\n",
        "\n",
        "sum=0;\n",
        "\n",
        "for i in range(0,len(arr)):\n",
        "\n",
        "    sum=sum+arr[i]\n",
        "\n",
        "    print(\"Sum of all element of an array:\"+str(sum));\n"
      ]
    },
    {
      "cell_type": "code",
      "source": [
        "#Python program for array rotation:\n",
        "\n",
        "\n",
        "def rotateArray(arr, n, d):\n",
        "\n",
        "    temp = []\n",
        "\n",
        "    i = 0\n",
        "\n",
        "    while (i < d):\n",
        "\n",
        "        temp.append(arr[i])\n",
        "\n",
        "        i = i + 1\n",
        "\n",
        "    i = 0\n",
        "\n",
        "    while(d < n):\n",
        "\n",
        "        arr[i] = arr[d]\n",
        "\n",
        "        i = i + 1\n",
        "\n",
        "        d = d + 1\n",
        "\n",
        "    arr[:] = arr[: i] + temp\n",
        "\n",
        "    return arr\n",
        "\n",
        "arr = [1, 2, 3, 4, 5, 6, 7]\n",
        "\n",
        "print(\"Array after left rotation is: \", end='')\n",
        "\n",
        "print(rotateArray(arr, len(arr), 2))\n"
      ],
      "metadata": {
        "colab": {
          "base_uri": "https://localhost:8080/"
        },
        "id": "bWE8lP9s3A04",
        "outputId": "7e281009-1c48-422a-b01f-9c0da30486ec"
      },
      "execution_count": 3,
      "outputs": [
        {
          "output_type": "stream",
          "name": "stdout",
          "text": [
            "Array after left rotation is: [3, 4, 5, 6, 7, 1, 2]\n"
          ]
        }
      ]
    },
    {
      "cell_type": "code",
      "source": [
        "#Python program to find largest element in an array:\n",
        "\n",
        "\n",
        "\n",
        "def largest(arr,n):\n",
        "\n",
        "    return(max(arr))\n",
        "\n",
        "arr = [10, 324, 45, 90, 9880]\n",
        "\n",
        "n = len(arr)\n",
        "\n",
        "Ans=largest(arr,n)\n",
        "\n",
        "print(\"Largest in given array is\",Ans)\n"
      ],
      "metadata": {
        "colab": {
          "base_uri": "https://localhost:8080/"
        },
        "id": "_X14bOW920F0",
        "outputId": "05697965-929a-4ae3-bbcf-8c616a4d9165"
      },
      "execution_count": 2,
      "outputs": [
        {
          "output_type": "stream",
          "name": "stdout",
          "text": [
            "Largest in given array is 9880\n"
          ]
        }
      ]
    },
    {
      "cell_type": "code",
      "source": [
        "#Python program to Split the array and the first part to the end:\n",
        "\n",
        "def splitArr(a, n, k): \n",
        "   b = a[:k]\n",
        "   return (a[k::]+b[::])\n",
        "          \n",
        "arr = [12, 10, 5, 6, 52, 36]\n",
        "n = len(arr)\n",
        "position = 2\n",
        "arr = splitArr(arr, n, position)\n",
        "for i in range(0, n): \n",
        "    print(arr[i], end = ' ')"
      ],
      "metadata": {
        "colab": {
          "base_uri": "https://localhost:8080/"
        },
        "id": "inr3soxT3Obr",
        "outputId": "9445fe78-746e-43e7-a134-17f9aa5a6bf1"
      },
      "execution_count": 4,
      "outputs": [
        {
          "output_type": "stream",
          "name": "stdout",
          "text": [
            "5 6 52 36 12 10 "
          ]
        }
      ]
    }
  ]
}