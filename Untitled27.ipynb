{
  "nbformat": 4,
  "nbformat_minor": 0,
  "metadata": {
    "colab": {
      "provenance": [],
      "authorship_tag": "ABX9TyOxBAQ+Cmul+KXObpAMVOuP",
      "include_colab_link": true
    },
    "kernelspec": {
      "name": "python3",
      "display_name": "Python 3"
    },
    "language_info": {
      "name": "python"
    }
  },
  "cells": [
    {
      "cell_type": "markdown",
      "metadata": {
        "id": "view-in-github",
        "colab_type": "text"
      },
      "source": [
        "<a href=\"https://colab.research.google.com/github/adityag155/Python-Programs/blob/main/Untitled27.ipynb\" target=\"_parent\"><img src=\"https://colab.research.google.com/assets/colab-badge.svg\" alt=\"Open In Colab\"/></a>"
      ]
    },
    {
      "cell_type": "code",
      "execution_count": 1,
      "metadata": {
        "colab": {
          "base_uri": "https://localhost:8080/"
        },
        "id": "FgOI--u32hkS",
        "outputId": "d2dd2855-3ac5-4c1d-af4a-54f01b92dfa1"
      },
      "outputs": [
        {
          "output_type": "stream",
          "name": "stdout",
          "text": [
            "['John', 678, 20.4, 'Peter']\n",
            "[456, 'Andrew']\n"
          ]
        }
      ],
      "source": [
        "#Liste literal:\n",
        "\n",
        "list=['John',678,20.4,'Peter']\n",
        "\n",
        "list1=[456,'Andrew']\n",
        "\n",
        "print(list)\n",
        "\n",
        "print(list1)\n"
      ]
    }
  ]
}