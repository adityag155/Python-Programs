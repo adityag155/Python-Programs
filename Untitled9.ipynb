{
  "nbformat": 4,
  "nbformat_minor": 0,
  "metadata": {
    "colab": {
      "name": "Untitled9.ipynb",
      "provenance": [],
      "collapsed_sections": [],
      "authorship_tag": "ABX9TyMHn5/AVv1Gq0W04anzg2Kg",
      "include_colab_link": true
    },
    "kernelspec": {
      "name": "python3",
      "display_name": "Python 3"
    },
    "language_info": {
      "name": "python"
    }
  },
  "cells": [
    {
      "cell_type": "markdown",
      "metadata": {
        "id": "view-in-github",
        "colab_type": "text"
      },
      "source": [
        "<a href=\"https://colab.research.google.com/github/adityag155/Python-Programs/blob/main/Untitled9.ipynb\" target=\"_parent\"><img src=\"https://colab.research.google.com/assets/colab-badge.svg\" alt=\"Open In Colab\"/></a>"
      ]
    },
    {
      "cell_type": "code",
      "source": [
        "#Python program Boolean literals:\n",
        "x=(1==True)\n",
        "y=(2==False)\n",
        "z=(3==True)\n",
        "a=True+10\n",
        "b=False+10\n",
        "print(\"x is\",x)\n",
        "print(\"y is\",y)\n",
        "print(\"z is\",z)\n",
        "print(\"a:\",a)\n",
        "print(\"b:\",b)"
      ],
      "metadata": {
        "colab": {
          "base_uri": "https://localhost:8080/"
        },
        "id": "6DUA6BgCI2Ec",
        "outputId": "bf4866ed-84f1-4da3-97b5-5b7445f6824b"
      },
      "execution_count": 6,
      "outputs": [
        {
          "output_type": "stream",
          "name": "stdout",
          "text": [
            "x is True\n",
            "y is False\n",
            "z is False\n",
            "a: 11\n",
            "b: 10\n"
          ]
        }
      ]
    },
    {
      "cell_type": "code",
      "source": [
        "#Python program for boolean literal:\n",
        "x=(x==True)\n",
        "y=(y==False)\n",
        "z=(z==True)\n",
        "a=True+10\n",
        "b=False+10\n",
        "print(\"x is\",x)\n",
        "print(\"y is\", y)\n",
        "print(\"z is\", z)\n",
        "print(\"a\",a)\n",
        "print(\"b\",b)"
      ],
      "metadata": {
        "colab": {
          "base_uri": "https://localhost:8080/"
        },
        "id": "rJdq0SkJNS5k",
        "outputId": "d1f263c5-c7b0-48a8-f7a7-4729eff384f6"
      },
      "execution_count": 7,
      "outputs": [
        {
          "output_type": "stream",
          "name": "stdout",
          "text": [
            "x is True\n",
            "y is True\n",
            "z is False\n",
            "a 11\n",
            "b 10\n"
          ]
        }
      ]
    },
    {
      "cell_type": "code",
      "source": [
        "#Literal in Python:\n",
        "text='Hello\\\n",
        "World'\n",
        "print(text)"
      ],
      "metadata": {
        "colab": {
          "base_uri": "https://localhost:8080/"
        },
        "id": "aK_tiL7AOHv4",
        "outputId": "fc775cf4-dc3a-477e-afc3-e6c5fff02a0a"
      },
      "execution_count": 8,
      "outputs": [
        {
          "output_type": "stream",
          "name": "stdout",
          "text": [
            "HelloWorld\n"
          ]
        }
      ]
    },
    {
      "cell_type": "code",
      "source": [
        "#Literal in Pythin:\n",
        "text='Hii\\\n",
        "Aditya here'\n",
        "print(text)"
      ],
      "metadata": {
        "colab": {
          "base_uri": "https://localhost:8080/"
        },
        "id": "tfQBdla7OdSt",
        "outputId": "cff90f6a-aead-41ea-e7ce-ee877e4c7970"
      },
      "execution_count": 16,
      "outputs": [
        {
          "output_type": "stream",
          "name": "stdout",
          "text": [
            "HiiAditya here\n"
          ]
        }
      ]
    },
    {
      "cell_type": "code",
      "source": [
        "#Boolean literal in Python\n",
        "x=(x==True)\n",
        "y=(y==False)\n",
        "z=(z==True)\n",
        "a=True+10\n",
        "b=False+10\n",
        "print(\"x is\", x)\n",
        "print(\"y is\", y)\n",
        "print(\"z is\", z)\n",
        "print(\"a\", a)\n",
        "print(\"b\", b)"
      ],
      "metadata": {
        "colab": {
          "base_uri": "https://localhost:8080/"
        },
        "id": "z1Mr-qLpO1Z9",
        "outputId": "0a684546-4016-4648-beb1-cdd20b05495b"
      },
      "execution_count": 18,
      "outputs": [
        {
          "output_type": "stream",
          "name": "stdout",
          "text": [
            "x is True\n",
            "y is True\n",
            "z is False\n",
            "a 11\n",
            "b 10\n"
          ]
        }
      ]
    },
    {
      "cell_type": "code",
      "source": [
        "#Python list in literals:\n",
        "list=('Aditya',8404,'Pune')\n",
        "list1=('Siddhant college of Enginering',413304)\n",
        "print(list)\n",
        "print(list+list1) "
      ],
      "metadata": {
        "colab": {
          "base_uri": "https://localhost:8080/"
        },
        "id": "zpG0PP6SPvpv",
        "outputId": "da737f8e-8e12-4ae3-e322-e16287e2dab6"
      },
      "execution_count": 30,
      "outputs": [
        {
          "output_type": "stream",
          "name": "stdout",
          "text": [
            "('Aditya', 8404, 'Pune')\n",
            "('Aditya', 8404, 'Pune', 'Siddhant college of Enginering', 413304)\n"
          ]
        }
      ]
    },
    {
      "cell_type": "code",
      "source": [
        "val1=10\n",
        "val2=None\n",
        "print(val1)\n",
        "print(val2)"
      ],
      "metadata": {
        "colab": {
          "base_uri": "https://localhost:8080/"
        },
        "id": "ZEf6_URNRnjh",
        "outputId": "907804d6-f557-4aa2-965c-844853012266"
      },
      "execution_count": 31,
      "outputs": [
        {
          "output_type": "stream",
          "name": "stdout",
          "text": [
            "10\n",
            "None\n"
          ]
        }
      ]
    }
  ]
}