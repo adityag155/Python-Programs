{
  "nbformat": 4,
  "nbformat_minor": 0,
  "metadata": {
    "colab": {
      "provenance": [],
      "authorship_tag": "ABX9TyPYh1ZQLKIAIowu4ta+Or97",
      "include_colab_link": true
    },
    "kernelspec": {
      "name": "python3",
      "display_name": "Python 3"
    },
    "language_info": {
      "name": "python"
    }
  },
  "cells": [
    {
      "cell_type": "markdown",
      "metadata": {
        "id": "view-in-github",
        "colab_type": "text"
      },
      "source": [
        "<a href=\"https://colab.research.google.com/github/adityag155/Python-Programs/blob/main/Untitled54.ipynb\" target=\"_parent\"><img src=\"https://colab.research.google.com/assets/colab-badge.svg\" alt=\"Open In Colab\"/></a>"
      ]
    },
    {
      "cell_type": "code",
      "execution_count": 1,
      "metadata": {
        "colab": {
          "base_uri": "https://localhost:8080/"
        },
        "id": "Swdh6rp_CMcI",
        "outputId": "5b857f43-97f6-47af-fc84-a4def8fbbcd4"
      },
      "outputs": [
        {
          "output_type": "stream",
          "name": "stdout",
          "text": [
            "No. of matching characters are :  5\n"
          ]
        }
      ],
      "source": [
        "# python count the number of matching chaacters in a pair of string:\n",
        "\n",
        "def count(str1, str2): \n",
        "    c, j = 0, 0\n",
        "      \n",
        "    for i in str1:    \n",
        "          \n",
        "        if str2.find(i)>= 0 and j == str1.find(i): \n",
        "            c += 1\n",
        "        j += 1\n",
        "    print ('No. of matching characters are : ', c)\n",
        "  \n",
        "# Main function\n",
        "def main(): \n",
        "    str1 ='aabcddekll12@' # first string\n",
        "    str2 ='bb2211@55k' # second string\n",
        "    count(str1, str2) # calling count function \n",
        "  \n",
        "# Driver Code\n",
        "if __name__==\"__main__\":\n",
        "    main()"
      ]
    },
    {
      "cell_type": "code",
      "source": [
        "# Remove all duplicate from a given string in python:\n",
        "\n",
        "from collections import OrderedDict\n",
        "\n",
        "def remove_duplicate(s):\n",
        "    string=set(s)\n",
        "    string=\"\".join(string)\n",
        "    dup=\"\"\n",
        "    for i in s:\n",
        "        if(i in dup):\n",
        "            pass\n",
        "        else:\n",
        "            dup=dup+i\n",
        "    print(\"After removing: \",dup)\n",
        "    \n",
        "s=\"stdsrdthw\"\n",
        "print(s)\n",
        "print(remove_duplicate(s))"
      ],
      "metadata": {
        "colab": {
          "base_uri": "https://localhost:8080/"
        },
        "id": "Z-6yAEUVCq1I",
        "outputId": "84db10a4-678f-43d5-ffee-3c07c1fb6daf"
      },
      "execution_count": 2,
      "outputs": [
        {
          "output_type": "stream",
          "name": "stdout",
          "text": [
            "stdsrdthw\n",
            "After removing:  stdrhw\n",
            "None\n"
          ]
        }
      ]
    },
    {
      "cell_type": "code",
      "source": [
        "# Python program to check if string contains any special character:\n",
        "\n",
        "import re\n",
        "\n",
        "def run(string):\n",
        "    regex = re.compile('[@_!#$%^&*()<>?/\\|}{~:]')\n",
        "    \n",
        "    if(regex.search(string) == None):\n",
        "        print(\"String is accepted\")\n",
        "    else:\n",
        "        print(\"String is not accepted\")\n",
        "\n",
        "#Driver code:\n",
        "if __name__ == '__main__':\n",
        "    #Enter the string:\n",
        "    string = \"Geeks$For$Geeks\"\n",
        "    \n",
        "    #Calling run function:\n",
        "    run(string)"
      ],
      "metadata": {
        "colab": {
          "base_uri": "https://localhost:8080/"
        },
        "id": "Vbu0QfThC4ZU",
        "outputId": "f49d6b7d-f386-45e1-ff82-9188ec5c0318"
      },
      "execution_count": 3,
      "outputs": [
        {
          "output_type": "stream",
          "name": "stdout",
          "text": [
            "String is not accepted\n"
          ]
        }
      ]
    },
    {
      "cell_type": "code",
      "source": [
        "# Python maximum frequency character in string:\n",
        "# initializing string \n",
        "test_str = \"GeeksforGeeks\"\n",
        "  \n",
        "# printing original string\n",
        "print (\"The original string is : \" + test_str)\n",
        "  \n",
        "# using naive method to get\n",
        "# Maximum frequency character in String\n",
        "all_freq = {}\n",
        "for i in test_str:\n",
        "    if i in all_freq:\n",
        "        all_freq[i] += 1\n",
        "    else:\n",
        "        all_freq[i] = 1\n",
        "res = max(all_freq, key = all_freq.get) \n",
        "  \n",
        "# printing result \n",
        "print (\"The maximum of all characters in GeeksforGeeks is : \" + str(res))\n"
      ],
      "metadata": {
        "colab": {
          "base_uri": "https://localhost:8080/"
        },
        "id": "po63c5X0DDr-",
        "outputId": "6edb7508-dd83-44c9-db97-d31d5e400722"
      },
      "execution_count": 4,
      "outputs": [
        {
          "output_type": "stream",
          "name": "stdout",
          "text": [
            "The original string is : GeeksforGeeks\n",
            "The maximum of all characters in GeeksforGeeks is : e\n"
          ]
        }
      ]
    },
    {
      "cell_type": "code",
      "source": [
        "# Python least frequent character in string:\n",
        "\n",
        "#Initializing string:\n",
        "test_str = \"GeeksforGeeks\"\n",
        "\n",
        "#Printing the original result:\n",
        "print(\"The original result is:\" +test_str)\n",
        "\n",
        "#Using naive method to get least frequent character in string:\n",
        "all_freq = {}\n",
        "for i in test_str:\n",
        "    if i in all_freq:\n",
        "        all_freq[i] += 1\n",
        "    else:\n",
        "        all_freq[i] = 1\n",
        "res = min(all_freq, key = all_freq.get)\n",
        "\n",
        "#printing result:\n",
        "print(\"The minimum of all characters in GeeksforGeeks is:\" +str(res))"
      ],
      "metadata": {
        "colab": {
          "base_uri": "https://localhost:8080/"
        },
        "id": "_Z3yoy2EDO3C",
        "outputId": "fa579298-1a09-44ed-93c3-3e0ec1101d35"
      },
      "execution_count": 5,
      "outputs": [
        {
          "output_type": "stream",
          "name": "stdout",
          "text": [
            "The original result is:GeeksforGeeks\n",
            "The minimum of all characters in GeeksforGeeks is:f\n"
          ]
        }
      ]
    }
  ]
}