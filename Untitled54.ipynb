{
  "nbformat": 4,
  "nbformat_minor": 0,
  "metadata": {
    "colab": {
      "provenance": [],
      "authorship_tag": "ABX9TyOLbXxr/v9kheK05sQ4U1tW",
      "include_colab_link": true
    },
    "kernelspec": {
      "name": "python3",
      "display_name": "Python 3"
    },
    "language_info": {
      "name": "python"
    }
  },
  "cells": [
    {
      "cell_type": "markdown",
      "metadata": {
        "id": "view-in-github",
        "colab_type": "text"
      },
      "source": [
        "<a href=\"https://colab.research.google.com/github/adityag155/Python-Programs/blob/main/Untitled54.ipynb\" target=\"_parent\"><img src=\"https://colab.research.google.com/assets/colab-badge.svg\" alt=\"Open In Colab\"/></a>"
      ]
    },
    {
      "cell_type": "code",
      "execution_count": 1,
      "metadata": {
        "colab": {
          "base_uri": "https://localhost:8080/"
        },
        "id": "Swdh6rp_CMcI",
        "outputId": "5b857f43-97f6-47af-fc84-a4def8fbbcd4"
      },
      "outputs": [
        {
          "output_type": "stream",
          "name": "stdout",
          "text": [
            "No. of matching characters are :  5\n"
          ]
        }
      ],
      "source": [
        "# python count the number of matching chaacters in a pair of string:\n",
        "\n",
        "def count(str1, str2): \n",
        "    c, j = 0, 0\n",
        "      \n",
        "    for i in str1:    \n",
        "          \n",
        "        if str2.find(i)>= 0 and j == str1.find(i): \n",
        "            c += 1\n",
        "        j += 1\n",
        "    print ('No. of matching characters are : ', c)\n",
        "  \n",
        "# Main function\n",
        "def main(): \n",
        "    str1 ='aabcddekll12@' # first string\n",
        "    str2 ='bb2211@55k' # second string\n",
        "    count(str1, str2) # calling count function \n",
        "  \n",
        "# Driver Code\n",
        "if __name__==\"__main__\":\n",
        "    main()"
      ]
    }
  ]
}