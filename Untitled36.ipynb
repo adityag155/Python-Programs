{
  "nbformat": 4,
  "nbformat_minor": 0,
  "metadata": {
    "colab": {
      "provenance": [],
      "authorship_tag": "ABX9TyOP/N/FYGIIirW/EIammNYP",
      "include_colab_link": true
    },
    "kernelspec": {
      "name": "python3",
      "display_name": "Python 3"
    },
    "language_info": {
      "name": "python"
    }
  },
  "cells": [
    {
      "cell_type": "markdown",
      "metadata": {
        "id": "view-in-github",
        "colab_type": "text"
      },
      "source": [
        "<a href=\"https://colab.research.google.com/github/adityag155/Python-Programs/blob/main/Untitled36.ipynb\" target=\"_parent\"><img src=\"https://colab.research.google.com/assets/colab-badge.svg\" alt=\"Open In Colab\"/></a>"
      ]
    },
    {
      "cell_type": "code",
      "execution_count": 1,
      "metadata": {
        "colab": {
          "base_uri": "https://localhost:8080/"
        },
        "id": "Mbb7PjPPjNqb",
        "outputId": "bda69884-e0a5-4da2-c04e-37f20862e12d"
      },
      "outputs": [
        {
          "output_type": "stream",
          "name": "stdout",
          "text": [
            "Inner function: 30\n",
            "Outer function: 30\n"
          ]
        }
      ],
      "source": [
        "#nonlocal keyword\n",
        "def outside_function():\n",
        "    a = 20\n",
        "    def inside_function():\n",
        "        nonlocal a\n",
        "        a = 30\n",
        "        print(\"Inner function:\",a)\n",
        "    inside_function()\n",
        "    print(\"Outer function:\",a)\n",
        "outside_function()"
      ]
    },
    {
      "cell_type": "code",
      "source": [
        "#lambda keyword\n",
        "a= lambda x:x**2\n",
        "for i in range(1,6):\n",
        "    print(a(i))\n"
      ],
      "metadata": {
        "id": "Mu59gHE3nZHA",
        "outputId": "fd54300c-91c1-4206-e775-f66b4f118646",
        "colab": {
          "base_uri": "https://localhost:8080/"
        }
      },
      "execution_count": 2,
      "outputs": [
        {
          "output_type": "stream",
          "name": "stdout",
          "text": [
            "1\n",
            "4\n",
            "9\n",
            "16\n",
            "25\n"
          ]
        }
      ]
    }
  ]
}