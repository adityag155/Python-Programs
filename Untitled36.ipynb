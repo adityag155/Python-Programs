{
  "nbformat": 4,
  "nbformat_minor": 0,
  "metadata": {
    "colab": {
      "provenance": [],
      "authorship_tag": "ABX9TyOZUShUGtoZJK+e0POdG2GX",
      "include_colab_link": true
    },
    "kernelspec": {
      "name": "python3",
      "display_name": "Python 3"
    },
    "language_info": {
      "name": "python"
    }
  },
  "cells": [
    {
      "cell_type": "markdown",
      "metadata": {
        "id": "view-in-github",
        "colab_type": "text"
      },
      "source": [
        "<a href=\"https://colab.research.google.com/github/adityag155/Python-Programs/blob/main/Untitled36.ipynb\" target=\"_parent\"><img src=\"https://colab.research.google.com/assets/colab-badge.svg\" alt=\"Open In Colab\"/></a>"
      ]
    },
    {
      "cell_type": "code",
      "execution_count": 1,
      "metadata": {
        "colab": {
          "base_uri": "https://localhost:8080/"
        },
        "id": "Mbb7PjPPjNqb",
        "outputId": "bda69884-e0a5-4da2-c04e-37f20862e12d"
      },
      "outputs": [
        {
          "output_type": "stream",
          "name": "stdout",
          "text": [
            "Inner function: 30\n",
            "Outer function: 30\n"
          ]
        }
      ],
      "source": [
        "#nonlocal keyword\n",
        "def outside_function():\n",
        "    a = 20\n",
        "    def inside_function():\n",
        "        nonlocal a\n",
        "        a = 30\n",
        "        print(\"Inner function:\",a)\n",
        "    inside_function()\n",
        "    print(\"Outer function:\",a)\n",
        "outside_function()"
      ]
    },
    {
      "cell_type": "code",
      "source": [
        "#lambda keyword\n",
        "a= lambda x:x**2\n",
        "for i in range(1,6):\n",
        "    print(a(i))\n"
      ],
      "metadata": {
        "colab": {
          "base_uri": "https://localhost:8080/"
        },
        "id": "Mu59gHE3nZHA",
        "outputId": "fd54300c-91c1-4206-e775-f66b4f118646"
      },
      "execution_count": 2,
      "outputs": [
        {
          "output_type": "stream",
          "name": "stdout",
          "text": [
            "1\n",
            "4\n",
            "9\n",
            "16\n",
            "25\n"
          ]
        }
      ]
    },
    {
      "cell_type": "code",
      "source": [
        "#yield keyword\n",
        "def fun_Generator():\n",
        "    yield 1\n",
        "    yield 2\n",
        "    yield 3\n",
        "for value in fun_Generator():\n",
        "    print(value)\n"
      ],
      "metadata": {
        "colab": {
          "base_uri": "https://localhost:8080/"
        },
        "id": "ADfJqgAMnlP1",
        "outputId": "3a1a5c41-7a72-4f49-c621-a66f0d4eb129"
      },
      "execution_count": 3,
      "outputs": [
        {
          "output_type": "stream",
          "name": "stdout",
          "text": [
            "1\n",
            "2\n",
            "3\n"
          ]
        }
      ]
    },
    {
      "cell_type": "code",
      "source": [
        "#None keyword\n",
        "def return_none():\n",
        "    a=10\n",
        "    b=20\n",
        "    c=a+b\n",
        "x=return_none()\n",
        "print(x)"
      ],
      "metadata": {
        "colab": {
          "base_uri": "https://localhost:8080/"
        },
        "id": "aBN3FWwmqlXT",
        "outputId": "fec47564-4ba6-4503-bd86-347dff1c1208"
      },
      "execution_count": 4,
      "outputs": [
        {
          "output_type": "stream",
          "name": "stdout",
          "text": [
            "None\n"
          ]
        }
      ]
    },
    {
      "cell_type": "code",
      "source": [
        "#Multi-line Literals\n",
        "#1]Adding black slash at the end of each line\n",
        "text1='hello\\\n",
        "user'\n",
        "print(text1)\n"
      ],
      "metadata": {
        "colab": {
          "base_uri": "https://localhost:8080/"
        },
        "id": "e-SmGgUlqpoO",
        "outputId": "91649c38-66e4-4853-d7aa-62671e848707"
      },
      "execution_count": 5,
      "outputs": [
        {
          "output_type": "stream",
          "name": "stdout",
          "text": [
            "hellouser\n"
          ]
        }
      ]
    },
    {
      "cell_type": "code",
      "source": [
        "#Numeric Literals\n",
        "x = 0b10100 #Binary Literals  \n",
        "y = 100 #Decimal Literal   \n",
        "z = 0o215 #Octal Literal  \n",
        "u = 0x12d #Hexadecimal Literal  \n",
        "  \n",
        "#Float Literal  \n",
        "float_1 = 100.5   \n",
        "float_2 = 1.5e2  \n",
        "  \n",
        "#Complex Literal   \n",
        "a = 5+3.14j  \n",
        "  \n",
        "print(x, y, z, u)  \n",
        "print(float_1, float_2)  \n",
        "print(a, a.imag, a.real)  \n"
      ],
      "metadata": {
        "colab": {
          "base_uri": "https://localhost:8080/"
        },
        "id": "YduHTvU3rBgK",
        "outputId": "c83a1249-ae75-4911-cc34-43f41c996897"
      },
      "execution_count": 6,
      "outputs": [
        {
          "output_type": "stream",
          "name": "stdout",
          "text": [
            "20 100 141 301\n",
            "100.5 150.0\n",
            "(5+3.14j) 3.14 5.0\n"
          ]
        }
      ]
    },
    {
      "cell_type": "code",
      "source": [
        "#Boolean literals\n",
        "#A Boolean literal can have any of the two values: True or False\n",
        "\n",
        "#Boolean literals\n",
        "x = (1 == True)  \n",
        "y = (2 == False)  \n",
        "z = (3 == True)  \n",
        "a = True + 10  \n",
        "b = False + 10  \n",
        "  \n",
        "print(\"x is\", x)  \n",
        "print(\"y is\", y)  \n",
        "print(\"z is\", z)  \n",
        "print(\"a:\", a)  \n",
        "print(\"b:\", b) \n"
      ],
      "metadata": {
        "colab": {
          "base_uri": "https://localhost:8080/"
        },
        "id": "GrRVLMBjrMqY",
        "outputId": "36cfb19c-8e4f-4596-a3be-8373596572dc"
      },
      "execution_count": 9,
      "outputs": [
        {
          "output_type": "stream",
          "name": "stdout",
          "text": [
            "x is True\n",
            "y is False\n",
            "z is False\n",
            "a: 11\n",
            "b: 10\n"
          ]
        }
      ]
    },
    {
      "cell_type": "code",
      "source": [],
      "metadata": {
        "id": "flNxoeg8rdEZ"
      },
      "execution_count": null,
      "outputs": []
    },
    {
      "cell_type": "code",
      "source": [
        "#Literal Collection\n",
        "\n",
        "#Python provides the four types of literal collection such as List literals, Tuple literals, Dict literals, and Set literals.\n",
        "#Liste literal:\n",
        "\n",
        "#List contains items of different data types. Lists are mutable i.e., modifiable.\n",
        "#The values stored in List are separated by comma(,) and enclosed within square brackets([]). We can store different types of data in a List.\n",
        "\n",
        "#Literal Collection\n",
        "\n",
        "#Liste literal:\n",
        "\n",
        "list=['John',678,20.4,'Peter']\n",
        "\n",
        "list1=[456,'Andrew']\n",
        "\n",
        "print(list)\n",
        "\n",
        "print(list1)\n"
      ],
      "metadata": {
        "colab": {
          "base_uri": "https://localhost:8080/"
        },
        "id": "f04gv4Ckrlta",
        "outputId": "a40ed19f-4ae5-4af5-ddda-a3511624b6da"
      },
      "execution_count": 10,
      "outputs": [
        {
          "output_type": "stream",
          "name": "stdout",
          "text": [
            "['John', 678, 20.4, 'Peter']\n",
            "[456, 'Andrew']\n"
          ]
        }
      ]
    },
    {
      "cell_type": "code",
      "source": [
        "#Dictionary Literal\n",
        "\n",
        "#Python dictionary stores the data in the key-value pair.\n",
        "#It is enclosed by curly-braces {} and each pair is separated by the commas(,).\n",
        "\n",
        "#Dictionary Literal\n",
        "dict={'name':'Pater','Age':21,'Roll_no':240}\n",
        "\n",
        "print(dict)\n"
      ],
      "metadata": {
        "colab": {
          "base_uri": "https://localhost:8080/"
        },
        "id": "8BoZwyIJrysK",
        "outputId": "0ae339c5-efaa-42a7-895d-07621364ee34"
      },
      "execution_count": 12,
      "outputs": [
        {
          "output_type": "stream",
          "name": "stdout",
          "text": [
            "{'name': 'Pater', 'Age': 21, 'Roll_no': 240}\n"
          ]
        }
      ]
    }
  ]
}