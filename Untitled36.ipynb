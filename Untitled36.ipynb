{
  "nbformat": 4,
  "nbformat_minor": 0,
  "metadata": {
    "colab": {
      "provenance": [],
      "authorship_tag": "ABX9TyMAY51Usg9hoc3ZXhufIKnM",
      "include_colab_link": true
    },
    "kernelspec": {
      "name": "python3",
      "display_name": "Python 3"
    },
    "language_info": {
      "name": "python"
    }
  },
  "cells": [
    {
      "cell_type": "markdown",
      "metadata": {
        "id": "view-in-github",
        "colab_type": "text"
      },
      "source": [
        "<a href=\"https://colab.research.google.com/github/adityag155/Python-Programs/blob/main/Untitled36.ipynb\" target=\"_parent\"><img src=\"https://colab.research.google.com/assets/colab-badge.svg\" alt=\"Open In Colab\"/></a>"
      ]
    },
    {
      "cell_type": "code",
      "execution_count": 1,
      "metadata": {
        "colab": {
          "base_uri": "https://localhost:8080/"
        },
        "id": "Mbb7PjPPjNqb",
        "outputId": "bda69884-e0a5-4da2-c04e-37f20862e12d"
      },
      "outputs": [
        {
          "output_type": "stream",
          "name": "stdout",
          "text": [
            "Inner function: 30\n",
            "Outer function: 30\n"
          ]
        }
      ],
      "source": [
        "#nonlocal keyword\n",
        "def outside_function():\n",
        "    a = 20\n",
        "    def inside_function():\n",
        "        nonlocal a\n",
        "        a = 30\n",
        "        print(\"Inner function:\",a)\n",
        "    inside_function()\n",
        "    print(\"Outer function:\",a)\n",
        "outside_function()"
      ]
    },
    {
      "cell_type": "code",
      "source": [
        "#lambda keyword\n",
        "a= lambda x:x**2\n",
        "for i in range(1,6):\n",
        "    print(a(i))\n"
      ],
      "metadata": {
        "colab": {
          "base_uri": "https://localhost:8080/"
        },
        "id": "Mu59gHE3nZHA",
        "outputId": "fd54300c-91c1-4206-e775-f66b4f118646"
      },
      "execution_count": 2,
      "outputs": [
        {
          "output_type": "stream",
          "name": "stdout",
          "text": [
            "1\n",
            "4\n",
            "9\n",
            "16\n",
            "25\n"
          ]
        }
      ]
    },
    {
      "cell_type": "code",
      "source": [
        "#yield keyword\n",
        "def fun_Generator():\n",
        "    yield 1\n",
        "    yield 2\n",
        "    yield 3\n",
        "for value in fun_Generator():\n",
        "    print(value)\n"
      ],
      "metadata": {
        "colab": {
          "base_uri": "https://localhost:8080/"
        },
        "id": "ADfJqgAMnlP1",
        "outputId": "3a1a5c41-7a72-4f49-c621-a66f0d4eb129"
      },
      "execution_count": 3,
      "outputs": [
        {
          "output_type": "stream",
          "name": "stdout",
          "text": [
            "1\n",
            "2\n",
            "3\n"
          ]
        }
      ]
    },
    {
      "cell_type": "code",
      "source": [
        "#None keyword\n",
        "def return_none():\n",
        "    a=10\n",
        "    b=20\n",
        "    c=a+b\n",
        "x=return_none()\n",
        "print(x)"
      ],
      "metadata": {
        "colab": {
          "base_uri": "https://localhost:8080/"
        },
        "id": "aBN3FWwmqlXT",
        "outputId": "fec47564-4ba6-4503-bd86-347dff1c1208"
      },
      "execution_count": 4,
      "outputs": [
        {
          "output_type": "stream",
          "name": "stdout",
          "text": [
            "None\n"
          ]
        }
      ]
    },
    {
      "cell_type": "code",
      "source": [
        "#Multi-line Literals\n",
        "#1]Adding black slash at the end of each line\n",
        "text1='hello\\\n",
        "user'\n",
        "print(text1)\n"
      ],
      "metadata": {
        "colab": {
          "base_uri": "https://localhost:8080/"
        },
        "id": "e-SmGgUlqpoO",
        "outputId": "91649c38-66e4-4853-d7aa-62671e848707"
      },
      "execution_count": 5,
      "outputs": [
        {
          "output_type": "stream",
          "name": "stdout",
          "text": [
            "hellouser\n"
          ]
        }
      ]
    },
    {
      "cell_type": "code",
      "source": [
        "#Numeric Literals\n",
        "x = 0b10100 #Binary Literals  \n",
        "y = 100 #Decimal Literal   \n",
        "z = 0o215 #Octal Literal  \n",
        "u = 0x12d #Hexadecimal Literal  \n",
        "  \n",
        "#Float Literal  \n",
        "float_1 = 100.5   \n",
        "float_2 = 1.5e2  \n",
        "  \n",
        "#Complex Literal   \n",
        "a = 5+3.14j  \n",
        "  \n",
        "print(x, y, z, u)  \n",
        "print(float_1, float_2)  \n",
        "print(a, a.imag, a.real)  \n"
      ],
      "metadata": {
        "id": "YduHTvU3rBgK",
        "outputId": "c83a1249-ae75-4911-cc34-43f41c996897",
        "colab": {
          "base_uri": "https://localhost:8080/"
        }
      },
      "execution_count": 6,
      "outputs": [
        {
          "output_type": "stream",
          "name": "stdout",
          "text": [
            "20 100 141 301\n",
            "100.5 150.0\n",
            "(5+3.14j) 3.14 5.0\n"
          ]
        }
      ]
    }
  ]
}