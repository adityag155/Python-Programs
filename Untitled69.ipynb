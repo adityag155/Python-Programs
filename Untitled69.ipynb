{
  "nbformat": 4,
  "nbformat_minor": 0,
  "metadata": {
    "colab": {
      "provenance": [],
      "authorship_tag": "ABX9TyNyAp08BuUsU5kne9HazOWu",
      "include_colab_link": true
    },
    "kernelspec": {
      "name": "python3",
      "display_name": "Python 3"
    },
    "language_info": {
      "name": "python"
    }
  },
  "cells": [
    {
      "cell_type": "markdown",
      "metadata": {
        "id": "view-in-github",
        "colab_type": "text"
      },
      "source": [
        "<a href=\"https://colab.research.google.com/github/adityag155/Python-Programs/blob/main/Untitled69.ipynb\" target=\"_parent\"><img src=\"https://colab.research.google.com/assets/colab-badge.svg\" alt=\"Open In Colab\"/></a>"
      ]
    },
    {
      "cell_type": "code",
      "execution_count": 1,
      "metadata": {
        "colab": {
          "base_uri": "https://localhost:8080/"
        },
        "id": "4Ed4nY_3dJui",
        "outputId": "b5307257-f813-4737-d4ff-c8c2cea3b275"
      },
      "outputs": [
        {
          "output_type": "stream",
          "name": "stdout",
          "text": [
            "The original list is:[12, 67, 98, 34]\n",
            "Lst Integer Summation:[3, 13, 17, 7]\n"
          ]
        }
      ],
      "source": [
        "#Python sum of number digit in list:\n",
        "#Using loop + str()\n",
        "\n",
        "test_list = [12, 67, 98, 34]\n",
        "print(\"The original list is:\"+str(test_list))\n",
        "res = []\n",
        "for ele in test_list:\n",
        "    sum = 0\n",
        "    for digit in str (ele):\n",
        "        sum+= int(digit)\n",
        "    res.append(sum)\n",
        "print(\"Lst Integer Summation:\" +str(res))\n"
      ]
    },
    {
      "cell_type": "code",
      "source": [
        "#Break a list into chunks of size N in python:\n",
        "\n",
        "my_list = ['geeks', 'for','geeks','like','geeky','nerdy','geek','love','questions','words','life']\n",
        "\n",
        "def divide_chunks(l , n):\n",
        "    #Looping till length l\n",
        "    for i in range(0, len(l), n):\n",
        "        yield l[i:i + n]\n",
        "#How many element each list should have\n",
        "n = 5\n",
        "x = list(divide_chunks(my_list, n))\n",
        "print(x)\n"
      ],
      "metadata": {
        "colab": {
          "base_uri": "https://localhost:8080/"
        },
        "id": "L8gXppX7e13s",
        "outputId": "3577dbfb-64ac-4b4d-d7e5-7318a4de3c97"
      },
      "execution_count": 2,
      "outputs": [
        {
          "output_type": "stream",
          "name": "stdout",
          "text": [
            "[['geeks', 'for', 'geeks', 'like', 'geeky'], ['nerdy', 'geek', 'love', 'questions', 'words'], ['life']]\n"
          ]
        }
      ]
    },
    {
      "cell_type": "code",
      "source": [
        "#Python sort the values of first list using second list:\n",
        "\n",
        "def sort_list(list1, list2):\n",
        "    zipped_pairs = zip(list2, list1)\n",
        "    z = [x for _, x in sorted (zipped_pairs)]\n",
        "    return z\n",
        "    \n",
        "x = [\"a\", \"b\", \"c\", \"d\", \"e\", \"f\", \"g\", \"h\",\"i\"]\n",
        "y = [0, 1, 1, 0, 1, 2, 2, 0, 1]\n",
        "\n",
        "print(sort_list(x, y))\n",
        "x = [\"g\", \"e\", \"e\", \"k\", \"s\", \"f\", \"o\", \"r\", \"g\", \"e\", \"e\", \"k\", \"s\"]\n",
        "y = [0, 1, 1, 0, 1, 2, 2, 0, 1]\n",
        "\n",
        "print(sort_list(x, y))\n"
      ],
      "metadata": {
        "colab": {
          "base_uri": "https://localhost:8080/"
        },
        "id": "QvVbxoa3fBTl",
        "outputId": "3608a5f1-67f3-4190-8f70-afada567ac50"
      },
      "execution_count": 3,
      "outputs": [
        {
          "output_type": "stream",
          "name": "stdout",
          "text": [
            "['a', 'd', 'h', 'b', 'c', 'e', 'i', 'f', 'g']\n",
            "['g', 'k', 'r', 'e', 'e', 'g', 's', 'f', 'o']\n"
          ]
        }
      ]
    }
  ]
}