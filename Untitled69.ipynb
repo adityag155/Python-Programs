{
  "nbformat": 4,
  "nbformat_minor": 0,
  "metadata": {
    "colab": {
      "provenance": [],
      "authorship_tag": "ABX9TyPa4AxLOSrKKQ/VrY7DAc/g",
      "include_colab_link": true
    },
    "kernelspec": {
      "name": "python3",
      "display_name": "Python 3"
    },
    "language_info": {
      "name": "python"
    }
  },
  "cells": [
    {
      "cell_type": "markdown",
      "metadata": {
        "id": "view-in-github",
        "colab_type": "text"
      },
      "source": [
        "<a href=\"https://colab.research.google.com/github/adityag155/Python-Programs/blob/main/Untitled69.ipynb\" target=\"_parent\"><img src=\"https://colab.research.google.com/assets/colab-badge.svg\" alt=\"Open In Colab\"/></a>"
      ]
    },
    {
      "cell_type": "code",
      "execution_count": 1,
      "metadata": {
        "colab": {
          "base_uri": "https://localhost:8080/"
        },
        "id": "4Ed4nY_3dJui",
        "outputId": "b5307257-f813-4737-d4ff-c8c2cea3b275"
      },
      "outputs": [
        {
          "output_type": "stream",
          "name": "stdout",
          "text": [
            "The original list is:[12, 67, 98, 34]\n",
            "Lst Integer Summation:[3, 13, 17, 7]\n"
          ]
        }
      ],
      "source": [
        "#Python sum of number digit in list:\n",
        "#Using loop + str()\n",
        "\n",
        "test_list = [12, 67, 98, 34]\n",
        "print(\"The original list is:\"+str(test_list))\n",
        "res = []\n",
        "for ele in test_list:\n",
        "    sum = 0\n",
        "    for digit in str (ele):\n",
        "        sum+= int(digit)\n",
        "    res.append(sum)\n",
        "print(\"Lst Integer Summation:\" +str(res))\n"
      ]
    }
  ]
}