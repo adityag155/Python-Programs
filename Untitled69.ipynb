{
  "nbformat": 4,
  "nbformat_minor": 0,
  "metadata": {
    "colab": {
      "provenance": [],
      "authorship_tag": "ABX9TyO/9LNBIsKSefGnoNUXsEus",
      "include_colab_link": true
    },
    "kernelspec": {
      "name": "python3",
      "display_name": "Python 3"
    },
    "language_info": {
      "name": "python"
    }
  },
  "cells": [
    {
      "cell_type": "markdown",
      "metadata": {
        "id": "view-in-github",
        "colab_type": "text"
      },
      "source": [
        "<a href=\"https://colab.research.google.com/github/adityag155/Python-Programs/blob/main/Untitled69.ipynb\" target=\"_parent\"><img src=\"https://colab.research.google.com/assets/colab-badge.svg\" alt=\"Open In Colab\"/></a>"
      ]
    },
    {
      "cell_type": "code",
      "execution_count": 1,
      "metadata": {
        "colab": {
          "base_uri": "https://localhost:8080/"
        },
        "id": "4Ed4nY_3dJui",
        "outputId": "b5307257-f813-4737-d4ff-c8c2cea3b275"
      },
      "outputs": [
        {
          "output_type": "stream",
          "name": "stdout",
          "text": [
            "The original list is:[12, 67, 98, 34]\n",
            "Lst Integer Summation:[3, 13, 17, 7]\n"
          ]
        }
      ],
      "source": [
        "#Python sum of number digit in list:\n",
        "#Using loop + str()\n",
        "\n",
        "test_list = [12, 67, 98, 34]\n",
        "print(\"The original list is:\"+str(test_list))\n",
        "res = []\n",
        "for ele in test_list:\n",
        "    sum = 0\n",
        "    for digit in str (ele):\n",
        "        sum+= int(digit)\n",
        "    res.append(sum)\n",
        "print(\"Lst Integer Summation:\" +str(res))\n"
      ]
    },
    {
      "cell_type": "code",
      "source": [
        "#Break a list into chunks of size N in python:\n",
        "\n",
        "my_list = ['geeks', 'for','geeks','like','geeky','nerdy','geek','love','questions','words','life']\n",
        "\n",
        "def divide_chunks(l , n):\n",
        "    #Looping till length l\n",
        "    for i in range(0, len(l), n):\n",
        "        yield l[i:i + n]\n",
        "#How many element each list should have\n",
        "n = 5\n",
        "x = list(divide_chunks(my_list, n))\n",
        "print(x)\n"
      ],
      "metadata": {
        "colab": {
          "base_uri": "https://localhost:8080/"
        },
        "id": "L8gXppX7e13s",
        "outputId": "3577dbfb-64ac-4b4d-d7e5-7318a4de3c97"
      },
      "execution_count": 2,
      "outputs": [
        {
          "output_type": "stream",
          "name": "stdout",
          "text": [
            "[['geeks', 'for', 'geeks', 'like', 'geeky'], ['nerdy', 'geek', 'love', 'questions', 'words'], ['life']]\n"
          ]
        }
      ]
    },
    {
      "cell_type": "code",
      "source": [
        "#Python sort the values of first list using second list:\n",
        "\n",
        "def sort_list(list1, list2):\n",
        "    zipped_pairs = zip(list2, list1)\n",
        "    z = [x for _, x in sorted (zipped_pairs)]\n",
        "    return z\n",
        "    \n",
        "x = [\"a\", \"b\", \"c\", \"d\", \"e\", \"f\", \"g\", \"h\",\"i\"]\n",
        "y = [0, 1, 1, 0, 1, 2, 2, 0, 1]\n",
        "\n",
        "print(sort_list(x, y))\n",
        "x = [\"g\", \"e\", \"e\", \"k\", \"s\", \"f\", \"o\", \"r\", \"g\", \"e\", \"e\", \"k\", \"s\"]\n",
        "y = [0, 1, 1, 0, 1, 2, 2, 0, 1]\n",
        "\n",
        "print(sort_list(x, y))\n"
      ],
      "metadata": {
        "colab": {
          "base_uri": "https://localhost:8080/"
        },
        "id": "QvVbxoa3fBTl",
        "outputId": "3608a5f1-67f3-4190-8f70-afada567ac50"
      },
      "execution_count": 3,
      "outputs": [
        {
          "output_type": "stream",
          "name": "stdout",
          "text": [
            "['a', 'd', 'h', 'b', 'c', 'e', 'i', 'f', 'g']\n",
            "['g', 'k', 'r', 'e', 'e', 'g', 's', 'f', 'o']\n"
          ]
        }
      ]
    },
    {
      "cell_type": "code",
      "source": [
        "#Matrix programs:\n",
        "\n",
        "#Python program to add two matrices:\n",
        "\n",
        "X = [[1, 2, 3],\n",
        "    [4, 5, 6],\n",
        "    [7, 8, 9]]\n",
        "\n",
        "Y = [[9, 8, 7],\n",
        "    [6, 5, 4],\n",
        "    [3, 2, 1]]\n",
        "    \n",
        "result = [[0, 0, 0],\n",
        "         [0, 0, 0],\n",
        "         [0, 0, 0]]\n",
        "for i in range(len(X)):\n",
        "    for j in range(len(X[0])):\n",
        "        result[i][j] = X[i][j] + Y[i][j]\n",
        "for r in result:\n",
        "    print(r)\n"
      ],
      "metadata": {
        "colab": {
          "base_uri": "https://localhost:8080/"
        },
        "id": "EFisdCRVfR8C",
        "outputId": "123a6a2f-67d3-4af9-84a9-c389c8d9ee91"
      },
      "execution_count": 4,
      "outputs": [
        {
          "output_type": "stream",
          "name": "stdout",
          "text": [
            "[10, 10, 10]\n",
            "[10, 10, 10]\n",
            "[10, 10, 10]\n"
          ]
        }
      ]
    },
    {
      "cell_type": "code",
      "source": [
        "#Python program to multiply two matrices:\n",
        "#take 3x3 matrix:\n",
        "A= [[12, 7, 3],\n",
        "    [4, 5, 6],\n",
        "    [7, 8, 9]]\n",
        "#Take 3x4 matrix:\n",
        "B = [[5, 8, 1, 2],\n",
        "    [6, 7, 3, 0],\n",
        "    [4, 5, 9, 1]]\n",
        "result = [[0, 0, 0, 0],\n",
        "        [0, 0, 0, 0,],\n",
        "        [0, 0, 0, 0]]\n",
        "#iterating by row of A:\n",
        "for i in range(len(A)):\n",
        "    #iterating by colum of B:\n",
        "    for j in range(len(B[0])):  \n",
        "        #iterating by row of B:\n",
        "        for k in range(len(B)):\n",
        "            result[i][j] += A[i][k] * B[k][j]\n",
        "for r in result:\n",
        "    print(r)\n"
      ],
      "metadata": {
        "colab": {
          "base_uri": "https://localhost:8080/"
        },
        "id": "uLTmeqiAfY6P",
        "outputId": "207954a2-6c1a-4d71-d8af-74a623232ce6"
      },
      "execution_count": 5,
      "outputs": [
        {
          "output_type": "stream",
          "name": "stdout",
          "text": [
            "[114, 160, 60, 27]\n",
            "[74, 97, 73, 14]\n",
            "[119, 157, 112, 23]\n"
          ]
        }
      ]
    }
  ]
}