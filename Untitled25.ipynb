{
  "nbformat": 4,
  "nbformat_minor": 0,
  "metadata": {
    "colab": {
      "provenance": [],
      "authorship_tag": "ABX9TyMvRjgUDkFfM1ymFvRcW7P+",
      "include_colab_link": true
    },
    "kernelspec": {
      "name": "python3",
      "display_name": "Python 3"
    },
    "language_info": {
      "name": "python"
    }
  },
  "cells": [
    {
      "cell_type": "markdown",
      "metadata": {
        "id": "view-in-github",
        "colab_type": "text"
      },
      "source": [
        "<a href=\"https://colab.research.google.com/github/adityag155/Python-Programs/blob/main/Untitled25.ipynb\" target=\"_parent\"><img src=\"https://colab.research.google.com/assets/colab-badge.svg\" alt=\"Open In Colab\"/></a>"
      ]
    },
    {
      "cell_type": "code",
      "execution_count": 5,
      "metadata": {
        "colab": {
          "base_uri": "https://localhost:8080/"
        },
        "id": "VJncd9lzlMky",
        "outputId": "f1bc5601-3642-4bc1-d2ca-2e641cccd82b"
      },
      "outputs": [
        {
          "output_type": "stream",
          "name": "stdout",
          "text": [
            "sum of 10 and 20 is 30\n"
          ]
        }
      ],
      "source": [
        "a1=10\n",
        "b2=20\n",
        "\n",
        "sum=a1+b2\n",
        "print('sum of {0} and {1} is {2}'.format(a1, b2, sum))"
      ]
    },
    {
      "cell_type": "code",
      "source": [],
      "metadata": {
        "id": "t2vSueetm4m9"
      },
      "execution_count": null,
      "outputs": []
    }
  ]
}