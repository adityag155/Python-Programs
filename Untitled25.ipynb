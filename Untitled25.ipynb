{
  "nbformat": 4,
  "nbformat_minor": 0,
  "metadata": {
    "colab": {
      "provenance": [],
      "authorship_tag": "ABX9TyOO8AjfT0scbIyn9n8DW/Ey",
      "include_colab_link": true
    },
    "kernelspec": {
      "name": "python3",
      "display_name": "Python 3"
    },
    "language_info": {
      "name": "python"
    }
  },
  "cells": [
    {
      "cell_type": "markdown",
      "metadata": {
        "id": "view-in-github",
        "colab_type": "text"
      },
      "source": [
        "<a href=\"https://colab.research.google.com/github/adityag155/Python-Programs/blob/main/Untitled25.ipynb\" target=\"_parent\"><img src=\"https://colab.research.google.com/assets/colab-badge.svg\" alt=\"Open In Colab\"/></a>"
      ]
    },
    {
      "cell_type": "code",
      "execution_count": 5,
      "metadata": {
        "colab": {
          "base_uri": "https://localhost:8080/"
        },
        "id": "VJncd9lzlMky",
        "outputId": "f1bc5601-3642-4bc1-d2ca-2e641cccd82b"
      },
      "outputs": [
        {
          "output_type": "stream",
          "name": "stdout",
          "text": [
            "sum of 10 and 20 is 30\n"
          ]
        }
      ],
      "source": [
        "a1=10\n",
        "b2=20\n",
        "\n",
        "sum=a1+b2\n",
        "print('sum of {0} and {1} is {2}'.format(a1, b2, sum))"
      ]
    },
    {
      "cell_type": "code",
      "source": [
        "#Access Specifier:\n",
        "\n",
        "class Geek:\n",
        "  def __init__(self,name,age):\n",
        "    self.geekName=name\n",
        "    self.geekAge=age\n",
        "  def displayAge(self):\n",
        "    print(\"Age\",self.geekAge)\n",
        "obj=Geek('R@J',20)\n",
        "print(\"Name:\",obj.geekName)\n",
        "obj.displayAge()"
      ],
      "metadata": {
        "colab": {
          "base_uri": "https://localhost:8080/"
        },
        "id": "t2vSueetm4m9",
        "outputId": "0b5d95f9-2207-4943-912b-aa4bc6c88a21"
      },
      "execution_count": 6,
      "outputs": [
        {
          "output_type": "stream",
          "name": "stdout",
          "text": [
            "Name: R@J\n",
            "Age 20\n"
          ]
        }
      ]
    }
  ]
}