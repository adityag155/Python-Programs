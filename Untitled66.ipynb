{
  "nbformat": 4,
  "nbformat_minor": 0,
  "metadata": {
    "colab": {
      "provenance": [],
      "authorship_tag": "ABX9TyO6hmhn2c1K4Nrnm6PXTLnG",
      "include_colab_link": true
    },
    "kernelspec": {
      "name": "python3",
      "display_name": "Python 3"
    },
    "language_info": {
      "name": "python"
    }
  },
  "cells": [
    {
      "cell_type": "markdown",
      "metadata": {
        "id": "view-in-github",
        "colab_type": "text"
      },
      "source": [
        "<a href=\"https://colab.research.google.com/github/adityag155/Python-Programs/blob/main/Untitled66.ipynb\" target=\"_parent\"><img src=\"https://colab.research.google.com/assets/colab-badge.svg\" alt=\"Open In Colab\"/></a>"
      ]
    },
    {
      "cell_type": "code",
      "execution_count": 2,
      "metadata": {
        "colab": {
          "base_uri": "https://localhost:8080/",
          "height": 130
        },
        "id": "sh5dWpzArq_5",
        "outputId": "bed10389-69df-406c-defb-be56719f1cee"
      },
      "outputs": [
        {
          "output_type": "error",
          "ename": "SyntaxError",
          "evalue": "ignored",
          "traceback": [
            "\u001b[0;36m  File \u001b[0;32m\"<ipython-input-2-d11d33e3f4da>\"\u001b[0;36m, line \u001b[0;32m4\u001b[0m\n\u001b[0;31m    def__init__(self,value: T):\u001b[0m\n\u001b[0m                          ^\u001b[0m\n\u001b[0;31mSyntaxError\u001b[0m\u001b[0;31m:\u001b[0m invalid syntax\n"
          ]
        }
      ],
      "source": [
        "from typing import TypeVar,Generic, Type\n",
        "T=TypeVar('T')\n",
        "class FinalProperty(Generic[T]):\n",
        "  def__init__(self,value: T):\n",
        "    self.__value=value\n",
        "  def__get__(self,instance:Type,owner)->T:\n",
        "    return self.__value\n",
        "  def__set__(self,instance:Type, value:T)->None:\n",
        "    raise ValueError(\"Final types can't be set\")"
      ]
    }
  ]
}