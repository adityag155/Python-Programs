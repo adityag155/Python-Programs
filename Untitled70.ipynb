{
  "nbformat": 4,
  "nbformat_minor": 0,
  "metadata": {
    "colab": {
      "provenance": [],
      "authorship_tag": "ABX9TyOOWDPxVTCmbM25DnNjgOu3",
      "include_colab_link": true
    },
    "kernelspec": {
      "name": "python3",
      "display_name": "Python 3"
    },
    "language_info": {
      "name": "python"
    }
  },
  "cells": [
    {
      "cell_type": "markdown",
      "metadata": {
        "id": "view-in-github",
        "colab_type": "text"
      },
      "source": [
        "<a href=\"https://colab.research.google.com/github/adityag155/Python-Programs/blob/main/Untitled70.ipynb\" target=\"_parent\"><img src=\"https://colab.research.google.com/assets/colab-badge.svg\" alt=\"Open In Colab\"/></a>"
      ]
    },
    {
      "cell_type": "code",
      "execution_count": 1,
      "metadata": {
        "colab": {
          "base_uri": "https://localhost:8080/"
        },
        "id": "Qso-65szBfsi",
        "outputId": "3d14a95a-eb51-4a43-d654-803b6c56b192"
      },
      "outputs": [
        {
          "output_type": "stream",
          "name": "stdout",
          "text": [
            "accepted\n"
          ]
        }
      ],
      "source": [
        "#Python program to accept the strings which contains all vowels:\n",
        "\n",
        "def check(string):\n",
        "    string = string.replace(' ', ' ')\n",
        "    string = string.lower()\n",
        "    vowel = [string.count('a'), string.count('e'), string.count('i'), string.count('o'), string.count('u')]\n",
        "    #if 0 is present int vowel count array\n",
        "    if vowel.count(0) > 0:\n",
        "        return('not accpeted')\n",
        "    else:\n",
        "        return('accepted')\n",
        "#Driver code:\n",
        "if __name__==\"__main__\":\n",
        "    string = \"SEEquoiaL\"\n",
        "    print(check(string))"
      ]
    },
    {
      "cell_type": "code",
      "source": [
        "#Python count the number of matching characters in a pair of string:\n",
        "\n",
        "#count function:\n",
        "def count(str1, str2):\n",
        "    c, j = 0, 0\n",
        "    \n",
        "    for i in str1:\n",
        "        \n",
        "        if str2.find(i)>=0 and j == str1.find(i):\n",
        "            c += 1\n",
        "        j += 1\n",
        "    print('No. of matching characters arre: ', c)\n",
        "    \n",
        "#main function:\n",
        "def main():\n",
        "    str1 = 'aabcddek1112@'#first string \n",
        "    str2 = 'bb2211@55k' #second string\n",
        "    count(str1, str2)#calling count function\n",
        "#driver code\n",
        "if __name__ == \"__main__\":\n",
        "    main()\n"
      ],
      "metadata": {
        "colab": {
          "base_uri": "https://localhost:8080/"
        },
        "id": "Z9sCS_xtIJGP",
        "outputId": "14dc4529-1af4-4024-d2d6-d94eae5b8ba9"
      },
      "execution_count": 2,
      "outputs": [
        {
          "output_type": "stream",
          "name": "stdout",
          "text": [
            "No. of matching characters arre:  5\n"
          ]
        }
      ]
    },
    {
      "cell_type": "code",
      "source": [
        "#Remove all duplicate from a given string in python:\n",
        "def removeDuplicate(str):\n",
        "    s=set(str)\n",
        "    s=\"\".join(s)\n",
        "    print(\"without order:\", s)\n",
        "    t=\"\"\n",
        "    for i in str:\n",
        "        if (i in t):\n",
        "            pass\n",
        "        else:\n",
        "            t=t+i\n",
        "        print(\"with order:\",t)\n",
        "str=\"geeksforgeeks\"\n",
        "removeDuplicate(str)\n"
      ],
      "metadata": {
        "colab": {
          "base_uri": "https://localhost:8080/"
        },
        "id": "LebzrIorIb7q",
        "outputId": "8e3d7367-0887-4d29-bc54-5a0a7e12e367"
      },
      "execution_count": 3,
      "outputs": [
        {
          "output_type": "stream",
          "name": "stdout",
          "text": [
            "without order: gfksero\n",
            "with order: g\n",
            "with order: ge\n",
            "with order: ge\n",
            "with order: gek\n",
            "with order: geks\n",
            "with order: geksf\n",
            "with order: geksfo\n",
            "with order: geksfor\n",
            "with order: geksfor\n",
            "with order: geksfor\n",
            "with order: geksfor\n",
            "with order: geksfor\n",
            "with order: geksfor\n"
          ]
        }
      ]
    },
    {
      "cell_type": "code",
      "source": [
        "#Python least frequent character in string:\n",
        "\n",
        "#Initializing string:\n",
        "test_str = \"GeeksforGeeks\"\n",
        "\n",
        "#print the original string:\n",
        "print(\"The original string\"+str(test_str))\n",
        "\n",
        "#Using naive method to get  \n",
        "#Least frequent character in string:\n",
        "all_freq = {}\n",
        "for i in test_str:\n",
        "    if i in all_freq:\n",
        "        all_freq[i] += 1\n",
        "    else:\n",
        "        all_freq[i] = 1\n",
        "res = min(all_freq, key = all_freq.get)\n",
        "\n",
        "#printing result:\n",
        "print(\"The minimum of all character in GeeksforGeeks is: \"+ str(res))\n"
      ],
      "metadata": {
        "colab": {
          "base_uri": "https://localhost:8080/",
          "height": 235
        },
        "id": "5_AJ-JxzI9RG",
        "outputId": "4833c1bb-2e50-452d-a5ea-cada2e0159b9"
      },
      "execution_count": 4,
      "outputs": [
        {
          "output_type": "error",
          "ename": "TypeError",
          "evalue": "ignored",
          "traceback": [
            "\u001b[0;31m---------------------------------------------------------------------------\u001b[0m",
            "\u001b[0;31mTypeError\u001b[0m                                 Traceback (most recent call last)",
            "\u001b[0;32m<ipython-input-4-10609380e29c>\u001b[0m in \u001b[0;36m<module>\u001b[0;34m\u001b[0m\n\u001b[1;32m      5\u001b[0m \u001b[0;34m\u001b[0m\u001b[0m\n\u001b[1;32m      6\u001b[0m \u001b[0;31m#print the original string:\u001b[0m\u001b[0;34m\u001b[0m\u001b[0;34m\u001b[0m\u001b[0m\n\u001b[0;32m----> 7\u001b[0;31m \u001b[0mprint\u001b[0m\u001b[0;34m(\u001b[0m\u001b[0;34m\"The original string\"\u001b[0m\u001b[0;34m+\u001b[0m\u001b[0mstr\u001b[0m\u001b[0;34m(\u001b[0m\u001b[0mtest_str\u001b[0m\u001b[0;34m)\u001b[0m\u001b[0;34m)\u001b[0m\u001b[0;34m\u001b[0m\u001b[0;34m\u001b[0m\u001b[0m\n\u001b[0m\u001b[1;32m      8\u001b[0m \u001b[0;34m\u001b[0m\u001b[0m\n\u001b[1;32m      9\u001b[0m \u001b[0;31m#Using naive method to get\u001b[0m\u001b[0;34m\u001b[0m\u001b[0;34m\u001b[0m\u001b[0m\n",
            "\u001b[0;31mTypeError\u001b[0m: 'str' object is not callable"
          ]
        }
      ]
    }
  ]
}