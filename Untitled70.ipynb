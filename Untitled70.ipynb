{
  "nbformat": 4,
  "nbformat_minor": 0,
  "metadata": {
    "colab": {
      "provenance": [],
      "authorship_tag": "ABX9TyOvctHhSx9TvTPkvL6wruBD",
      "include_colab_link": true
    },
    "kernelspec": {
      "name": "python3",
      "display_name": "Python 3"
    },
    "language_info": {
      "name": "python"
    }
  },
  "cells": [
    {
      "cell_type": "markdown",
      "metadata": {
        "id": "view-in-github",
        "colab_type": "text"
      },
      "source": [
        "<a href=\"https://colab.research.google.com/github/adityag155/Python-Programs/blob/main/Untitled70.ipynb\" target=\"_parent\"><img src=\"https://colab.research.google.com/assets/colab-badge.svg\" alt=\"Open In Colab\"/></a>"
      ]
    },
    {
      "cell_type": "code",
      "execution_count": 1,
      "metadata": {
        "colab": {
          "base_uri": "https://localhost:8080/"
        },
        "id": "Qso-65szBfsi",
        "outputId": "3d14a95a-eb51-4a43-d654-803b6c56b192"
      },
      "outputs": [
        {
          "output_type": "stream",
          "name": "stdout",
          "text": [
            "accepted\n"
          ]
        }
      ],
      "source": [
        "#Python program to accept the strings which contains all vowels:\n",
        "\n",
        "def check(string):\n",
        "    string = string.replace(' ', ' ')\n",
        "    string = string.lower()\n",
        "    vowel = [string.count('a'), string.count('e'), string.count('i'), string.count('o'), string.count('u')]\n",
        "    #if 0 is present int vowel count array\n",
        "    if vowel.count(0) > 0:\n",
        "        return('not accpeted')\n",
        "    else:\n",
        "        return('accepted')\n",
        "#Driver code:\n",
        "if __name__==\"__main__\":\n",
        "    string = \"SEEquoiaL\"\n",
        "    print(check(string))"
      ]
    },
    {
      "cell_type": "code",
      "source": [
        "#Python count the number of matching characters in a pair of string:\n",
        "\n",
        "#count function:\n",
        "def count(str1, str2):\n",
        "    c, j = 0, 0\n",
        "    \n",
        "    for i in str1:\n",
        "        \n",
        "        if str2.find(i)>=0 and j == str1.find(i):\n",
        "            c += 1\n",
        "        j += 1\n",
        "    print('No. of matching characters arre: ', c)\n",
        "    \n",
        "#main function:\n",
        "def main():\n",
        "    str1 = 'aabcddek1112@'#first string \n",
        "    str2 = 'bb2211@55k' #second string\n",
        "    count(str1, str2)#calling count function\n",
        "#driver code\n",
        "if __name__ == \"__main__\":\n",
        "    main()\n"
      ],
      "metadata": {
        "colab": {
          "base_uri": "https://localhost:8080/"
        },
        "id": "Z9sCS_xtIJGP",
        "outputId": "14dc4529-1af4-4024-d2d6-d94eae5b8ba9"
      },
      "execution_count": 2,
      "outputs": [
        {
          "output_type": "stream",
          "name": "stdout",
          "text": [
            "No. of matching characters arre:  5\n"
          ]
        }
      ]
    },
    {
      "cell_type": "code",
      "source": [],
      "metadata": {
        "id": "LebzrIorIb7q"
      },
      "execution_count": null,
      "outputs": []
    }
  ]
}