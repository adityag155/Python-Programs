{
  "nbformat": 4,
  "nbformat_minor": 0,
  "metadata": {
    "colab": {
      "provenance": [],
      "authorship_tag": "ABX9TyMDpElxsm18YNK9e/9wKlHA",
      "include_colab_link": true
    },
    "kernelspec": {
      "name": "python3",
      "display_name": "Python 3"
    },
    "language_info": {
      "name": "python"
    }
  },
  "cells": [
    {
      "cell_type": "markdown",
      "metadata": {
        "id": "view-in-github",
        "colab_type": "text"
      },
      "source": [
        "<a href=\"https://colab.research.google.com/github/adityag155/Python-Programs/blob/main/Untitled70.ipynb\" target=\"_parent\"><img src=\"https://colab.research.google.com/assets/colab-badge.svg\" alt=\"Open In Colab\"/></a>"
      ]
    },
    {
      "cell_type": "code",
      "execution_count": 1,
      "metadata": {
        "colab": {
          "base_uri": "https://localhost:8080/"
        },
        "id": "Qso-65szBfsi",
        "outputId": "3d14a95a-eb51-4a43-d654-803b6c56b192"
      },
      "outputs": [
        {
          "output_type": "stream",
          "name": "stdout",
          "text": [
            "accepted\n"
          ]
        }
      ],
      "source": [
        "#Python program to accept the strings which contains all vowels:\n",
        "\n",
        "def check(string):\n",
        "    string = string.replace(' ', ' ')\n",
        "    string = string.lower()\n",
        "    vowel = [string.count('a'), string.count('e'), string.count('i'), string.count('o'), string.count('u')]\n",
        "    #if 0 is present int vowel count array\n",
        "    if vowel.count(0) > 0:\n",
        "        return('not accpeted')\n",
        "    else:\n",
        "        return('accepted')\n",
        "#Driver code:\n",
        "if __name__==\"__main__\":\n",
        "    string = \"SEEquoiaL\"\n",
        "    print(check(string))"
      ]
    }
  ]
}