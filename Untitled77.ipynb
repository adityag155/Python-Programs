{
  "nbformat": 4,
  "nbformat_minor": 0,
  "metadata": {
    "colab": {
      "provenance": [],
      "authorship_tag": "ABX9TyNF0GYvCVx3CDlkBgCZp3vU",
      "include_colab_link": true
    },
    "kernelspec": {
      "name": "python3",
      "display_name": "Python 3"
    },
    "language_info": {
      "name": "python"
    }
  },
  "cells": [
    {
      "cell_type": "markdown",
      "metadata": {
        "id": "view-in-github",
        "colab_type": "text"
      },
      "source": [
        "<a href=\"https://colab.research.google.com/github/adityag155/Python-Programs/blob/main/Untitled77.ipynb\" target=\"_parent\"><img src=\"https://colab.research.google.com/assets/colab-badge.svg\" alt=\"Open In Colab\"/></a>"
      ]
    },
    {
      "cell_type": "code",
      "execution_count": 1,
      "metadata": {
        "colab": {
          "base_uri": "https://localhost:8080/"
        },
        "id": "Gm1uRZfPOlJj",
        "outputId": "a32136ad-c13e-4f09-f8b9-315488052df9"
      },
      "outputs": [
        {
          "output_type": "stream",
          "name": "stdout",
          "text": [
            "The original dictionary is:{'Gfg': 1, 'is': 3, 'Best': 2}\n",
            "The ordered keys and values:['Gfg', 'is', 'Best', 1, 3, 2]\n"
          ]
        }
      ],
      "source": [
        "#Python append dictionary keys and values (in order)in dictionary:\n",
        "\n",
        "#Initializing dictionary:\n",
        "test_dict = {\"Gfg\": 1, \"is\": 3, \"Best\": 2}\n",
        "\n",
        "#Printing original dictionary:\n",
        "print(\"The original dictionary is:\"+str(test_dict))\n",
        "\n",
        "# +operator is used to perform adding keys and values:\n",
        "res = list(test_dict.keys())+list(test_dict.values())\n",
        "\n",
        "#Printing result:\n",
        "print(\"The ordered keys and values:\"+str(res))\n"
      ]
    },
    {
      "cell_type": "code",
      "source": [
        "#Python sort Python Dictionaries by key or values:\n",
        "\n",
        "# Function calling\n",
        "def dictionairy():\n",
        " # Declare hash function     \n",
        " key_value ={}   \n",
        " \n",
        "# Initializing value\n",
        " key_value[2] = 56      \n",
        " key_value[1] = 2\n",
        " key_value[5] = 12\n",
        " key_value[4] = 24\n",
        " key_value[6] = 18     \n",
        " key_value[3] = 323\n",
        " \n",
        " print (\"Task 1:-\\n\")\n",
        " print (\"Keys are\")\n",
        "  \n",
        " # iterkeys() returns an iterator over the\n",
        " # dictionary’s keys.\n",
        " for i in sorted (key_value.keys()) :\n",
        "     print(i, end = \" \")\n",
        " \n",
        "def main():\n",
        "    # function calling\n",
        "    dictionairy()            \n",
        "     \n",
        "# Main function calling\n",
        "if __name__==\"__main__\":     \n",
        "    main()\n"
      ],
      "metadata": {
        "colab": {
          "base_uri": "https://localhost:8080/"
        },
        "id": "xJ0YQAbcO23N",
        "outputId": "e909b147-8ed6-4390-ed19-e2b9b7f88f95"
      },
      "execution_count": 2,
      "outputs": [
        {
          "output_type": "stream",
          "name": "stdout",
          "text": [
            "Task 1:-\n",
            "\n",
            "Keys are\n",
            "1 2 3 4 5 6 "
          ]
        }
      ]
    },
    {
      "cell_type": "code",
      "source": [
        "#Python sort dictionary key and values list:\n",
        "\n",
        "# initializing dictionary\n",
        "test_dict = {'gfg': [7, 6, 3], \n",
        "             'is': [2, 10, 3], \n",
        "             'best': [19, 4]}\n",
        "  \n",
        "# printing original dictionary\n",
        "print(\"The original dictionary is : \" + str(test_dict))\n",
        "  \n",
        "# Sort Dictionary key and values List\n",
        "# Using loop + dictionary comprehension\n",
        "res = dict()\n",
        "for key in sorted(test_dict):\n",
        "    res[key] = sorted(test_dict[key])\n",
        "  \n",
        "# printing result \n",
        "print(\"The sorted dictionary : \" + str(res))\n"
      ],
      "metadata": {
        "colab": {
          "base_uri": "https://localhost:8080/"
        },
        "id": "t0G5i8KFPBpW",
        "outputId": "08229466-5d54-4c97-c492-807ac6ef24e1"
      },
      "execution_count": 3,
      "outputs": [
        {
          "output_type": "stream",
          "name": "stdout",
          "text": [
            "The original dictionary is : {'gfg': [7, 6, 3], 'is': [2, 10, 3], 'best': [19, 4]}\n",
            "The sorted dictionary : {'best': [4, 19], 'gfg': [3, 6, 7], 'is': [2, 3, 10]}\n"
          ]
        }
      ]
    }
  ]
}