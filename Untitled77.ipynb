{
  "cells": [
    {
      "cell_type": "markdown",
      "metadata": {
        "id": "view-in-github",
        "colab_type": "text"
      },
      "source": [
        "<a href=\"https://colab.research.google.com/github/adityag155/Python-Programs/blob/main/Untitled77.ipynb\" target=\"_parent\"><img src=\"https://colab.research.google.com/assets/colab-badge.svg\" alt=\"Open In Colab\"/></a>"
      ]
    },
    {
      "cell_type": "code",
      "execution_count": null,
      "metadata": {
        "colab": {
          "base_uri": "https://localhost:8080/"
        },
        "id": "Gm1uRZfPOlJj",
        "outputId": "a32136ad-c13e-4f09-f8b9-315488052df9"
      },
      "outputs": [
        {
          "name": "stdout",
          "output_type": "stream",
          "text": [
            "The original dictionary is:{'Gfg': 1, 'is': 3, 'Best': 2}\n",
            "The ordered keys and values:['Gfg', 'is', 'Best', 1, 3, 2]\n"
          ]
        }
      ],
      "source": [
        "#Python append dictionary keys and values (in order)in dictionary:\n",
        "\n",
        "#Initializing dictionary:\n",
        "test_dict = {\"Gfg\": 1, \"is\": 3, \"Best\": 2}\n",
        "\n",
        "#Printing original dictionary:\n",
        "print(\"The original dictionary is:\"+str(test_dict))\n",
        "\n",
        "# +operator is used to perform adding keys and values:\n",
        "res = list(test_dict.keys())+list(test_dict.values())\n",
        "\n",
        "#Printing result:\n",
        "print(\"The ordered keys and values:\"+str(res))\n"
      ]
    },
    {
      "cell_type": "code",
      "execution_count": null,
      "metadata": {
        "colab": {
          "base_uri": "https://localhost:8080/"
        },
        "id": "xJ0YQAbcO23N",
        "outputId": "e909b147-8ed6-4390-ed19-e2b9b7f88f95"
      },
      "outputs": [
        {
          "name": "stdout",
          "output_type": "stream",
          "text": [
            "Task 1:-\n",
            "\n",
            "Keys are\n",
            "1 2 3 4 5 6 "
          ]
        }
      ],
      "source": [
        "#Python sort Python Dictionaries by key or values:\n",
        "\n",
        "# Function calling\n",
        "def dictionairy():\n",
        " # Declare hash function     \n",
        " key_value ={}   \n",
        " \n",
        "# Initializing value\n",
        " key_value[2] = 56      \n",
        " key_value[1] = 2\n",
        " key_value[5] = 12\n",
        " key_value[4] = 24\n",
        " key_value[6] = 18     \n",
        " key_value[3] = 323\n",
        " \n",
        " print (\"Task 1:-\\n\")\n",
        " print (\"Keys are\")\n",
        "  \n",
        " # iterkeys() returns an iterator over the\n",
        " # dictionary’s keys.\n",
        " for i in sorted (key_value.keys()) :\n",
        "     print(i, end = \" \")\n",
        " \n",
        "def main():\n",
        "    # function calling\n",
        "    dictionairy()            \n",
        "     \n",
        "# Main function calling\n",
        "if __name__==\"__main__\":     \n",
        "    main()\n"
      ]
    },
    {
      "cell_type": "code",
      "execution_count": null,
      "metadata": {
        "colab": {
          "base_uri": "https://localhost:8080/"
        },
        "id": "t0G5i8KFPBpW",
        "outputId": "08229466-5d54-4c97-c492-807ac6ef24e1"
      },
      "outputs": [
        {
          "name": "stdout",
          "output_type": "stream",
          "text": [
            "The original dictionary is : {'gfg': [7, 6, 3], 'is': [2, 10, 3], 'best': [19, 4]}\n",
            "The sorted dictionary : {'best': [4, 19], 'gfg': [3, 6, 7], 'is': [2, 3, 10]}\n"
          ]
        }
      ],
      "source": [
        "#Python sort dictionary key and values list:\n",
        "\n",
        "# initializing dictionary\n",
        "test_dict = {'gfg': [7, 6, 3], \n",
        "             'is': [2, 10, 3], \n",
        "             'best': [19, 4]}\n",
        "  \n",
        "# printing original dictionary\n",
        "print(\"The original dictionary is : \" + str(test_dict))\n",
        "  \n",
        "# Sort Dictionary key and values List\n",
        "# Using loop + dictionary comprehension\n",
        "res = dict()\n",
        "for key in sorted(test_dict):\n",
        "    res[key] = sorted(test_dict[key])\n",
        "  \n",
        "# printing result \n",
        "print(\"The sorted dictionary : \" + str(res))\n"
      ]
    },
    {
      "cell_type": "code",
      "execution_count": 8,
      "metadata": {
        "colab": {
          "base_uri": "https://localhost:8080/"
        },
        "id": "xfjeO_gnPOKM",
        "outputId": "f8c6a819-e560-4530-9be6-0c9576d09dfe"
      },
      "outputs": [
        {
          "output_type": "stream",
          "name": "stdout",
          "text": [
            "The value associated with 'c' is:\n",
            "1\n"
          ]
        }
      ],
      "source": [
        "#Handling missing keys in python dictionaries:\n",
        "\n",
        "#Initializing dictionary:\n",
        "d = {'a':1, 'b':2,}\n",
        "\n",
        "#trying to output value of absent key:\n",
        "print(\"The value associated with 'c' is:\")\n",
        "print(d['a'])\n"
      ]
    },
    {
      "cell_type": "code",
      "source": [
        "#Python Dictionary with keys having mutiple inputs:\n",
        "import random as rn\n",
        "\n",
        "#creating an empty dictionary \n",
        "dict = {}\n",
        "\n",
        "#Insert first triplet in dictionary:\n",
        "x, y, z = 10, 20, 30\n",
        "dict[x, y, z] = x+y-z;\n",
        "\n",
        "#Insert second triplet in dictionary:\n",
        "x, y, z = 5, 2, 4\n",
        "dict[x, y, z] = x+y-z;\n",
        "\n",
        "#print the dictionary:\n",
        "print(dict)\n"
      ],
      "metadata": {
        "colab": {
          "base_uri": "https://localhost:8080/"
        },
        "id": "j2gbOmA-P4qa",
        "outputId": "773ec7b7-d22f-4dc6-b5df-3daaafbae474"
      },
      "execution_count": 9,
      "outputs": [
        {
          "output_type": "stream",
          "name": "stdout",
          "text": [
            "{(10, 20, 30): 0, (5, 2, 4): 3}\n"
          ]
        }
      ]
    },
    {
      "cell_type": "code",
      "source": [
        "#Print anagrams together in python using list and dictionary:\n",
        "\n",
        "#Function to return all program:\n",
        "def allAnagrams(input):\n",
        "    \n",
        "    #Empty dictionary:\n",
        "    dict = {}\n",
        "    \n",
        "    #Traverse  list of strings:\n",
        "    for strVal in input:\n",
        "        \n",
        "        #Sorted method accepts any iterable and returns list of items in ascending order:\n",
        "        key = ''.join(sorted(strVal))\n",
        "        \n",
        "        if key in dict.keys():\n",
        "            dict[key].append(strVal)\n",
        "        else:\n",
        "            dict[key] = []\n",
        "            dict[key].append(strVal)\n",
        "    #Traverse dictionary and concatenate values of keys together:\n",
        "    output = \"\"\n",
        "    for key, value in dict.items():\n",
        "        output = output+ ' '.join(value)+' '\n",
        "    return output\n",
        "#Driver function:\n",
        "if __name__ == \"__main__\":\n",
        "    input = ['cat','dog','tac','god','act']\n",
        "    print(allAnagrams(input))\n"
      ],
      "metadata": {
        "colab": {
          "base_uri": "https://localhost:8080/"
        },
        "id": "rNs_WmvpQA1m",
        "outputId": "35675617-05e1-4c60-cf93-0c77153be788"
      },
      "execution_count": 11,
      "outputs": [
        {
          "output_type": "stream",
          "name": "stdout",
          "text": [
            "cat tac act dog god \n"
          ]
        }
      ]
    },
    {
      "cell_type": "code",
      "source": [
        "#K'th non repeating character in python using list comprehension and orderedDict:\n",
        "\n",
        "# Function to find k'th non repeating character \n",
        "# in string \n",
        "from collections import OrderedDict \n",
        "  \n",
        "def kthRepeating(input,k): \n",
        "  \n",
        "    # OrderedDict returns a dictionary data \n",
        "        # structure having characters of input \n",
        "    # string as keys in the same order they \n",
        "        # were inserted and 0 as their default value \n",
        "    dict=OrderedDict.fromkeys(input,0) \n",
        "  \n",
        "    # now traverse input string to calculate \n",
        "        # frequency of each character \n",
        "    for ch in input: \n",
        "        dict[ch]+=1\n",
        "  \n",
        "    # now extract list of all keys whose value \n",
        "        # is 1 from dict Ordered Dictionary \n",
        "    nonRepeatDict = [key for (key,value) in dict.items() if value==1] \n",
        "      \n",
        "    # now return (k-1)th character from above list \n",
        "    if len(nonRepeatDict) < k: \n",
        "        return 'Less than k non-repeating characters in input.' \n",
        "    else: \n",
        "        return nonRepeatDict[k-1] \n",
        "  \n",
        "# Driver function \n",
        "if __name__ == \"__main__\": \n",
        "    input = \"geeksforgeeks\"\n",
        "    k = 3\n",
        "    print (kthRepeating(input, k))\n"
      ],
      "metadata": {
        "colab": {
          "base_uri": "https://localhost:8080/"
        },
        "id": "MCiQsxG1Qvwh",
        "outputId": "419a4b92-fb06-4e9a-ece0-f742553cf8d2"
      },
      "execution_count": 12,
      "outputs": [
        {
          "output_type": "stream",
          "name": "stdout",
          "text": [
            "r\n"
          ]
        }
      ]
    },
    {
      "cell_type": "code",
      "source": [
        "#Check if binary representations of two numbers are anagram:\n",
        "\n",
        "#function to check if binary representations of two numbers are anagram:\n",
        "from collections import Counter\n",
        "def checkAnagram(num1,num2):\n",
        "    \n",
        "    #Converts number into in binary and remove first two characters of output string beause bin function '0b' as prefix in output string:\n",
        "    bin1 = bin(num1)[2:]\n",
        "    bin2 = bin(num2)[2:]\n",
        "    \n",
        "    #append zeros in shorter string\n",
        "    zeros = abs(len(bin1)-len(bin2))\n",
        "    if (len(bin1)>len(bin2)):\n",
        "        bin2 = zeros*'0'+bin2\n",
        "    else:\n",
        "        bin1 = zeros*'0'+bin1\n",
        "        \n",
        "    #Convert binary representations in to dictionary:\n",
        "    dict1 = Counter(bin1)\n",
        "    dict2 = Counter(bin2)\n",
        "    \n",
        "    #compare both dictionaries\n",
        "    if dict1 == dict2:\n",
        "        print('Yes')\n",
        "    else:\n",
        "        print('No')\n",
        "#Driver function:\n",
        "if __name__ == \"__main__\":\n",
        "    num1 = 8\n",
        "    num2 = 4\n",
        "    checkAnagram(num1,num2)\n"
      ],
      "metadata": {
        "colab": {
          "base_uri": "https://localhost:8080/"
        },
        "id": "cuUTQZB-Q7VW",
        "outputId": "861e4445-256f-4211-d0a3-f859820496b0"
      },
      "execution_count": 13,
      "outputs": [
        {
          "output_type": "stream",
          "name": "stdout",
          "text": [
            "Yes\n"
          ]
        }
      ]
    }
  ],
  "metadata": {
    "colab": {
      "provenance": [],
      "authorship_tag": "ABX9TyMS5al7ys3oyqK4AG6lP5lp",
      "include_colab_link": true
    },
    "kernelspec": {
      "display_name": "Python 3",
      "name": "python3"
    },
    "language_info": {
      "name": "python"
    }
  },
  "nbformat": 4,
  "nbformat_minor": 0
}