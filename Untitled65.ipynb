{
  "nbformat": 4,
  "nbformat_minor": 0,
  "metadata": {
    "colab": {
      "provenance": [],
      "authorship_tag": "ABX9TyMO8KwH78b+EX5JAj6CTP39",
      "include_colab_link": true
    },
    "kernelspec": {
      "name": "python3",
      "display_name": "Python 3"
    },
    "language_info": {
      "name": "python"
    }
  },
  "cells": [
    {
      "cell_type": "markdown",
      "metadata": {
        "id": "view-in-github",
        "colab_type": "text"
      },
      "source": [
        "<a href=\"https://colab.research.google.com/github/adityag155/Python-Programs/blob/main/Untitled65.ipynb\" target=\"_parent\"><img src=\"https://colab.research.google.com/assets/colab-badge.svg\" alt=\"Open In Colab\"/></a>"
      ]
    },
    {
      "cell_type": "code",
      "execution_count": 1,
      "metadata": {
        "colab": {
          "base_uri": "https://localhost:8080/"
        },
        "id": "YdEH1flAF4nI",
        "outputId": "3b0b2ad3-806a-4179-fc5b-214ef59560a9"
      },
      "outputs": [
        {
          "output_type": "stream",
          "name": "stdout",
          "text": [
            "largest element is: 98\n"
          ]
        }
      ],
      "source": [
        "#Python program to find largest number in a list:\n",
        "#List of numbers:\n",
        "list1 = [32, 5, 87, 73, 98, 12]\n",
        "print(\"largest element is:\",max(list1))\n"
      ]
    },
    {
      "cell_type": "code",
      "source": [
        "#Python program to find second largest number in a list:\n",
        "\n",
        "list1 = [16, 73, 87, 89, 55, 24]\n",
        "list1.sort()\n",
        "print(\"Second largest element is:\", list1[-2])\n"
      ],
      "metadata": {
        "colab": {
          "base_uri": "https://localhost:8080/"
        },
        "id": "7eILkNyqJJbR",
        "outputId": "bdf603b3-66f9-432d-da43-392aed1417b0"
      },
      "execution_count": 2,
      "outputs": [
        {
          "output_type": "stream",
          "name": "stdout",
          "text": [
            "Second largest element is: 87\n"
          ]
        }
      ]
    },
    {
      "cell_type": "code",
      "source": [
        "#Python program to find N largest element from a list:\n",
        "list1 = [562, 900, 218, 870, 785, 1000, -76]\n",
        "n = 4\n",
        "list1.sort()\n",
        "print(list1[-n:])\n"
      ],
      "metadata": {
        "colab": {
          "base_uri": "https://localhost:8080/"
        },
        "id": "XkKJxz4QJfAI",
        "outputId": "f71a7219-1dd2-4486-bde2-d7e016b08e8f"
      },
      "execution_count": 3,
      "outputs": [
        {
          "output_type": "stream",
          "name": "stdout",
          "text": [
            "[785, 870, 900, 1000]\n"
          ]
        }
      ]
    },
    {
      "cell_type": "code",
      "source": [
        "#Python program to print even numbers in a list:\n",
        "list1 = [10, 21, 4, 45, 66, 93]\n",
        "for num in list1:\n",
        "    if num%2 == 0:\n",
        "        print(num, end = \" \")\n"
      ],
      "metadata": {
        "colab": {
          "base_uri": "https://localhost:8080/"
        },
        "id": "mdBq8Pl_J582",
        "outputId": "1ac74c9f-cb44-4c08-82e7-f25359545f15"
      },
      "execution_count": 4,
      "outputs": [
        {
          "output_type": "stream",
          "name": "stdout",
          "text": [
            "10 4 66 "
          ]
        }
      ]
    },
    {
      "cell_type": "code",
      "source": [
        "#Python program to print negative number in list:\n",
        "\n",
        "list1 = [10, 21, 4, 45, 66, 93, 37]\n",
        "for num in list1:\n",
        "    if num % 2 != 0:\n",
        "       print(num, end = \" \")\n"
      ],
      "metadata": {
        "colab": {
          "base_uri": "https://localhost:8080/"
        },
        "id": "1hSV9BELKG18",
        "outputId": "12622560-5d84-4307-ee4f-121d4f7de124"
      },
      "execution_count": 5,
      "outputs": [
        {
          "output_type": "stream",
          "name": "stdout",
          "text": [
            "21 45 93 37 "
          ]
        }
      ]
    },
    {
      "cell_type": "code",
      "source": [
        "#Remove multiple element from a list in python:\n",
        "\n",
        "list1 = [11, 5, 17, 18, 23, 50]\n",
        "for ele in list1:\n",
        "    if ele % 2 == 0:\n",
        "        list1.remove(ele)\n",
        "print(\"New list after removing all even numbers: \", list1)\n"
      ],
      "metadata": {
        "colab": {
          "base_uri": "https://localhost:8080/"
        },
        "id": "9vB-s1OfKcR8",
        "outputId": "fe86dad5-327b-4a35-895c-f436a0572e02"
      },
      "execution_count": 7,
      "outputs": [
        {
          "output_type": "stream",
          "name": "stdout",
          "text": [
            "New list after removing all even numbers:  [11, 5, 17, 23]\n",
            "New list after removing all even numbers:  [11, 5, 17, 23]\n"
          ]
        }
      ]
    }
  ]
}