{
  "nbformat": 4,
  "nbformat_minor": 0,
  "metadata": {
    "colab": {
      "provenance": [],
      "authorship_tag": "ABX9TyPju+mk4YRWFxWxuv06yTXP",
      "include_colab_link": true
    },
    "kernelspec": {
      "name": "python3",
      "display_name": "Python 3"
    },
    "language_info": {
      "name": "python"
    }
  },
  "cells": [
    {
      "cell_type": "markdown",
      "metadata": {
        "id": "view-in-github",
        "colab_type": "text"
      },
      "source": [
        "<a href=\"https://colab.research.google.com/github/adityag155/Python-Programs/blob/main/Untitled65.ipynb\" target=\"_parent\"><img src=\"https://colab.research.google.com/assets/colab-badge.svg\" alt=\"Open In Colab\"/></a>"
      ]
    },
    {
      "cell_type": "code",
      "execution_count": 1,
      "metadata": {
        "colab": {
          "base_uri": "https://localhost:8080/"
        },
        "id": "YdEH1flAF4nI",
        "outputId": "3b0b2ad3-806a-4179-fc5b-214ef59560a9"
      },
      "outputs": [
        {
          "output_type": "stream",
          "name": "stdout",
          "text": [
            "largest element is: 98\n"
          ]
        }
      ],
      "source": [
        "#Python program to find largest number in a list:\n",
        "#List of numbers:\n",
        "list1 = [32, 5, 87, 73, 98, 12]\n",
        "print(\"largest element is:\",max(list1))\n"
      ]
    },
    {
      "cell_type": "code",
      "source": [
        "#Python program to find second largest number in a list:\n",
        "\n",
        "list1 = [16, 73, 87, 89, 55, 24]\n",
        "list1.sort()\n",
        "print(\"Second largest element is:\", list1[-2])\n"
      ],
      "metadata": {
        "colab": {
          "base_uri": "https://localhost:8080/"
        },
        "id": "7eILkNyqJJbR",
        "outputId": "bdf603b3-66f9-432d-da43-392aed1417b0"
      },
      "execution_count": 2,
      "outputs": [
        {
          "output_type": "stream",
          "name": "stdout",
          "text": [
            "Second largest element is: 87\n"
          ]
        }
      ]
    }
  ]
}