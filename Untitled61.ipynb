{
  "nbformat": 4,
  "nbformat_minor": 0,
  "metadata": {
    "colab": {
      "provenance": [],
      "authorship_tag": "ABX9TyPK8FXMSgLs4UPNr8h77tL2",
      "include_colab_link": true
    },
    "kernelspec": {
      "name": "python3",
      "display_name": "Python 3"
    },
    "language_info": {
      "name": "python"
    }
  },
  "cells": [
    {
      "cell_type": "markdown",
      "metadata": {
        "id": "view-in-github",
        "colab_type": "text"
      },
      "source": [
        "<a href=\"https://colab.research.google.com/github/adityag155/Python-Programs/blob/main/Untitled61.ipynb\" target=\"_parent\"><img src=\"https://colab.research.google.com/assets/colab-badge.svg\" alt=\"Open In Colab\"/></a>"
      ]
    },
    {
      "cell_type": "code",
      "execution_count": 1,
      "metadata": {
        "colab": {
          "base_uri": "https://localhost:8080/"
        },
        "id": "qyvE5JWdOE32",
        "outputId": "d9c76ada-d31b-4b9d-bf83-c58d2fcf32a5"
      },
      "outputs": [
        {
          "output_type": "stream",
          "name": "stdout",
          "text": [
            "Enter the number 12\n",
            "12 * 1 = 12\n",
            "12 * 2 = 24\n",
            "12 * 3 = 36\n",
            "12 * 4 = 48\n",
            "12 * 5 = 60\n",
            "12 * 6 = 72\n",
            "12 * 7 = 84\n",
            "12 * 8 = 96\n",
            "12 * 9 = 108\n",
            "12 * 10 = 120\n"
          ]
        }
      ],
      "source": [
        "#Program to print table of given number.\n",
        "\n",
        "n = int(input(\"Enter the number \"))\n",
        "for i in range(1,11):\n",
        "    c = n*i\n",
        "    print(n,\"*\",i,\"=\",c)"
      ]
    },
    {
      "cell_type": "code",
      "source": [
        "#Python program to add two numbers:\n",
        "\n",
        "\n",
        "num1=22.3\n",
        "\n",
        "num2=1.8\n",
        "\n",
        "sum=num1+num2\n",
        "\n",
        "print('The sum of {0} and {1} is {2}'.format(num1, num2, sum))"
      ],
      "metadata": {
        "colab": {
          "base_uri": "https://localhost:8080/"
        },
        "id": "rMDPJPKhOrb1",
        "outputId": "79516843-0f98-4c7b-f6a6-099ccbc202f0"
      },
      "execution_count": 2,
      "outputs": [
        {
          "output_type": "stream",
          "name": "stdout",
          "text": [
            "The sum of 22.3 and 1.8 is 24.1\n"
          ]
        }
      ]
    },
    {
      "cell_type": "code",
      "source": [
        "#Maximum of two numbers in python:\n",
        "\n",
        "a = 6\n",
        "\n",
        "b = 4\n",
        "\n",
        "maximum = max(a,b)\n",
        "\n",
        "print(maximum)"
      ],
      "metadata": {
        "colab": {
          "base_uri": "https://localhost:8080/"
        },
        "id": "_FM7Gl9gO7Qj",
        "outputId": "3fd0ee97-b9de-41af-c72d-266aa75d4ac3"
      },
      "execution_count": 3,
      "outputs": [
        {
          "output_type": "stream",
          "name": "stdout",
          "text": [
            "6\n"
          ]
        }
      ]
    },
    {
      "cell_type": "code",
      "source": [],
      "metadata": {
        "id": "PhtDP0UyPJnF"
      },
      "execution_count": null,
      "outputs": []
    }
  ]
}