{
  "nbformat": 4,
  "nbformat_minor": 0,
  "metadata": {
    "colab": {
      "provenance": [],
      "authorship_tag": "ABX9TyNA3DA2tdezp/nFtwZRjElN",
      "include_colab_link": true
    },
    "kernelspec": {
      "name": "python3",
      "display_name": "Python 3"
    },
    "language_info": {
      "name": "python"
    }
  },
  "cells": [
    {
      "cell_type": "markdown",
      "metadata": {
        "id": "view-in-github",
        "colab_type": "text"
      },
      "source": [
        "<a href=\"https://colab.research.google.com/github/adityag155/Python-Programs/blob/main/Untitled64.ipynb\" target=\"_parent\"><img src=\"https://colab.research.google.com/assets/colab-badge.svg\" alt=\"Open In Colab\"/></a>"
      ]
    },
    {
      "cell_type": "code",
      "execution_count": 1,
      "metadata": {
        "colab": {
          "base_uri": "https://localhost:8080/"
        },
        "id": "raU7ulAgNGwU",
        "outputId": "dc44edd8-5726-4d4c-9878-583d45010188"
      },
      "outputs": [
        {
          "output_type": "stream",
          "name": "stdout",
          "text": [
            "The original list is:[12, 67, 98, 34]\n",
            "Lst Integer Summation:[3, 13, 17, 7]\n"
          ]
        }
      ],
      "source": [
        "##Python sum of number digit in list:\n",
        "#Using loop + str()\n",
        "\n",
        "test_list = [12, 67, 98, 34]\n",
        "print(\"The original list is:\"+str(test_list))\n",
        "res = []\n",
        "for ele in test_list:\n",
        "    sum = 0\n",
        "    for digit in str (ele):\n",
        "        sum+= int(digit)\n",
        "    res.append(sum)\n",
        "print(\"Lst Integer Summation:\" +str(res))\n"
      ]
    }
  ]
}