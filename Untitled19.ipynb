{
  "nbformat": 4,
  "nbformat_minor": 0,
  "metadata": {
    "colab": {
      "provenance": [],
      "authorship_tag": "ABX9TyOhGgNoZnsAACBzXkYmdFvt",
      "include_colab_link": true
    },
    "kernelspec": {
      "name": "python3",
      "display_name": "Python 3"
    },
    "language_info": {
      "name": "python"
    }
  },
  "cells": [
    {
      "cell_type": "markdown",
      "metadata": {
        "id": "view-in-github",
        "colab_type": "text"
      },
      "source": [
        "<a href=\"https://colab.research.google.com/github/adityag155/Python-Programs/blob/main/Untitled19.ipynb\" target=\"_parent\"><img src=\"https://colab.research.google.com/assets/colab-badge.svg\" alt=\"Open In Colab\"/></a>"
      ]
    },
    {
      "cell_type": "code",
      "execution_count": 1,
      "metadata": {
        "colab": {
          "base_uri": "https://localhost:8080/"
        },
        "id": "Pqv8P9GBMHvI",
        "outputId": "f90a7a18-ced6-4b75-a0e0-7c739a2ca152"
      },
      "outputs": [
        {
          "output_type": "stream",
          "name": "stdout",
          "text": [
            "May\n"
          ]
        }
      ],
      "source": [
        "#import keyword\n",
        "import calendar as cal\n",
        "print(cal.month_name[5])\n"
      ]
    },
    {
      "cell_type": "code",
      "source": [
        "#From keyword\n",
        "from math import sqrt\n",
        "print(sqrt(25))\n"
      ],
      "metadata": {
        "colab": {
          "base_uri": "https://localhost:8080/"
        },
        "id": "Qf-_CGD0YRuX",
        "outputId": "7e0082fc-bbe0-455e-eb70-01c85acecbac"
      },
      "execution_count": 2,
      "outputs": [
        {
          "output_type": "stream",
          "name": "stdout",
          "text": [
            "5.0\n"
          ]
        }
      ]
    },
    {
      "cell_type": "code",
      "source": [
        "#for loop\n",
        "list=[1,2,3,4,5]\n",
        "for i in list:\n",
        "    print(i)\n"
      ],
      "metadata": {
        "colab": {
          "base_uri": "https://localhost:8080/"
        },
        "id": "zWExyqCUYd-C",
        "outputId": "c6fb3465-7437-4c39-d5e0-a65d975b0e72"
      },
      "execution_count": 3,
      "outputs": [
        {
          "output_type": "stream",
          "name": "stdout",
          "text": [
            "1\n",
            "2\n",
            "3\n",
            "4\n",
            "5\n"
          ]
        }
      ]
    },
    {
      "cell_type": "code",
      "source": [
        "#retrn keyword\n",
        "def sum(a,b):\n",
        "    c=a+b\n",
        "    return c\n",
        "print(\"The sum is:\",sum(25,15))\n"
      ],
      "metadata": {
        "colab": {
          "base_uri": "https://localhost:8080/"
        },
        "id": "szJ_aBiYab16",
        "outputId": "4f0b1dcf-f34f-4c05-f0a0-13d0cd81cfc7"
      },
      "execution_count": 4,
      "outputs": [
        {
          "output_type": "stream",
          "name": "stdout",
          "text": [
            "The sum is: 40\n"
          ]
        }
      ]
    },
    {
      "cell_type": "code",
      "source": [
        "#is keyword \n",
        "x=5\n",
        "y=5\n",
        "a=[]\n",
        "b=[]\n",
        "print(x is y)\n",
        "print(a is b)\n"
      ],
      "metadata": {
        "colab": {
          "base_uri": "https://localhost:8080/"
        },
        "id": "Bq10VoQ_blgt",
        "outputId": "5f93ab0c-e30a-4f4f-e980-65796d639574"
      },
      "execution_count": 6,
      "outputs": [
        {
          "output_type": "stream",
          "name": "stdout",
          "text": [
            "True\n",
            "False\n"
          ]
        }
      ]
    }
  ]
}