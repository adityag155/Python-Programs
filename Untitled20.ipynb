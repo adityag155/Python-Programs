{
  "nbformat": 4,
  "nbformat_minor": 0,
  "metadata": {
    "colab": {
      "provenance": [],
      "authorship_tag": "ABX9TyOkEJlZh9O7jYVSG/LjVVeZ",
      "include_colab_link": true
    },
    "kernelspec": {
      "name": "python3",
      "display_name": "Python 3"
    },
    "language_info": {
      "name": "python"
    }
  },
  "cells": [
    {
      "cell_type": "markdown",
      "metadata": {
        "id": "view-in-github",
        "colab_type": "text"
      },
      "source": [
        "<a href=\"https://colab.research.google.com/github/adityag155/Python-Programs/blob/main/Untitled20.ipynb\" target=\"_parent\"><img src=\"https://colab.research.google.com/assets/colab-badge.svg\" alt=\"Open In Colab\"/></a>"
      ]
    },
    {
      "cell_type": "code",
      "execution_count": 2,
      "metadata": {
        "colab": {
          "base_uri": "https://localhost:8080/"
        },
        "id": "GSkESOW3mt9L",
        "outputId": "9cc215a1-9154-4654-a0e8-8e6c75345776"
      },
      "outputs": [
        {
          "output_type": "stream",
          "name": "stdout",
          "text": [
            "GeeksforGeeks\n"
          ]
        }
      ],
      "source": [
        "#Encapsulation:\n",
        "\n",
        "#Demonstrate private no:\n",
        "\n",
        "class Base:\n",
        "  def __init__(self):\n",
        "    self.a=\"GeeksforGeeks\"\n",
        "    self.__c=\"GeeksforGeeks\"\n",
        "class Derived (Base):\n",
        "  def __init__(self):\n",
        "    Base.__init__(self)\n",
        "    print(\"Calling private member of base class:\")\n",
        "    print(self.__c)\n",
        "obj1=Base()\n",
        "print(obj1.a)"
      ]
    }
  ]
}