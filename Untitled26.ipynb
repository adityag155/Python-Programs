{
  "nbformat": 4,
  "nbformat_minor": 0,
  "metadata": {
    "colab": {
      "provenance": [],
      "authorship_tag": "ABX9TyNUVMmDBf3aLyCtJa7XPGH4",
      "include_colab_link": true
    },
    "kernelspec": {
      "name": "python3",
      "display_name": "Python 3"
    },
    "language_info": {
      "name": "python"
    }
  },
  "cells": [
    {
      "cell_type": "markdown",
      "metadata": {
        "id": "view-in-github",
        "colab_type": "text"
      },
      "source": [
        "<a href=\"https://colab.research.google.com/github/adityag155/Python-Programs/blob/main/Untitled26.ipynb\" target=\"_parent\"><img src=\"https://colab.research.google.com/assets/colab-badge.svg\" alt=\"Open In Colab\"/></a>"
      ]
    },
    {
      "cell_type": "code",
      "execution_count": 1,
      "metadata": {
        "colab": {
          "base_uri": "https://localhost:8080/"
        },
        "id": "zEsqIAs31SxJ",
        "outputId": "60c89447-0f6d-4877-9c65-d78ff239c954"
      },
      "outputs": [
        {
          "output_type": "stream",
          "name": "stdout",
          "text": [
            "x is True\n",
            "y is False\n",
            "z is False\n",
            "a: 11\n",
            "b: 10\n"
          ]
        }
      ],
      "source": [
        "#Boolean literals\n",
        "x = (1 == True)  \n",
        "y = (2 == False)  \n",
        "z = (3 == True)  \n",
        "a = True + 10  \n",
        "b = False + 10  \n",
        "  \n",
        "print(\"x is\", x)  \n",
        "print(\"y is\", y)  \n",
        "print(\"z is\", z)  \n",
        "print(\"a:\", a)  \n",
        "print(\"b:\", b) \n"
      ]
    }
  ]
}