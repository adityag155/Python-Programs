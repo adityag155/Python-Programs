{
  "nbformat": 4,
  "nbformat_minor": 0,
  "metadata": {
    "colab": {
      "provenance": [],
      "authorship_tag": "ABX9TyOLY24eP3qWcdqvcB9xugTd",
      "include_colab_link": true
    },
    "kernelspec": {
      "name": "python3",
      "display_name": "Python 3"
    },
    "language_info": {
      "name": "python"
    }
  },
  "cells": [
    {
      "cell_type": "markdown",
      "metadata": {
        "id": "view-in-github",
        "colab_type": "text"
      },
      "source": [
        "<a href=\"https://colab.research.google.com/github/adityag155/Python-Programs/blob/main/Untitled57.ipynb\" target=\"_parent\"><img src=\"https://colab.research.google.com/assets/colab-badge.svg\" alt=\"Open In Colab\"/></a>"
      ]
    },
    {
      "cell_type": "code",
      "execution_count": 1,
      "metadata": {
        "colab": {
          "base_uri": "https://localhost:8080/"
        },
        "id": "BrH6SVBbgg84",
        "outputId": "8b151a1a-49cc-4237-dfdc-ad3cab35d4ef"
      },
      "outputs": [
        {
          "output_type": "stream",
          "name": "stdout",
          "text": [
            "Inner function: 30\n",
            "Outer function: 30\n"
          ]
        }
      ],
      "source": [
        "#nonlocal keyword\n",
        "def outside_function():\n",
        "    a = 20\n",
        "    def inside_function():\n",
        "        nonlocal a\n",
        "        a = 30\n",
        "        print(\"Inner function:\",a)\n",
        "    inside_function()\n",
        "    print(\"Outer function:\",a)\n",
        "outside_function()"
      ]
    },
    {
      "cell_type": "code",
      "source": [
        "#yield keyword\n",
        "def fun_Generator():\n",
        "    yield 1\n",
        "    yield 2\n",
        "    yield 3\n",
        "for value in fun_Generator():\n",
        "    print(value)"
      ],
      "metadata": {
        "colab": {
          "base_uri": "https://localhost:8080/"
        },
        "id": "pH-SI5oRhROu",
        "outputId": "896bbf4e-fa99-4f69-dedf-452837317107"
      },
      "execution_count": 3,
      "outputs": [
        {
          "output_type": "stream",
          "name": "stdout",
          "text": [
            "1\n",
            "2\n",
            "3\n",
            "1\n",
            "2\n",
            "3\n"
          ]
        }
      ]
    },
    {
      "cell_type": "code",
      "source": [
        "#Docstring python comment\n",
        "def intro():\n",
        "    ''''''\n",
        "    ''''''\n",
        "    print(\"Hii Joseph\")\n",
        "intro()"
      ],
      "metadata": {
        "colab": {
          "base_uri": "https://localhost:8080/"
        },
        "id": "zfezv0j8h-aA",
        "outputId": "949a4058-35ad-4330-f57c-6a75e39de7de"
      },
      "execution_count": 4,
      "outputs": [
        {
          "output_type": "stream",
          "name": "stdout",
          "text": [
            "Hii Joseph\n"
          ]
        }
      ]
    }
  ]
}