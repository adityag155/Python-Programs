{
  "nbformat": 4,
  "nbformat_minor": 0,
  "metadata": {
    "colab": {
      "provenance": [],
      "authorship_tag": "ABX9TyMAM1afS5+nMxAQshIlLDyW",
      "include_colab_link": true
    },
    "kernelspec": {
      "name": "python3",
      "display_name": "Python 3"
    },
    "language_info": {
      "name": "python"
    }
  },
  "cells": [
    {
      "cell_type": "markdown",
      "metadata": {
        "id": "view-in-github",
        "colab_type": "text"
      },
      "source": [
        "<a href=\"https://colab.research.google.com/github/adityag155/Python-Programs/blob/main/Untitled51.ipynb\" target=\"_parent\"><img src=\"https://colab.research.google.com/assets/colab-badge.svg\" alt=\"Open In Colab\"/></a>"
      ]
    },
    {
      "cell_type": "code",
      "execution_count": 1,
      "metadata": {
        "colab": {
          "base_uri": "https://localhost:8080/"
        },
        "id": "eDKfNKAsp4Lq",
        "outputId": "46e6c8c3-e225-4808-b0fb-2e50d07d085c"
      },
      "outputs": [
        {
          "output_type": "stream",
          "name": "stdout",
          "text": [
            "The prime numbers in this range are:  [2, 3, 5]\n"
          ]
        }
      ],
      "source": [
        "# Python program to print all\n",
        "# prime number in an interval\n",
        " \n",
        "def prime(x, y):\n",
        "    prime_list = []\n",
        "    for i in range(x, y):\n",
        "        if i == 0 or i == 1:\n",
        "            continue\n",
        "        else:\n",
        "            for j in range(2, int(i/2)+1):\n",
        "                if i % j == 0:\n",
        "                    break\n",
        "            else:\n",
        "                prime_list.append(i)\n",
        "    return prime_list\n",
        " \n",
        "# Driver program\n",
        "starting_range = 2\n",
        "ending_range = 7\n",
        "lst = prime(starting_range, ending_range)\n",
        "if len(lst) == 0:\n",
        "    print(\"There are no prime numbers in this range\")\n",
        "else:\n",
        "    print(\"The prime numbers in this range are: \", lst)"
      ]
    },
    {
      "cell_type": "code",
      "source": [
        "num = 11\n",
        "# If given number is greater than 1\n",
        "if num > 1:\n",
        "    # Iterate from 2 to n / 2\n",
        "    for i in range(2, int(num/2)+1):\n",
        "        # If num is divisible by any number between\n",
        "        # 2 and n / 2, it is not prime\n",
        "        if (num % i) == 0:\n",
        "            print(num, \"is not a prime number\")\n",
        "            break\n",
        "    else:\n",
        "        print(num, \"is a prime number\")\n",
        "else:\n",
        "    print(num, \"is not a prime number\")"
      ],
      "metadata": {
        "colab": {
          "base_uri": "https://localhost:8080/"
        },
        "id": "AIjS87kJqO9Y",
        "outputId": "b6425e0c-d1e4-4c3c-bdf6-0090ba9c35bf"
      },
      "execution_count": 2,
      "outputs": [
        {
          "output_type": "stream",
          "name": "stdout",
          "text": [
            "11 is a prime number\n"
          ]
        }
      ]
    },
    {
      "cell_type": "code",
      "source": [
        "# Function for nth Fibonacci number\n",
        " \n",
        "def Fibonacci(n):\n",
        "    if n<= 0:\n",
        "        print(\"Incorrect input\")\n",
        "    # First Fibonacci number is 0\n",
        "    elif n == 1:\n",
        "        return 0\n",
        "    # Second Fibonacci number is 1\n",
        "    elif n == 2:\n",
        "        return 1\n",
        "    else:\n",
        "        return Fibonacci(n-1)+Fibonacci(n-2)\n",
        " \n",
        "# Driver Program\n",
        " \n",
        "print(Fibonacci(10))\n",
        " "
      ],
      "metadata": {
        "colab": {
          "base_uri": "https://localhost:8080/"
        },
        "id": "GslFvw3Hqfez",
        "outputId": "9dab5a08-cc1a-462b-f3fc-0a9093a8f54a"
      },
      "execution_count": 3,
      "outputs": [
        {
          "output_type": "stream",
          "name": "stdout",
          "text": [
            "34\n"
          ]
        }
      ]
    }
  ]
}