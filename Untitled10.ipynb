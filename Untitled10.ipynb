{
  "nbformat": 4,
  "nbformat_minor": 0,
  "metadata": {
    "colab": {
      "name": "Untitled10.ipynb",
      "provenance": [],
      "authorship_tag": "ABX9TyPlwrWBgmc+P0D6QnRQ4AIR",
      "include_colab_link": true
    },
    "kernelspec": {
      "name": "python3",
      "display_name": "Python 3"
    },
    "language_info": {
      "name": "python"
    }
  },
  "cells": [
    {
      "cell_type": "markdown",
      "metadata": {
        "id": "view-in-github",
        "colab_type": "text"
      },
      "source": [
        "<a href=\"https://colab.research.google.com/github/adityag155/Python-Programs/blob/main/Untitled10.ipynb\" target=\"_parent\"><img src=\"https://colab.research.google.com/assets/colab-badge.svg\" alt=\"Open In Colab\"/></a>"
      ]
    },
    {
      "cell_type": "code",
      "execution_count": 7,
      "metadata": {
        "colab": {
          "base_uri": "https://localhost:8080/"
        },
        "id": "Gqrps8_mfjjV",
        "outputId": "16aec5be-cc48-4c1f-e94c-68e11abfdd0d"
      },
      "outputs": [
        {
          "output_type": "stream",
          "name": "stdout",
          "text": [
            "30\n"
          ]
        }
      ],
      "source": [
        "#Write a program to read the two numbers from command line and find the min and max number:\n",
        "def maximum(a, b):\n",
        "  if a>=b:\n",
        "    return a\n",
        "  else:\n",
        "    return b\n",
        "a=20\n",
        "b=30\n",
        "print(maximum(a, b))"
      ]
    },
    {
      "cell_type": "code",
      "source": [
        "#Find minimum\n",
        "def minimum(a, b):\n",
        "  if a<=b:\n",
        "    return a\n",
        "  else:\n",
        "    return b\n",
        "a = 25\n",
        "b = 30\n",
        "print(minimum(a,b))"
      ],
      "metadata": {
        "colab": {
          "base_uri": "https://localhost:8080/"
        },
        "id": "vPM0rg-cgext",
        "outputId": "aad6dcc1-5331-470b-c5cc-a1207e4a2214"
      },
      "execution_count": 9,
      "outputs": [
        {
          "output_type": "stream",
          "name": "stdout",
          "text": [
            "25\n"
          ]
        }
      ]
    },
    {
      "cell_type": "code",
      "source": [
        "#Operators in python\n",
        "#Arithmetic Operator:\n",
        "\n",
        "a=10\n",
        "b=20\n",
        "\n",
        "add=a+b\n",
        "print(add)\n",
        "\n",
        "sub=a-b\n",
        "print(sub)\n",
        "\n",
        "mul=a*b\n",
        "print(mul)\n",
        "\n",
        "div=a/b\n",
        "print(div)\n",
        "\n",
        "mod=a%b\n",
        "print(mod)\n",
        "\n",
        "p=a**b\n",
        "print(p)"
      ],
      "metadata": {
        "colab": {
          "base_uri": "https://localhost:8080/"
        },
        "id": "E9u9jPvciGQe",
        "outputId": "b46b79c6-6725-4022-be35-df1c16eec4c7"
      },
      "execution_count": 10,
      "outputs": [
        {
          "output_type": "stream",
          "name": "stdout",
          "text": [
            "30\n",
            "-10\n",
            "200\n",
            "0.5\n",
            "10\n",
            "100000000000000000000\n"
          ]
        }
      ]
    },
    {
      "cell_type": "code",
      "source": [
        "#Relational Operator:\n",
        "\n",
        "a=20\n",
        "b=40\n",
        "\n",
        "print(a>b)\n",
        "\n",
        "print(a<b)\n",
        "\n",
        "print(a==b)\n",
        "\n",
        "print(a>=b)\n",
        "\n",
        "print(a<=b)"
      ],
      "metadata": {
        "colab": {
          "base_uri": "https://localhost:8080/"
        },
        "id": "XNTeyU3GitGW",
        "outputId": "c326bd86-02ac-45cd-b61a-29a7b00f411b"
      },
      "execution_count": 11,
      "outputs": [
        {
          "output_type": "stream",
          "name": "stdout",
          "text": [
            "False\n",
            "True\n",
            "False\n",
            "False\n",
            "True\n"
          ]
        }
      ]
    }
  ]
}