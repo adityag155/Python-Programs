{
  "nbformat": 4,
  "nbformat_minor": 0,
  "metadata": {
    "colab": {
      "provenance": [],
      "authorship_tag": "ABX9TyM11SZBQSp4H6HTzBDuVaVF",
      "include_colab_link": true
    },
    "kernelspec": {
      "name": "python3",
      "display_name": "Python 3"
    },
    "language_info": {
      "name": "python"
    }
  },
  "cells": [
    {
      "cell_type": "markdown",
      "metadata": {
        "id": "view-in-github",
        "colab_type": "text"
      },
      "source": [
        "<a href=\"https://colab.research.google.com/github/adityag155/Python-Programs/blob/main/Untitled18.ipynb\" target=\"_parent\"><img src=\"https://colab.research.google.com/assets/colab-badge.svg\" alt=\"Open In Colab\"/></a>"
      ]
    },
    {
      "cell_type": "code",
      "execution_count": 2,
      "metadata": {
        "id": "wXCzPvFjY1GE"
      },
      "outputs": [],
      "source": [
        "#Python varaible:\n",
        "#Local variable\n",
        "\n",
        "def greet():\n",
        "  name='Adii'\n",
        "  print('Hello',name)"
      ]
    },
    {
      "cell_type": "code",
      "source": [
        "name='Aditya'\n",
        "def greet():\n",
        "  name='Adii'\n",
        "  print('Hello',name)"
      ],
      "metadata": {
        "id": "y65a3O2maK44"
      },
      "execution_count": 7,
      "outputs": []
    },
    {
      "cell_type": "code",
      "source": [],
      "metadata": {
        "id": "gcwAjInwarxe"
      },
      "execution_count": null,
      "outputs": []
    },
    {
      "cell_type": "code",
      "source": [],
      "metadata": {
        "id": "zp-POOi_asvF"
      },
      "execution_count": null,
      "outputs": []
    }
  ]
}