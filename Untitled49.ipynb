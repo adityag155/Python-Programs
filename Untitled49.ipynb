{
  "nbformat": 4,
  "nbformat_minor": 0,
  "metadata": {
    "colab": {
      "provenance": [],
      "authorship_tag": "ABX9TyNX/1TJE33Cw7tfbkuVIm6x",
      "include_colab_link": true
    },
    "kernelspec": {
      "name": "python3",
      "display_name": "Python 3"
    },
    "language_info": {
      "name": "python"
    }
  },
  "cells": [
    {
      "cell_type": "markdown",
      "metadata": {
        "id": "view-in-github",
        "colab_type": "text"
      },
      "source": [
        "<a href=\"https://colab.research.google.com/github/adityag155/Python-Programs/blob/main/Untitled49.ipynb\" target=\"_parent\"><img src=\"https://colab.research.google.com/assets/colab-badge.svg\" alt=\"Open In Colab\"/></a>"
      ]
    },
    {
      "cell_type": "code",
      "execution_count": 1,
      "metadata": {
        "colab": {
          "base_uri": "https://localhost:8080/"
        },
        "id": "AF-8zf0lQJB9",
        "outputId": "b2e977aa-5b9e-4931-e48e-e79a3d885e79"
      },
      "outputs": [
        {
          "output_type": "stream",
          "name": "stdout",
          "text": [
            "John Doe\n"
          ]
        }
      ],
      "source": [
        "#Inheritance Python:\n",
        "class Person:\n",
        "  def __init__(self,fname,lname):\n",
        "    self.firstname=fname\n",
        "    self.lastname=lname\n",
        "\n",
        "  def printname(self):\n",
        "    print(self.firstname,self.lastname)\n",
        "\n",
        "x=Person(\"John\",\"Doe\")\n",
        "x.printname()"
      ]
    },
    {
      "cell_type": "code",
      "source": [
        "class Student(Person):\n",
        "  def __init__(self, fname, lname, year):\n",
        "    super().__init__(fname, lname)\n",
        "    self.graduattionyear=year\n",
        "x=Student(\"Aditya\",\"Gend\",2023)"
      ],
      "metadata": {
        "id": "FtVoX9OoXHQj"
      },
      "execution_count": 11,
      "outputs": []
    },
    {
      "cell_type": "code",
      "source": [
        "class Student(Person):\n",
        "  def __init__(self, fname, lname, year):\n",
        "    super().__init__(fname, lname)\n",
        "    self.graduationyear = year\n",
        "\n",
        "x = Student(\"Mike\", \"Olsen\", 2019)"
      ],
      "metadata": {
        "id": "VbZq8OlDYsjE"
      },
      "execution_count": 13,
      "outputs": []
    }
  ]
}