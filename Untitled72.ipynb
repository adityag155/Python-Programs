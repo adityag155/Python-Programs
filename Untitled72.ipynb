{
  "nbformat": 4,
  "nbformat_minor": 0,
  "metadata": {
    "colab": {
      "provenance": [],
      "authorship_tag": "ABX9TyMqDOR6T5ju2lA3toPVHe6r",
      "include_colab_link": true
    },
    "kernelspec": {
      "name": "python3",
      "display_name": "Python 3"
    },
    "language_info": {
      "name": "python"
    }
  },
  "cells": [
    {
      "cell_type": "markdown",
      "metadata": {
        "id": "view-in-github",
        "colab_type": "text"
      },
      "source": [
        "<a href=\"https://colab.research.google.com/github/adityag155/Python-Programs/blob/main/Untitled72.ipynb\" target=\"_parent\"><img src=\"https://colab.research.google.com/assets/colab-badge.svg\" alt=\"Open In Colab\"/></a>"
      ]
    },
    {
      "cell_type": "code",
      "execution_count": 1,
      "metadata": {
        "id": "R3WbUDoxnOaM",
        "colab": {
          "base_uri": "https://localhost:8080/"
        },
        "outputId": "3fcdab49-2874-4c64-ad2f-a96f8b5d0e07"
      },
      "outputs": [
        {
          "output_type": "stream",
          "name": "stdout",
          "text": [
            "The principal is 8\n",
            "The time period is 6\n",
            "The rate of intrest is 8\n",
            "The simple intrest is 3.84\n"
          ]
        },
        {
          "output_type": "execute_result",
          "data": {
            "text/plain": [
              "3.84"
            ]
          },
          "metadata": {},
          "execution_count": 1
        }
      ],
      "source": [
        "#Python program for simple intrest\n",
        "\n",
        "\n",
        "\n",
        "def simple_intrest(p,t,r):\n",
        "\n",
        "    print('The principal is', p)\n",
        "\n",
        "    print('The time period is', t)\n",
        "\n",
        "    print('The rate of intrest is',r)\n",
        "\n",
        "    si=(p* t* r)/100\n",
        "\n",
        "    print('The simple intrest is', si)\n",
        "\n",
        "    return si\n",
        "\n",
        "simple_intrest(8, 6, 8)\n"
      ]
    },
    {
      "cell_type": "code",
      "source": [
        "#Python program for compound intrest:\n",
        "\n",
        "def compound_interest(principle, rate, time):\n",
        "\n",
        "    Amount = principle * (pow((1 + rate / 100), time))\n",
        "\n",
        "    CI = Amount - principle\n",
        "\n",
        "    print(\"Compound interest is\", CI)\n",
        "\n",
        "compound_interest(10000, 10.25, 5)\n"
      ],
      "metadata": {
        "colab": {
          "base_uri": "https://localhost:8080/"
        },
        "id": "5nWyqGzhPhft",
        "outputId": "34e4d6ef-51d4-4a46-cc9d-fe55d8a045f3"
      },
      "execution_count": 2,
      "outputs": [
        {
          "output_type": "stream",
          "name": "stdout",
          "text": [
            "Compound interest is 6288.946267774416\n"
          ]
        }
      ]
    },
    {
      "cell_type": "code",
      "source": [
        "#Python program to check Amstrong number:\n",
        "\n",
        "\n",
        "num=int(input(\"Enter a number:\"))\n",
        "\n",
        "sum=0\n",
        "temp=num\n",
        "\n",
        "while temp>0:\n",
        "\n",
        "    digit=temp%10\n",
        "\n",
        "    sum+=digit**3\n",
        "\n",
        "    temp//=10\n",
        "\n",
        "\n",
        "if num==sum:\n",
        "\n",
        "    print(num,\"is an Amstrong number\")\n",
        "\n",
        "else:\n",
        "\n",
        "    print(num,\"is not an Amstrong number\")\n"
      ],
      "metadata": {
        "colab": {
          "base_uri": "https://localhost:8080/"
        },
        "id": "H0ep_HbtP7xb",
        "outputId": "de205cff-7da9-4e7e-91ab-09fef9e62018"
      },
      "execution_count": 3,
      "outputs": [
        {
          "output_type": "stream",
          "name": "stdout",
          "text": [
            "Enter a number:22\n",
            "22 is not an Amstrong number\n"
          ]
        }
      ]
    },
    {
      "cell_type": "code",
      "source": [
        "#Python program for program to find area of a circle:\n",
        "\n",
        "import math\n",
        "r=float(input(\"Enter the radius of a circle:\"))\n",
        "area =math.pi*r*r\n",
        "print(\"%2f\"%area)\n"
      ],
      "metadata": {
        "colab": {
          "base_uri": "https://localhost:8080/"
        },
        "id": "OsmtR7HCTRIR",
        "outputId": "63f529b8-97ed-4a4f-88a2-d0786da637dc"
      },
      "execution_count": 4,
      "outputs": [
        {
          "output_type": "stream",
          "name": "stdout",
          "text": [
            "Enter the radius of a circle:30\n",
            "2827.433388\n"
          ]
        }
      ]
    },
    {
      "cell_type": "code",
      "source": [
        "#Python program to print all prrime numbers in an Interval:\n",
        "\n",
        "lower=int(input(\"Enter lower range:\"))\n",
        "\n",
        "upper=int(input(\"Enter upper range:\"))\n",
        "\n",
        "for num in range(lower,upper+1):\n",
        "\n",
        "    if num>1:\n",
        "\n",
        "        for i in range(2,num):\n",
        "\n",
        "            if(num%i)==0:\n",
        "\n",
        "             break\n",
        "\n",
        "        else:\n",
        "\n",
        "            print(num)"
      ],
      "metadata": {
        "colab": {
          "base_uri": "https://localhost:8080/"
        },
        "id": "PYHtzC1sTmsy",
        "outputId": "a13d9299-5d20-4d5f-a832-8aa2b7857bc1"
      },
      "execution_count": 6,
      "outputs": [
        {
          "output_type": "stream",
          "name": "stdout",
          "text": [
            "Enter lower range:40\n",
            "Enter upper range:45\n",
            "41\n",
            "43\n"
          ]
        }
      ]
    },
    {
      "cell_type": "code",
      "source": [
        "#Python program to check whether a number is prime or not:\n",
        "\n",
        "\n",
        "num=int(input(\"Enter a number:\"))\n",
        "\n",
        "if num>>1:\n",
        "\n",
        "    for i in range(2,num):\n",
        "\n",
        "        print(num,\"is not a prime number\")\n",
        "\n",
        "        print(i,\"times\",num//i,\"is\",num)\n",
        "\n",
        "        break\n",
        "\n",
        "    else:\n",
        "\n",
        "        print(num,\"is a prime number\")\n",
        "\n",
        "else:\n",
        "\n",
        "        print(num,\"is not a prime number\")\n"
      ],
      "metadata": {
        "colab": {
          "base_uri": "https://localhost:8080/"
        },
        "id": "7MuVfoJtT7vR",
        "outputId": "84808dce-2750-4c8d-8365-7b38bf619082"
      },
      "execution_count": 8,
      "outputs": [
        {
          "output_type": "stream",
          "name": "stdout",
          "text": [
            "Enter a number:44\n",
            "44 is not a prime number\n",
            "2 times 22 is 44\n"
          ]
        }
      ]
    }
  ]
}