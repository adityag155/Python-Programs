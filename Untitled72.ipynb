{
  "nbformat": 4,
  "nbformat_minor": 0,
  "metadata": {
    "colab": {
      "provenance": [],
      "authorship_tag": "ABX9TyPmB3Aabs4eW0ji77QBSbrc",
      "include_colab_link": true
    },
    "kernelspec": {
      "name": "python3",
      "display_name": "Python 3"
    },
    "language_info": {
      "name": "python"
    }
  },
  "cells": [
    {
      "cell_type": "markdown",
      "metadata": {
        "id": "view-in-github",
        "colab_type": "text"
      },
      "source": [
        "<a href=\"https://colab.research.google.com/github/adityag155/Python-Programs/blob/main/Untitled72.ipynb\" target=\"_parent\"><img src=\"https://colab.research.google.com/assets/colab-badge.svg\" alt=\"Open In Colab\"/></a>"
      ]
    },
    {
      "cell_type": "code",
      "execution_count": 1,
      "metadata": {
        "id": "R3WbUDoxnOaM",
        "colab": {
          "base_uri": "https://localhost:8080/"
        },
        "outputId": "3fcdab49-2874-4c64-ad2f-a96f8b5d0e07"
      },
      "outputs": [
        {
          "output_type": "stream",
          "name": "stdout",
          "text": [
            "The principal is 8\n",
            "The time period is 6\n",
            "The rate of intrest is 8\n",
            "The simple intrest is 3.84\n"
          ]
        },
        {
          "output_type": "execute_result",
          "data": {
            "text/plain": [
              "3.84"
            ]
          },
          "metadata": {},
          "execution_count": 1
        }
      ],
      "source": [
        "#Python program for simple intrest\n",
        "\n",
        "\n",
        "\n",
        "def simple_intrest(p,t,r):\n",
        "\n",
        "    print('The principal is', p)\n",
        "\n",
        "    print('The time period is', t)\n",
        "\n",
        "    print('The rate of intrest is',r)\n",
        "\n",
        "    si=(p* t* r)/100\n",
        "\n",
        "    print('The simple intrest is', si)\n",
        "\n",
        "    return si\n",
        "\n",
        "simple_intrest(8, 6, 8)\n"
      ]
    },
    {
      "cell_type": "code",
      "source": [
        "#Python program for compound intrest:\n",
        "\n",
        "def compound_interest(principle, rate, time):\n",
        "\n",
        "    Amount = principle * (pow((1 + rate / 100), time))\n",
        "\n",
        "    CI = Amount - principle\n",
        "\n",
        "    print(\"Compound interest is\", CI)\n",
        "\n",
        "compound_interest(10000, 10.25, 5)\n"
      ],
      "metadata": {
        "colab": {
          "base_uri": "https://localhost:8080/"
        },
        "id": "5nWyqGzhPhft",
        "outputId": "34e4d6ef-51d4-4a46-cc9d-fe55d8a045f3"
      },
      "execution_count": 2,
      "outputs": [
        {
          "output_type": "stream",
          "name": "stdout",
          "text": [
            "Compound interest is 6288.946267774416\n"
          ]
        }
      ]
    }
  ]
}