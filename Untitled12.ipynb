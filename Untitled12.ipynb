{
  "nbformat": 4,
  "nbformat_minor": 0,
  "metadata": {
    "colab": {
      "provenance": [],
      "authorship_tag": "ABX9TyPFVi9DI7ifksD/yArfsbNA",
      "include_colab_link": true
    },
    "kernelspec": {
      "name": "python3",
      "display_name": "Python 3"
    },
    "language_info": {
      "name": "python"
    }
  },
  "cells": [
    {
      "cell_type": "markdown",
      "metadata": {
        "id": "view-in-github",
        "colab_type": "text"
      },
      "source": [
        "<a href=\"https://colab.research.google.com/github/adityag155/Python-Programs/blob/main/Untitled12.ipynb\" target=\"_parent\"><img src=\"https://colab.research.google.com/assets/colab-badge.svg\" alt=\"Open In Colab\"/></a>"
      ]
    },
    {
      "cell_type": "code",
      "execution_count": 6,
      "metadata": {
        "colab": {
          "base_uri": "https://localhost:8080/"
        },
        "id": "V5t1jaaZ1eV-",
        "outputId": "d32e2d3e-7231-4802-b13e-47155926cf66"
      },
      "outputs": [
        {
          "output_type": "stream",
          "name": "stdout",
          "text": [
            "0153045607590"
          ]
        }
      ],
      "source": [
        "#Python program to print all number divided by 3 and 5 for given no.:\n",
        "def result(N):\n",
        "  for num in range(N):\n",
        "    if num%3==0 and num%5==0:\n",
        "      print(str(num)+\"\",end=\"\")\n",
        "    else:\n",
        "      pass\n",
        "if __name__==\"__main__\":\n",
        "  N=100\n",
        "  result(N)"
      ]
    }
  ]
}