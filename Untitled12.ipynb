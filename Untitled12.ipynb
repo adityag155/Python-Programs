{
  "nbformat": 4,
  "nbformat_minor": 0,
  "metadata": {
    "colab": {
      "provenance": [],
      "authorship_tag": "ABX9TyPTi4YAWdFxAWMIz7zCxmPr",
      "include_colab_link": true
    },
    "kernelspec": {
      "name": "python3",
      "display_name": "Python 3"
    },
    "language_info": {
      "name": "python"
    }
  },
  "cells": [
    {
      "cell_type": "markdown",
      "metadata": {
        "id": "view-in-github",
        "colab_type": "text"
      },
      "source": [
        "<a href=\"https://colab.research.google.com/github/adityag155/Python-Programs/blob/main/Untitled12.ipynb\" target=\"_parent\"><img src=\"https://colab.research.google.com/assets/colab-badge.svg\" alt=\"Open In Colab\"/></a>"
      ]
    },
    {
      "cell_type": "code",
      "execution_count": null,
      "metadata": {
        "colab": {
          "base_uri": "https://localhost:8080/"
        },
        "id": "V5t1jaaZ1eV-",
        "outputId": "d32e2d3e-7231-4802-b13e-47155926cf66"
      },
      "outputs": [
        {
          "output_type": "stream",
          "name": "stdout",
          "text": [
            "0153045607590"
          ]
        }
      ],
      "source": [
        "#Python program to print all number divided by 3 and 5 for given no.:\n",
        "def result(N):\n",
        "  for num in range(N):\n",
        "    if num%3==0 and num%5==0:\n",
        "      print(str(num)+\"\",end=\"\")\n",
        "    else:\n",
        "      pass\n",
        "if __name__==\"__main__\":\n",
        "  N=100\n",
        "  result(N)"
      ]
    },
    {
      "cell_type": "code",
      "source": [
        "#Prime number or not:\n",
        "num=29\n",
        "flag=False\n",
        "if num>1:\n",
        "  for i in range(2,num):\n",
        "    if(num%i)==0:\n",
        "      flag=True\n",
        "      break\n",
        "if flag:\n",
        "  print(num,\"is not a prime number\")\n",
        "else:\n",
        "  print(num,\"is a prime number\")"
      ],
      "metadata": {
        "colab": {
          "base_uri": "https://localhost:8080/"
        },
        "id": "fh7yR2P8Z85W",
        "outputId": "45bb9241-a499-435e-d3ed-e4573563befa"
      },
      "execution_count": 3,
      "outputs": [
        {
          "output_type": "stream",
          "name": "stdout",
          "text": [
            "29 is a prime number\n"
          ]
        }
      ]
    }
  ]
}