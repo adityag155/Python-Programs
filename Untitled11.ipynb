{
  "nbformat": 4,
  "nbformat_minor": 0,
  "metadata": {
    "colab": {
      "provenance": [],
      "authorship_tag": "ABX9TyNfcbTG3A33c8Gcg22f3C19",
      "include_colab_link": true
    },
    "kernelspec": {
      "name": "python3",
      "display_name": "Python 3"
    },
    "language_info": {
      "name": "python"
    }
  },
  "cells": [
    {
      "cell_type": "markdown",
      "metadata": {
        "id": "view-in-github",
        "colab_type": "text"
      },
      "source": [
        "<a href=\"https://colab.research.google.com/github/adityag155/Python-Programs/blob/main/Untitled11.ipynb\" target=\"_parent\"><img src=\"https://colab.research.google.com/assets/colab-badge.svg\" alt=\"Open In Colab\"/></a>"
      ]
    },
    {
      "cell_type": "code",
      "execution_count": 6,
      "metadata": {
        "colab": {
          "base_uri": "https://localhost:8080/"
        },
        "id": "ZqQNmhXqfmYC",
        "outputId": "685920ec-472c-499d-8922-0313585a9b14"
      },
      "outputs": [
        {
          "output_type": "stream",
          "name": "stdout",
          "text": [
            "Number is smaller than 10\n"
          ]
        }
      ],
      "source": [
        "#Programs on conditional statements:\n",
        "num=5\n",
        "if(num<10):\n",
        "  print(\"Number is smaller than 10\")\n",
        "else:\n",
        "  print(\"Number is greater than 10\")"
      ]
    },
    {
      "cell_type": "code",
      "source": [
        "num=20\n",
        "if(num<10):\n",
        "  print(\"Number is smaller than 10\")\n",
        "else:\n",
        "  print(\"Number is greater than 10\")"
      ],
      "metadata": {
        "colab": {
          "base_uri": "https://localhost:8080/"
        },
        "id": "EunKxANAkZ6B",
        "outputId": "3162acb1-9237-4b13-fa2d-6087461b42e7"
      },
      "execution_count": 8,
      "outputs": [
        {
          "output_type": "stream",
          "name": "stdout",
          "text": [
            "Number is greater than 10\n"
          ]
        }
      ]
    },
    {
      "cell_type": "code",
      "source": [
        "a=10\n",
        "b=20\n",
        "if(a>b):\n",
        "  print(\"a is greater than b\")\n",
        "else:\n",
        "  print(\"a is smaller than b\")"
      ],
      "metadata": {
        "colab": {
          "base_uri": "https://localhost:8080/"
        },
        "id": "KLEld7R8lHoB",
        "outputId": "9dbec692-7a31-4a78-e206-d702b173fab4"
      },
      "execution_count": 10,
      "outputs": [
        {
          "output_type": "stream",
          "name": "stdout",
          "text": [
            "a is smaller than b\n"
          ]
        }
      ]
    },
    {
      "cell_type": "code",
      "source": [
        "a=20\n",
        "b=15\n",
        "if(a<b):\n",
        "  print(\"a is smaller than b\")\n",
        "else:\n",
        "  print(\"a is greater than b\")"
      ],
      "metadata": {
        "colab": {
          "base_uri": "https://localhost:8080/"
        },
        "id": "5JHDpJuXlgK_",
        "outputId": "5a849be0-7a3f-43b7-c229-3c199381e02b"
      },
      "execution_count": 11,
      "outputs": [
        {
          "output_type": "stream",
          "name": "stdout",
          "text": [
            "a is greater than b\n"
          ]
        }
      ]
    },
    {
      "cell_type": "code",
      "source": [
        "passing_score=50\n",
        "your_score=70\n",
        "if(your_score>=passing_score):\n",
        "  print(\"Congratulations You have passed the exam\")\n",
        "else:\n",
        "  print(\"Please apply for re-exam\")"
      ],
      "metadata": {
        "colab": {
          "base_uri": "https://localhost:8080/"
        },
        "id": "oSMq2F7UmXUo",
        "outputId": "99f01102-68d7-44a4-faf4-74d756c16358"
      },
      "execution_count": 14,
      "outputs": [
        {
          "output_type": "stream",
          "name": "stdout",
          "text": [
            "Congratulations You have passed the exam\n"
          ]
        }
      ]
    },
    {
      "cell_type": "code",
      "source": [
        "#elif statement:\n",
        "num=10\n",
        "if(num==0):\n",
        "  print(\"num is zero\")\n",
        "elif(num>5):\n",
        "  print(\"num is greater than 5\")\n",
        "else:\n",
        "  print(\"num is less than 5\")"
      ],
      "metadata": {
        "colab": {
          "base_uri": "https://localhost:8080/"
        },
        "id": "fFBSl_ienyIt",
        "outputId": "26dd1a67-9d21-42f0-9363-a4068779b0c3"
      },
      "execution_count": 15,
      "outputs": [
        {
          "output_type": "stream",
          "name": "stdout",
          "text": [
            "num is greater than 5\n"
          ]
        }
      ]
    },
    {
      "cell_type": "code",
      "source": [
        "num=-8\n",
        "if(num>0):\n",
        "  print(\"num is positive\")\n",
        "elif(num<0):\n",
        "  print(\"num is negative\")\n",
        "else:\n",
        "  print(\"num  is zero\")"
      ],
      "metadata": {
        "colab": {
          "base_uri": "https://localhost:8080/"
        },
        "id": "UPoCtenUojBO",
        "outputId": "f06b44a0-afe0-4b72-a1ec-2ec0b6f8c3e8"
      },
      "execution_count": 17,
      "outputs": [
        {
          "output_type": "stream",
          "name": "stdout",
          "text": [
            "num is negative\n"
          ]
        }
      ]
    },
    {
      "cell_type": "code",
      "source": [
        "num=5\n",
        "if(num>0):\n",
        "  print(\"num is positive\")\n",
        "if(num<10):\n",
        "  print(\"num  is less than 10\")"
      ],
      "metadata": {
        "colab": {
          "base_uri": "https://localhost:8080/"
        },
        "id": "Wz6jWLIEo9aD",
        "outputId": "7bace419-1135-4d22-8888-3709abac49cc"
      },
      "execution_count": 18,
      "outputs": [
        {
          "output_type": "stream",
          "name": "stdout",
          "text": [
            "num is positive\n",
            "num  is less than 10\n"
          ]
        }
      ]
    },
    {
      "cell_type": "code",
      "source": [
        "num=7\n",
        "if(num!=0):\n",
        "  if(num>0):\n",
        "    print(\"num is greater than zero\")"
      ],
      "metadata": {
        "colab": {
          "base_uri": "https://localhost:8080/"
        },
        "id": "_W-UEcG5pVWM",
        "outputId": "03cae220-4ae9-4a9a-a06e-2f778f75a425"
      },
      "execution_count": 19,
      "outputs": [
        {
          "output_type": "stream",
          "name": "stdout",
          "text": [
            "num is greater than zero\n"
          ]
        }
      ]
    },
    {
      "cell_type": "code",
      "source": [
        "#Nested if-else:\n",
        "num=-5\n",
        "if(num!=0):\n",
        "  if(num>0):\n",
        "    print(\"num is positive\")\n",
        "  else:\n",
        "    print(\"num is negative\")\n",
        "else:\n",
        "  print(\"num is zero\")"
      ],
      "metadata": {
        "colab": {
          "base_uri": "https://localhost:8080/"
        },
        "id": "tzLnK_ORp1fT",
        "outputId": "acb17b6c-51f8-46f8-c84c-a28b2d348213"
      },
      "execution_count": 22,
      "outputs": [
        {
          "output_type": "stream",
          "name": "stdout",
          "text": [
            "num is negative\n"
          ]
        }
      ]
    },
    {
      "cell_type": "code",
      "source": [
        "#elif ladder:\n",
        "my_marks=90\n",
        "if(my_marks<35):\n",
        "  print(\"Apply for reexam\")\n",
        "elif(my_marks>80 and my_marks>100):\n",
        "  print(\"Passed in first class\")\n",
        "else:\n",
        "  print(\"Passed in first class with distinction\")"
      ],
      "metadata": {
        "colab": {
          "base_uri": "https://localhost:8080/"
        },
        "id": "1o23peeRqmyl",
        "outputId": "3fefe2e1-64d4-43a0-d7d9-d5e73021d8a3"
      },
      "execution_count": 23,
      "outputs": [
        {
          "output_type": "stream",
          "name": "stdout",
          "text": [
            "Passed in first class with distinction\n"
          ]
        }
      ]
    }
  ]
}