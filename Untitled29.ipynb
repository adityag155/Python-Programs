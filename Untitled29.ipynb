{
  "nbformat": 4,
  "nbformat_minor": 0,
  "metadata": {
    "colab": {
      "provenance": [],
      "authorship_tag": "ABX9TyNhgatdJndiD7jF6WU3c470",
      "include_colab_link": true
    },
    "kernelspec": {
      "name": "python3",
      "display_name": "Python 3"
    },
    "language_info": {
      "name": "python"
    }
  },
  "cells": [
    {
      "cell_type": "markdown",
      "metadata": {
        "id": "view-in-github",
        "colab_type": "text"
      },
      "source": [
        "<a href=\"https://colab.research.google.com/github/adityag155/Python-Programs/blob/main/Untitled29.ipynb\" target=\"_parent\"><img src=\"https://colab.research.google.com/assets/colab-badge.svg\" alt=\"Open In Colab\"/></a>"
      ]
    },
    {
      "cell_type": "code",
      "execution_count": 2,
      "metadata": {
        "colab": {
          "base_uri": "https://localhost:8080/"
        },
        "id": "5Ytjn_9KiEKj",
        "outputId": "701ae674-97ea-4d6e-8c9f-29a88949357e"
      },
      "outputs": [
        {
          "output_type": "execute_result",
          "data": {
            "text/plain": [
              "<bound method Geek.displayDetails of <__main__.Geek object at 0x7f3d2a03ba90>>"
            ]
          },
          "metadata": {},
          "execution_count": 2
        }
      ],
      "source": [
        "#Python Access Specifier:\n",
        "\n",
        "#Protected:\n",
        "\n",
        "class Student:\n",
        "  _name=None\n",
        "  _roll=None\n",
        "  _Branch=None\n",
        "\n",
        "  def __init__(self, name, roll, branch):\n",
        "    self._name=name\n",
        "    self._roll=roll\n",
        "    self.branch=branch\n",
        "\n",
        "  def _displayRollAndBranch(self):\n",
        "    print(\"Roll:\", self._roll)\n",
        "    print(\"Branch:\", self._branch)\n",
        "\n",
        "class Geek(Student):\n",
        "  def __init__(self,name,roll,branch):\n",
        "    Student.__init__(self,name,roll,branch)\n",
        "  \n",
        "  def displayDetails(self):\n",
        "    print(\"Name:\",self._name)\n",
        "\n",
        "    self._displayRollAndBranch()\n",
        "\n",
        "obj=Geek(\"R2J\", 1706154, \"Computer Engineering\")\n",
        "\n",
        "obj.displayDetails"
      ]
    }
  ]
}