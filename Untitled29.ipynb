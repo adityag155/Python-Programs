{
  "nbformat": 4,
  "nbformat_minor": 0,
  "metadata": {
    "colab": {
      "provenance": [],
      "authorship_tag": "ABX9TyOyn7zWyeY1g+KnIUGvQfsM",
      "include_colab_link": true
    },
    "kernelspec": {
      "name": "python3",
      "display_name": "Python 3"
    },
    "language_info": {
      "name": "python"
    }
  },
  "cells": [
    {
      "cell_type": "markdown",
      "metadata": {
        "id": "view-in-github",
        "colab_type": "text"
      },
      "source": [
        "<a href=\"https://colab.research.google.com/github/adityag155/Python-Programs/blob/main/Untitled29.ipynb\" target=\"_parent\"><img src=\"https://colab.research.google.com/assets/colab-badge.svg\" alt=\"Open In Colab\"/></a>"
      ]
    },
    {
      "cell_type": "code",
      "source": [
        "# program to illustrate protected access modifier in a class\n",
        " \n",
        "class Student:\n",
        "    \n",
        "     _name = None\n",
        "     _roll = None\n",
        "     _branch = None\n",
        "    \n",
        "     def __init__(self, name, roll, branch): \n",
        "          self._name = name\n",
        "          self._roll = roll\n",
        "          self._branch = branch\n",
        "    \n",
        "     def _displayRollAndBranch(self):\n",
        " \n",
        "          print(\"Roll: \", self._roll)\n",
        "          print(\"Branch: \", self._branch)\n",
        " \n",
        "class Geek(Student):\n",
        " \n",
        "       def __init__(self, name, roll, branch):\n",
        "                Student.__init__(self, name, roll, branch)\n",
        "         \n",
        "       def displayDetails(self):\n",
        "                   \n",
        "                print(\"Name: \", self._name)\n",
        "                   \n",
        "                self._displayRollAndBranch()\n",
        "        \n",
        "obj = Geek(\"Adii\", 1706154, \"Computer Engineering\")\n",
        "\n",
        "obj.displayDetails()"
      ],
      "metadata": {
        "colab": {
          "base_uri": "https://localhost:8080/"
        },
        "id": "FYy49CW8oGjB",
        "outputId": "81fb7e77-b920-4472-c79e-ad72b8d81718"
      },
      "execution_count": 4,
      "outputs": [
        {
          "output_type": "stream",
          "name": "stdout",
          "text": [
            "Name:  Adii\n",
            "Roll:  1706154\n",
            "Branch:  Computer Engineering\n"
          ]
        }
      ]
    }
  ]
}