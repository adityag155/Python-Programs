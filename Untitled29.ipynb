{
  "nbformat": 4,
  "nbformat_minor": 0,
  "metadata": {
    "colab": {
      "provenance": [],
      "authorship_tag": "ABX9TyMuvim+0fFi1FUusVZjuDWs",
      "include_colab_link": true
    },
    "kernelspec": {
      "name": "python3",
      "display_name": "Python 3"
    },
    "language_info": {
      "name": "python"
    }
  },
  "cells": [
    {
      "cell_type": "markdown",
      "metadata": {
        "id": "view-in-github",
        "colab_type": "text"
      },
      "source": [
        "<a href=\"https://colab.research.google.com/github/adityag155/Python-Programs/blob/main/Untitled29.ipynb\" target=\"_parent\"><img src=\"https://colab.research.google.com/assets/colab-badge.svg\" alt=\"Open In Colab\"/></a>"
      ]
    },
    {
      "cell_type": "code",
      "source": [
        "# program to illustrate protected access modifier in a class\n",
        " \n",
        "class Student:\n",
        "    \n",
        "     _name = None\n",
        "     _roll = None\n",
        "     _branch = None\n",
        "    \n",
        "     def __init__(self, name, roll, branch): \n",
        "          self._name = name\n",
        "          self._roll = roll\n",
        "          self._branch = branch\n",
        "    \n",
        "     def _displayRollAndBranch(self):\n",
        " \n",
        "          print(\"Roll: \", self._roll)\n",
        "          print(\"Branch: \", self._branch)\n",
        " \n",
        "class Geek(Student):\n",
        " \n",
        "       def __init__(self, name, roll, branch):\n",
        "                Student.__init__(self, name, roll, branch)\n",
        "         \n",
        "       def displayDetails(self):\n",
        "                   \n",
        "                print(\"Name: \", self._name)\n",
        "                   \n",
        "                self._displayRollAndBranch()\n",
        "        \n",
        "obj = Geek(\"Adii\", 1706154, \"Computer Engineering\")\n",
        "\n",
        "obj.displayDetails()"
      ],
      "metadata": {
        "colab": {
          "base_uri": "https://localhost:8080/"
        },
        "id": "FYy49CW8oGjB",
        "outputId": "81fb7e77-b920-4472-c79e-ad72b8d81718"
      },
      "execution_count": null,
      "outputs": [
        {
          "output_type": "stream",
          "name": "stdout",
          "text": [
            "Name:  Adii\n",
            "Roll:  1706154\n",
            "Branch:  Computer Engineering\n"
          ]
        }
      ]
    },
    {
      "cell_type": "code",
      "source": [
        "class Super:\n",
        "     \n",
        "     # public data member\n",
        "     var1 = None\n",
        " \n",
        "     # protected data member\n",
        "     _var2 = None\n",
        "      \n",
        "     # private data member\n",
        "     __var3 = None\n",
        "     \n",
        "     def __init__(self, var1, var2, var3): \n",
        "          self.var1 = var1\n",
        "          self._var2 = var2\n",
        "          self.__var3 = var3\n",
        "      \n",
        "     def displayPublicMembers(self):\n",
        "  \n",
        "          print(\"Public Data Member: \", self.var1)\n",
        "          \n",
        "     def _displayProtectedMembers(self):\n",
        "  \n",
        "          print(\"Protected Data Member: \", self._var2)\n",
        "      \n",
        "     def __displayPrivateMembers(self):\n",
        "  \n",
        "          print(\"Private Data Member: \", self.__var3)\n",
        " \n",
        "     def accessPrivateMembers(self):    \n",
        "           \n",
        "          self.__displayPrivateMembers()\n",
        "  \n",
        "class Sub(Super):\n",
        "  \n",
        "      # constructor\n",
        "       def __init__(self, var1, var2, var3):\n",
        "                Super.__init__(self, var1, var2, var3)\n",
        "           \n",
        "       def accessProtectedMembers(self):\n",
        "                 \n",
        "                self._displayProtectedMembers()\n",
        "    \n",
        "obj = Sub(\"Geeks\", 4, \"Geeks !\")\n",
        "\n",
        "obj.displayPublicMembers()\n",
        "obj.accessProtectedMembers()\n",
        "obj.accessPrivateMembers()\n",
        "\n",
        "print(\"Object is accessing protected member:\", obj._var2)\n",
        " "
      ],
      "metadata": {
        "colab": {
          "base_uri": "https://localhost:8080/"
        },
        "id": "KE_-g8rBxaEv",
        "outputId": "a7e9d6ea-172d-48c8-9948-59f8056b4c80"
      },
      "execution_count": 9,
      "outputs": [
        {
          "output_type": "stream",
          "name": "stdout",
          "text": [
            "Public Data Member:  Geeks\n",
            "Protected Data Member:  4\n",
            "Private Data Member:  Geeks !\n",
            "Object is accessing protected member: 4\n"
          ]
        }
      ]
    }
  ]
}