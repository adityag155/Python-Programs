{
  "nbformat": 4,
  "nbformat_minor": 0,
  "metadata": {
    "colab": {
      "provenance": [],
      "authorship_tag": "ABX9TyPvlSb+ZJ5L+9ojUQ6reRUb",
      "include_colab_link": true
    },
    "kernelspec": {
      "name": "python3",
      "display_name": "Python 3"
    },
    "language_info": {
      "name": "python"
    }
  },
  "cells": [
    {
      "cell_type": "markdown",
      "metadata": {
        "id": "view-in-github",
        "colab_type": "text"
      },
      "source": [
        "<a href=\"https://colab.research.google.com/github/adityag155/Python-Programs/blob/main/Untitled34.ipynb\" target=\"_parent\"><img src=\"https://colab.research.google.com/assets/colab-badge.svg\" alt=\"Open In Colab\"/></a>"
      ]
    },
    {
      "cell_type": "code",
      "source": [
        "#Static Method:It is used in class not in object of class:\n",
        "\n",
        "class MyClass:\n",
        "    def __init__(self, value):\n",
        "        self.value = value\n",
        " \n",
        "    def get_max_value(x, y):\n",
        "        return max(x, y)\n",
        "\n",
        "obj = MyClass(10)\n",
        " \n",
        "print(MyClass.get_max_value(20, 30)) \n",
        "print(obj.get_max_value(20, 30))"
      ],
      "metadata": {
        "colab": {
          "base_uri": "https://localhost:8080/"
        },
        "id": "S9fvEV4cAkmb",
        "outputId": "64ce406f-ad11-4ed8-fb91-e5ae6edd9648"
      },
      "execution_count": 17,
      "outputs": [
        {
          "output_type": "stream",
          "name": "stdout",
          "text": [
            "30\n",
            "30\n"
          ]
        }
      ]
    }
  ]
}