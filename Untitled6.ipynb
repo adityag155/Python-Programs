{
  "nbformat": 4,
  "nbformat_minor": 0,
  "metadata": {
    "colab": {
      "name": "Untitled6.ipynb",
      "provenance": [],
      "authorship_tag": "ABX9TyNyjdVFdlqA3pWNUgWbTeZF",
      "include_colab_link": true
    },
    "kernelspec": {
      "name": "python3",
      "display_name": "Python 3"
    },
    "language_info": {
      "name": "python"
    }
  },
  "cells": [
    {
      "cell_type": "markdown",
      "metadata": {
        "id": "view-in-github",
        "colab_type": "text"
      },
      "source": [
        "<a href=\"https://colab.research.google.com/github/adityag155/Python-Programs/blob/main/Untitled6.ipynb\" target=\"_parent\"><img src=\"https://colab.research.google.com/assets/colab-badge.svg\" alt=\"Open In Colab\"/></a>"
      ]
    },
    {
      "cell_type": "code",
      "execution_count": 1,
      "metadata": {
        "colab": {
          "base_uri": "https://localhost:8080/"
        },
        "id": "OE301pIQhPoa",
        "outputId": "4ff56412-03b9-446c-94f3-b8ccb8328992"
      },
      "outputs": [
        {
          "output_type": "stream",
          "name": "stdout",
          "text": [
            "a & b = 0\n",
            "a | b = 14\n",
            "~ a = -11\n",
            "a ^ b= 14\n"
          ]
        }
      ],
      "source": [
        "#Bitwise Operator\n",
        "\n",
        "#Python program for bitwise operator\n",
        "\n",
        "a=10\n",
        "b=4\n",
        "\n",
        "#Print bitwise AND operation\n",
        "print(\"a & b =\", a & b)\n",
        "#Print bitwise OR Operation\n",
        "print(\"a | b =\", a | b)\n",
        "#Print bitwise NOT Operation\n",
        "print(\"~ a =\", ~a)\n",
        "#Print bitwise XOR operation\n",
        "print(\"a ^ b=\", a^b)"
      ]
    },
    {
      "cell_type": "code",
      "source": [
        "#Python programs for bitwise operator\n",
        "\n",
        "a=10\n",
        "b=4\n",
        "\n",
        "#Print bitwise AND Operation\n",
        "print(\"a & b=\", a & b)\n",
        "#print biwise OR operation\n",
        "print(\"a | b=\", a | b)\n",
        "#print bitwise NOT operation\n",
        "print(\"~a =\", ~a)\n",
        "#print bitwise XOR operation\n",
        "print(\"a ^ b=\", a ^ b)"
      ],
      "metadata": {
        "colab": {
          "base_uri": "https://localhost:8080/"
        },
        "id": "_BcC6IRjsqAE",
        "outputId": "daad9e4a-6f47-4cd9-bee9-bedb2bb5bc2f"
      },
      "execution_count": 2,
      "outputs": [
        {
          "output_type": "stream",
          "name": "stdout",
          "text": [
            "a & b= 0\n",
            "a | b= 14\n",
            "~a = -11\n",
            "a ^ b= 14\n"
          ]
        }
      ]
    },
    {
      "cell_type": "code",
      "source": [
        "#Python program to show shift operator\n",
        "a=10\n",
        "b=-10\n",
        "\n",
        "#print bitwise right shift operaor\n",
        "print(\"a >> 1=\", a>> 1)\n",
        "print(\"b >> 1\", b >> 1)\n",
        "\n",
        "#print bitwise left operator shift\n",
        "a=5\n",
        "b=-10\n",
        "print(\"a << 1=\", a << 1)\n",
        "print(\"b << 1=\", b << 1)\n"
      ],
      "metadata": {
        "id": "3_s-DFlH7P4l",
        "outputId": "a4434623-dc15-4960-88e1-53d30b1d604a",
        "colab": {
          "base_uri": "https://localhost:8080/"
        }
      },
      "execution_count": 5,
      "outputs": [
        {
          "output_type": "stream",
          "name": "stdout",
          "text": [
            "a >> 1= 5\n",
            "b >> 1 -5\n",
            "a << 1= 10\n",
            "b << 1= -20\n"
          ]
        }
      ]
    },
    {
      "cell_type": "code",
      "source": [
        "#Python program to show bitwis eoperator:\n",
        "a= 10\n",
        "b=-10\n",
        "#print bitwise right shift operator\n",
        "print(\"a >> 1=\", a >> 1)\n",
        "print(\"b >> 1=\", b >> 1)\n",
        "\n",
        "#bitwise left shift operator\n",
        "a=5\n",
        "b=-10\n",
        "print(\"a << 1=\", a << 1)\n",
        "print(\"b << 1=\", b << 1)"
      ],
      "metadata": {
        "id": "WvYZ33iF8pdr",
        "outputId": "401d6f7f-c9e8-4a01-de72-75d2e8eefb42",
        "colab": {
          "base_uri": "https://localhost:8080/"
        }
      },
      "execution_count": 6,
      "outputs": [
        {
          "output_type": "stream",
          "name": "stdout",
          "text": [
            "a >> 1= 5\n",
            "b >> 1= -5\n",
            "a << 1= 10\n",
            "b << 1= -20\n"
          ]
        }
      ]
    },
    {
      "cell_type": "code",
      "source": [
        "#Python program on assignment operator:\n",
        "\n",
        "#Assigning value using assignment operator:\n",
        "a = 10\n",
        "b = 20\n",
        "\n",
        "c= a + b\n",
        "print(c)"
      ],
      "metadata": {
        "id": "k4gGUyjR9irx",
        "outputId": "fa8b3f3a-7ca3-49c0-e317-c54300778d7f",
        "colab": {
          "base_uri": "https://localhost:8080/"
        }
      },
      "execution_count": 7,
      "outputs": [
        {
          "output_type": "stream",
          "name": "stdout",
          "text": [
            "30\n"
          ]
        }
      ]
    },
    {
      "cell_type": "code",
      "source": [
        "#ADD and ASSIGN (+=):\n",
        "a=3\n",
        "b=5\n",
        "a+=b\n",
        "print(a)"
      ],
      "metadata": {
        "id": "uG-P48YP-Ksh",
        "outputId": "8d20b1fd-ec12-47af-8bfe-f53180a2c32d",
        "colab": {
          "base_uri": "https://localhost:8080/"
        }
      },
      "execution_count": 8,
      "outputs": [
        {
          "output_type": "stream",
          "name": "stdout",
          "text": [
            "8\n"
          ]
        }
      ]
    },
    {
      "cell_type": "code",
      "source": [
        "#SUBSTRACT and ASSIGN:(-=)\n",
        "\n",
        "a=5\n",
        "b=3\n",
        "a-=b\n",
        "print(a)"
      ],
      "metadata": {
        "id": "1KNDIujI-rBY",
        "outputId": "cdcb79fc-fc8e-472f-c232-af0b60c7d2fb",
        "colab": {
          "base_uri": "https://localhost:8080/"
        }
      },
      "execution_count": 9,
      "outputs": [
        {
          "output_type": "stream",
          "name": "stdout",
          "text": [
            "2\n"
          ]
        }
      ]
    },
    {
      "cell_type": "code",
      "source": [
        "#MULIUPLY and ASSIGN:(*=)\n",
        "a=10\n",
        "b=2\n",
        "a*=b\n",
        "print(a)"
      ],
      "metadata": {
        "id": "7JOCOMn2-0OS",
        "outputId": "5d6a42a2-6617-4351-a27e-6801de03737c",
        "colab": {
          "base_uri": "https://localhost:8080/"
        }
      },
      "execution_count": 10,
      "outputs": [
        {
          "output_type": "stream",
          "name": "stdout",
          "text": [
            "20\n"
          ]
        }
      ]
    },
    {
      "cell_type": "code",
      "source": [
        "#DIVIDE and ASSIGN:(/=)\n",
        "a=3\n",
        "b=5\n",
        "a/=b\n",
        "print(a)"
      ],
      "metadata": {
        "id": "8clKqGtr_A0l",
        "outputId": "7fae3a08-c003-4746-967c-41d073d650a4",
        "colab": {
          "base_uri": "https://localhost:8080/"
        }
      },
      "execution_count": 11,
      "outputs": [
        {
          "output_type": "stream",
          "name": "stdout",
          "text": [
            "0.6\n"
          ]
        }
      ]
    },
    {
      "cell_type": "code",
      "source": [
        "#MODULUS and ASSIGN:(%=)\n",
        "a=3\n",
        "b=5\n",
        "a%=b\n",
        "print(a)"
      ],
      "metadata": {
        "id": "DEHA_UaM_Kzb",
        "outputId": "719ffd3e-013a-49e9-fc21-ecb6e5931376",
        "colab": {
          "base_uri": "https://localhost:8080/"
        }
      },
      "execution_count": 14,
      "outputs": [
        {
          "output_type": "stream",
          "name": "stdout",
          "text": [
            "3\n"
          ]
        }
      ]
    },
    {
      "cell_type": "code",
      "source": [
        "#DIVIDE(FLOOR) and ASSIGN:(//=)\n",
        "a=3\n",
        "b=5\n",
        "a//=b\n",
        "print(a)"
      ],
      "metadata": {
        "id": "Uoh62ePG_brl",
        "outputId": "a6034f71-228a-4c62-ae96-a62b97b48630",
        "colab": {
          "base_uri": "https://localhost:8080/"
        }
      },
      "execution_count": 15,
      "outputs": [
        {
          "output_type": "stream",
          "name": "stdout",
          "text": [
            "0\n"
          ]
        }
      ]
    },
    {
      "cell_type": "code",
      "source": [
        "#EXPONENT and ASSIGN:(**=)\n",
        "a=3\n",
        "b=5\n",
        "a**=b\n",
        "print(a)"
      ],
      "metadata": {
        "id": "MAC4_rKWAMPG",
        "outputId": "a948039c-e37d-4ac6-a7d1-d667e5024295",
        "colab": {
          "base_uri": "https://localhost:8080/"
        }
      },
      "execution_count": 19,
      "outputs": [
        {
          "output_type": "stream",
          "name": "stdout",
          "text": [
            "243\n"
          ]
        }
      ]
    },
    {
      "cell_type": "code",
      "source": [
        "#BITWISE AND and ASSIGN:(&+)\n",
        "a=3\n",
        "b=5\n",
        "a&=b\n",
        "print(a)"
      ],
      "metadata": {
        "id": "NKAvxs56Anhy",
        "outputId": "08eb3356-a015-4886-8749-45921edf1d0a",
        "colab": {
          "base_uri": "https://localhost:8080/"
        }
      },
      "execution_count": 20,
      "outputs": [
        {
          "output_type": "stream",
          "name": "stdout",
          "text": [
            "1\n"
          ]
        }
      ]
    },
    {
      "cell_type": "code",
      "source": [
        "#BITWISE OR and ASSIGN:(|=)\n",
        "a=3\n",
        "b=5\n",
        "a|=b\n",
        "print(a)"
      ],
      "metadata": {
        "id": "uvEqfvGrA1s7",
        "outputId": "7e126faf-7de4-4fa5-ec86-f640929a8703",
        "colab": {
          "base_uri": "https://localhost:8080/"
        }
      },
      "execution_count": 21,
      "outputs": [
        {
          "output_type": "stream",
          "name": "stdout",
          "text": [
            "7\n"
          ]
        }
      ]
    },
    {
      "cell_type": "code",
      "source": [
        "#BITWISE EXOR and ASSIGN:(^=)\n",
        "a=3\n",
        "b=5\n",
        "a^=b\n",
        "print(a)"
      ],
      "metadata": {
        "id": "vA-mamLVCnC-",
        "outputId": "4406fb9c-e996-4b44-e691-505ac5aeeb4a",
        "colab": {
          "base_uri": "https://localhost:8080/"
        }
      },
      "execution_count": 22,
      "outputs": [
        {
          "output_type": "stream",
          "name": "stdout",
          "text": [
            "6\n"
          ]
        }
      ]
    },
    {
      "cell_type": "code",
      "source": [
        "#BITWISE RIGHT SHIFT and ASSIGN:(>>=)\n",
        "a=3\n",
        "b=5\n",
        "a>>=b\n",
        "print(a)"
      ],
      "metadata": {
        "id": "Cwbh8BooCzcW",
        "outputId": "e191a72c-38dc-4367-fa41-e06dc2232e31",
        "colab": {
          "base_uri": "https://localhost:8080/"
        }
      },
      "execution_count": 23,
      "outputs": [
        {
          "output_type": "stream",
          "name": "stdout",
          "text": [
            "0\n"
          ]
        }
      ]
    },
    {
      "cell_type": "code",
      "source": [
        "#BITWISE LEFT SHIFT and ASSIGN:(<<=)\n",
        "a=3\n",
        "b=5\n",
        "a<<=b\n",
        "print(a)"
      ],
      "metadata": {
        "id": "v61XRFzRC-ut",
        "outputId": "8d9b8515-1c56-47ff-ea2a-c32c832cd2d6",
        "colab": {
          "base_uri": "https://localhost:8080/"
        }
      },
      "execution_count": 24,
      "outputs": [
        {
          "output_type": "stream",
          "name": "stdout",
          "text": [
            "96\n"
          ]
        }
      ]
    }
  ]
}