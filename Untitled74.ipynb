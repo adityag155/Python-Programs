{
  "nbformat": 4,
  "nbformat_minor": 0,
  "metadata": {
    "colab": {
      "provenance": [],
      "authorship_tag": "ABX9TyM+CtCwKPlrPeDU94vt5E8c",
      "include_colab_link": true
    },
    "kernelspec": {
      "name": "python3",
      "display_name": "Python 3"
    },
    "language_info": {
      "name": "python"
    }
  },
  "cells": [
    {
      "cell_type": "markdown",
      "metadata": {
        "id": "view-in-github",
        "colab_type": "text"
      },
      "source": [
        "<a href=\"https://colab.research.google.com/github/adityag155/Python-Programs/blob/main/Untitled74.ipynb\" target=\"_parent\"><img src=\"https://colab.research.google.com/assets/colab-badge.svg\" alt=\"Open In Colab\"/></a>"
      ]
    },
    {
      "cell_type": "code",
      "execution_count": 1,
      "metadata": {
        "colab": {
          "base_uri": "https://localhost:8080/"
        },
        "id": "N68GHZFdlp1H",
        "outputId": "6d22dee6-526a-41fa-d4db-fb7b0989c8cd"
      },
      "outputs": [
        {
          "output_type": "stream",
          "name": "stdout",
          "text": [
            "The entered string is palindrome\n",
            "The entered string is symmetrical\n"
          ]
        }
      ],
      "source": [
        "#Python program to check whether the string is Symmetrical or Palindrome:\n",
        "\n",
        "def palindrome(a):\n",
        "    #find the mid, start\n",
        "    #and last index of the strinf\n",
        "    mid = (len(a)-1)//2\n",
        "    start = 0\n",
        "    last = len(a)-1\n",
        "    flag = 0\n",
        "    \n",
        "#A loop till the mid of the string\n",
        "    while(start<mid):\n",
        "    \n",
        "    #comparing letters from right\n",
        "    #from the letters from left\n",
        "        if (a[start] == a[last]):\n",
        "            start +=1\n",
        "            last -=1\n",
        "        else:\n",
        "            flag = 1\n",
        "            break;\n",
        "        \n",
        "    #Checking the flag variable to\n",
        "    #check if the string is palindrome or not\n",
        "    if flag == 0:\n",
        "        print(\"The entered string is palindrome\")\n",
        "    else:\n",
        "        print(\"The entered string is not palindrome:\")\n",
        "#Function to check whether function is symmetrical or not:\n",
        "def symmetry(a):\n",
        "    n = len(a)\n",
        "    flag = 0\n",
        "    \n",
        "    #Check if the string.s length\n",
        "    #is odd or even\n",
        "    if n%2:\n",
        "        mid = n//2 + 1\n",
        "    else:\n",
        "        mid = n// 2\n",
        "    start1 = 0\n",
        "    start2 = mid\n",
        "    \n",
        "    while(start1< mid and start2<n):\n",
        "        if (a[start1] == a [start2]):\n",
        "            start1 = start1 + 1\n",
        "            start2 = start2 + 1\n",
        "        else:\n",
        "            flag = 1\n",
        "            break\n",
        "#Checking the flag ariable to check if the string is symmetrical or not\n",
        "    if flag == 0:\n",
        "        print(\"The entered string is symmetrical\")\n",
        "    else:\n",
        "        print(\"The entered string is not symmetrical\")\n",
        "#Driver code\n",
        "string = 'amaama'\n",
        "palindrome(string)\n",
        "symmetry(string)\n"
      ]
    },
    {
      "cell_type": "code",
      "source": [
        "#Reverse words in a given string in python:\n",
        "\n",
        "def rev_sentence(sentence): \n",
        "  \n",
        "    # first split the string into words \n",
        "    words = sentence.split(' ') \n",
        "  \n",
        "    # then reverse the split string list and join using space \n",
        "    reverse_sentence = ' '.join(reversed(words)) \n",
        "  \n",
        "    # finally return the joined string \n",
        "    return reverse_sentence \n",
        "  \n",
        "if __name__ == \"__main__\": \n",
        "    input = 'geeks quiz practice code'\n",
        "    print (rev_sentence(input))\n"
      ],
      "metadata": {
        "colab": {
          "base_uri": "https://localhost:8080/"
        },
        "id": "U7eKbYRjmi3S",
        "outputId": "30079f36-acae-4579-f4ea-2aa233431044"
      },
      "execution_count": 2,
      "outputs": [
        {
          "output_type": "stream",
          "name": "stdout",
          "text": [
            "code practice quiz geeks\n"
          ]
        }
      ]
    },
    {
      "cell_type": "code",
      "source": [
        "#Ways to remove i'th character from string in python:\n",
        "\n",
        "test_str = \"Geeksforgeeks\"\n",
        "\n",
        "#print the original ist:\n",
        "print(\"The original list is:\"+test_str)\n",
        "\n",
        "#Removing char at pos3 using loop:\n",
        "new_str = \"\"\n",
        "for i in range(len(test_str)):\n",
        "    if i != 2:\n",
        "        new_str = new_str + test_str[i]\n",
        "        \n",
        "#printing string after removal:\n",
        "print(\"The string after removal of i'th character:\" +new_str)\n"
      ],
      "metadata": {
        "colab": {
          "base_uri": "https://localhost:8080/"
        },
        "id": "s8Ej-NVOmwb9",
        "outputId": "8cd7a48a-3816-472b-9ba6-087d9626a92e"
      },
      "execution_count": 3,
      "outputs": [
        {
          "output_type": "stream",
          "name": "stdout",
          "text": [
            "The original list is:Geeksforgeeks\n",
            "The string after removal of i'th character:Geksforgeeks\n"
          ]
        }
      ]
    },
    {
      "cell_type": "code",
      "source": [
        "#Python check if a substring is present in a given string:\n",
        "\n",
        "def check(string, sub_str):\n",
        "    if(string.find(sub_str) == -1):\n",
        "        print(\"No\")\n",
        "    else:\n",
        "        print(\"Yes\")\n",
        "#Drive code:\n",
        "string = \"geeks for geeks\"\n",
        "sub_str = \"geeks\"\n",
        "check(string, sub_str)\n"
      ],
      "metadata": {
        "colab": {
          "base_uri": "https://localhost:8080/"
        },
        "id": "Sp82ZTt_m9Rw",
        "outputId": "86ed2b75-7584-4b03-d1f3-1351a5583fc8"
      },
      "execution_count": 4,
      "outputs": [
        {
          "output_type": "stream",
          "name": "stdout",
          "text": [
            "Yes\n"
          ]
        }
      ]
    },
    {
      "cell_type": "code",
      "source": [
        "#Python-words frequency in string shorthands:\n",
        "\n",
        "#initialize string:\n",
        "test_str = 'Gfg is best . Geeks are good and Geeks like Gfg'\n",
        "\n",
        "#printing original string:\n",
        "print(\"The original string is :\" +str(test_str))\n",
        "\n",
        "#Words frequency in string shorthands\n",
        "#Using dictionary comprehension + count() + split()\n",
        "res = {key: test_str.count(key)for key in test_str.split()}\n",
        "\n",
        "#printing result:\n",
        "print(\"The words frequency:\"+ str(res))\n"
      ],
      "metadata": {
        "colab": {
          "base_uri": "https://localhost:8080/"
        },
        "id": "qnIeIRASnap2",
        "outputId": "4e7026d2-478d-4bd2-a57f-b75913474f68"
      },
      "execution_count": 7,
      "outputs": [
        {
          "output_type": "stream",
          "name": "stdout",
          "text": [
            "The original string is :Gfg is best . Geeks are good and Geeks like Gfg\n",
            "The words frequency:{'Gfg': 2, 'is': 1, 'best': 1, '.': 1, 'Geeks': 2, 'are': 1, 'good': 1, 'and': 1, 'like': 1}\n"
          ]
        }
      ]
    },
    {
      "cell_type": "code",
      "source": [
        "#python convert snake case to pascal case:\n",
        "#Using tile() + replace()\n",
        "\n",
        "#Initializing string\n",
        "test_str = 'geeksforgeeks_is_best'\n",
        "\n",
        "#Printing original string:\n",
        "print(\"The original string:\" +str(test_str))\n",
        "\n",
        "#Convert snake case to pascal case:\n",
        "#Using tile() + replace()\n",
        "res = test_str.replace(\"_\",\" \").title().replace(\" \", \" \")\n",
        "\n",
        "#Printing result:\n",
        "print(\"The string after changing case: \"+ str(res))\n"
      ],
      "metadata": {
        "colab": {
          "base_uri": "https://localhost:8080/"
        },
        "id": "Hx6ybYaEn9az",
        "outputId": "d43cf42d-a980-46a0-8be5-44e8c4235672"
      },
      "execution_count": 8,
      "outputs": [
        {
          "output_type": "stream",
          "name": "stdout",
          "text": [
            "The original string:geeksforgeeks_is_best\n",
            "The string after changing case: Geeksforgeeks Is Best\n"
          ]
        }
      ]
    },
    {
      "cell_type": "code",
      "source": [
        "#find length of string in python (4ways):\n",
        "#1st way:\n",
        "str = \"AdityaMadhukarGend\"\n",
        "print(len(str))"
      ],
      "metadata": {
        "colab": {
          "base_uri": "https://localhost:8080/"
        },
        "id": "ZoHA4p9noJsQ",
        "outputId": "2317a9d0-36bd-4941-cff6-1ce8561018e3"
      },
      "execution_count": 11,
      "outputs": [
        {
          "output_type": "stream",
          "name": "stdout",
          "text": [
            "18\n"
          ]
        }
      ]
    },
    {
      "cell_type": "code",
      "source": [
        "#find length of string in python (4ways):\n",
        "#2nd way:\n",
        "def findLen(str):\n",
        "    counter = 0\n",
        "    for i in str:\n",
        "        counter+=1\n",
        "    return counter\n",
        "str = \"Aditya\"\n",
        "print(findLen(str))\n"
      ],
      "metadata": {
        "colab": {
          "base_uri": "https://localhost:8080/"
        },
        "id": "Ol_hGz6Kosqa",
        "outputId": "565a1e88-7656-4f09-a7f3-bfcfdca409e6"
      },
      "execution_count": 13,
      "outputs": [
        {
          "output_type": "stream",
          "name": "stdout",
          "text": [
            "6\n"
          ]
        }
      ]
    },
    {
      "cell_type": "code",
      "source": [
        "#find length of string in python (4ways):\n",
        "#3rd way:\n",
        "#Using while loop:\n",
        "\n",
        "def findLen(str):\n",
        "    counter = 0\n",
        "    while str[counter:]:\n",
        "        counter+=1\n",
        "    return counter\n",
        "str = \"geeks\"\n",
        "print(findLen(str))\n"
      ],
      "metadata": {
        "colab": {
          "base_uri": "https://localhost:8080/"
        },
        "id": "KbkxLkITpCvW",
        "outputId": "753e4a86-ee4d-4aaf-fd2d-2fe35497c303"
      },
      "execution_count": 14,
      "outputs": [
        {
          "output_type": "stream",
          "name": "stdout",
          "text": [
            "5\n"
          ]
        }
      ]
    }
  ]
}