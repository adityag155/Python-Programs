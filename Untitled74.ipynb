{
  "nbformat": 4,
  "nbformat_minor": 0,
  "metadata": {
    "colab": {
      "provenance": [],
      "authorship_tag": "ABX9TyPL+lFaboiIWW3g1sz0UK6o",
      "include_colab_link": true
    },
    "kernelspec": {
      "name": "python3",
      "display_name": "Python 3"
    },
    "language_info": {
      "name": "python"
    }
  },
  "cells": [
    {
      "cell_type": "markdown",
      "metadata": {
        "id": "view-in-github",
        "colab_type": "text"
      },
      "source": [
        "<a href=\"https://colab.research.google.com/github/adityag155/Python-Programs/blob/main/Untitled74.ipynb\" target=\"_parent\"><img src=\"https://colab.research.google.com/assets/colab-badge.svg\" alt=\"Open In Colab\"/></a>"
      ]
    },
    {
      "cell_type": "code",
      "execution_count": 1,
      "metadata": {
        "colab": {
          "base_uri": "https://localhost:8080/"
        },
        "id": "N68GHZFdlp1H",
        "outputId": "6d22dee6-526a-41fa-d4db-fb7b0989c8cd"
      },
      "outputs": [
        {
          "output_type": "stream",
          "name": "stdout",
          "text": [
            "The entered string is palindrome\n",
            "The entered string is symmetrical\n"
          ]
        }
      ],
      "source": [
        "#Python program to check whether the string is Symmetrical or Palindrome:\n",
        "\n",
        "def palindrome(a):\n",
        "    #find the mid, start\n",
        "    #and last index of the strinf\n",
        "    mid = (len(a)-1)//2\n",
        "    start = 0\n",
        "    last = len(a)-1\n",
        "    flag = 0\n",
        "    \n",
        "#A loop till the mid of the string\n",
        "    while(start<mid):\n",
        "    \n",
        "    #comparing letters from right\n",
        "    #from the letters from left\n",
        "        if (a[start] == a[last]):\n",
        "            start +=1\n",
        "            last -=1\n",
        "        else:\n",
        "            flag = 1\n",
        "            break;\n",
        "        \n",
        "    #Checking the flag variable to\n",
        "    #check if the string is palindrome or not\n",
        "    if flag == 0:\n",
        "        print(\"The entered string is palindrome\")\n",
        "    else:\n",
        "        print(\"The entered string is not palindrome:\")\n",
        "#Function to check whether function is symmetrical or not:\n",
        "def symmetry(a):\n",
        "    n = len(a)\n",
        "    flag = 0\n",
        "    \n",
        "    #Check if the string.s length\n",
        "    #is odd or even\n",
        "    if n%2:\n",
        "        mid = n//2 + 1\n",
        "    else:\n",
        "        mid = n// 2\n",
        "    start1 = 0\n",
        "    start2 = mid\n",
        "    \n",
        "    while(start1< mid and start2<n):\n",
        "        if (a[start1] == a [start2]):\n",
        "            start1 = start1 + 1\n",
        "            start2 = start2 + 1\n",
        "        else:\n",
        "            flag = 1\n",
        "            break\n",
        "#Checking the flag ariable to check if the string is symmetrical or not\n",
        "    if flag == 0:\n",
        "        print(\"The entered string is symmetrical\")\n",
        "    else:\n",
        "        print(\"The entered string is not symmetrical\")\n",
        "#Driver code\n",
        "string = 'amaama'\n",
        "palindrome(string)\n",
        "symmetry(string)\n"
      ]
    }
  ]
}