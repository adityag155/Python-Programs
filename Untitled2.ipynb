{
  "nbformat": 4,
  "nbformat_minor": 0,
  "metadata": {
    "colab": {
      "name": "Untitled2.ipynb",
      "provenance": [],
      "authorship_tag": "ABX9TyPonY2ZsE/LUBhJBG4okUf3",
      "include_colab_link": true
    },
    "kernelspec": {
      "name": "python3",
      "display_name": "Python 3"
    },
    "language_info": {
      "name": "python"
    }
  },
  "cells": [
    {
      "cell_type": "markdown",
      "metadata": {
        "id": "view-in-github",
        "colab_type": "text"
      },
      "source": [
        "<a href=\"https://colab.research.google.com/github/adityag155/Python-Programs/blob/main/Untitled2.ipynb\" target=\"_parent\"><img src=\"https://colab.research.google.com/assets/colab-badge.svg\" alt=\"Open In Colab\"/></a>"
      ]
    },
    {
      "cell_type": "code",
      "execution_count": 4,
      "metadata": {
        "colab": {
          "base_uri": "https://localhost:8080/"
        },
        "id": "Pq4R1L4ojZYy",
        "outputId": "96e9e248-95ad-4adc-8382-f01ca610c015"
      },
      "outputs": [
        {
          "output_type": "stream",
          "name": "stdout",
          "text": [
            "4\n"
          ]
        }
      ],
      "source": [
        "#Python program to find the maximum of two numbers:\n",
        "\n",
        "def maximum (a,b):\n",
        "    if a>=b:\n",
        "        return a\n",
        "    else:\n",
        "        return b\n",
        "#Driver code:\n",
        "a=2\n",
        "b=4\n",
        "print(maximum(a,b))"
      ]
    },
    {
      "cell_type": "code",
      "source": [
        "#Python Program for Arithmetic Operators:\n",
        "\n",
        "val1 = 2\n",
        "val2 = 4\n",
        "\n",
        "res1 = val1 + val2\n",
        "res2 = val1 - val2\n",
        "res3 = val1 * val2\n",
        "\n",
        "print(res1)\n",
        "print(res2)\n",
        "print(res3)\n"
      ],
      "metadata": {
        "colab": {
          "base_uri": "https://localhost:8080/"
        },
        "id": "Bv-iWtNnj-Rk",
        "outputId": "7c950057-6e28-4f5b-cd89-a0c58f7d9523"
      },
      "execution_count": 7,
      "outputs": [
        {
          "output_type": "stream",
          "name": "stdout",
          "text": [
            "6\n",
            "-2\n",
            "8\n"
          ]
        }
      ]
    },
    {
      "cell_type": "code",
      "source": [
        "#Python Program for string literal:\n",
        "\n",
        "#In single line quots:\n",
        "s1 = 'Hello guys'\n",
        "\n",
        "#In double line quots:\n",
        "s2 = \"Hello guys\"\n",
        "\n",
        "#In multile quote:\n",
        "s3 = '''Hello\n",
        "          guys\n",
        "               How \n",
        "                are \n",
        "                    you'''\n",
        "print(s1)\n",
        "print(s2)\n",
        "print(s3)"
      ],
      "metadata": {
        "colab": {
          "base_uri": "https://localhost:8080/"
        },
        "id": "AFFSxGipk5ZI",
        "outputId": "79b35b3b-c899-4b19-ff25-2ad107bf8891"
      },
      "execution_count": 11,
      "outputs": [
        {
          "output_type": "stream",
          "name": "stdout",
          "text": [
            "Hello guys\n",
            "Hello guys\n",
            "Hello\n",
            "          guys\n",
            "               How \n",
            "                are \n",
            "                    you\n"
          ]
        }
      ]
    },
    {
      "cell_type": "code",
      "source": [
        "#Python program for demonstrate numeric values:\n",
        "\n",
        "a = 5\n",
        "print(\"Type of a:\",type(a))\n",
        "\n",
        "b = 5.10\n",
        "print(\"Type of b:\",type(b))\n",
        "\n",
        "c = \"Hello Friends\" \n",
        "print(\"Type of c:\",type(c))\n",
        "\n",
        "d = 22 + 4j\n",
        "print(\"\\n Type of d:\",type(d))"
      ],
      "metadata": {
        "colab": {
          "base_uri": "https://localhost:8080/"
        },
        "id": "FhlRf0tzmGpc",
        "outputId": "9521eb34-d8d1-4208-9ada-ef3d9fb73433"
      },
      "execution_count": 20,
      "outputs": [
        {
          "output_type": "stream",
          "name": "stdout",
          "text": [
            "Type of a: <class 'int'>\n",
            "Type of b: <class 'float'>\n",
            "Type of c: <class 'str'>\n",
            "\n",
            " Type of d: <class 'complex'>\n"
          ]
        }
      ]
    },
    {
      "cell_type": "code",
      "source": [
        "#Python Program for Arithmetic Operator:\n",
        "\n",
        "num1 = input('Enter first number:')\n",
        "num2 = input('Enter second number:')\n",
        "\n",
        "sum=float(num1)+float(num2)\n",
        "\n",
        "sum=float(num1)-float(num2)\n",
        "\n",
        "sum=float(num1)*float(num2)\n",
        "\n",
        "sum=float(num1)/float(num2)\n",
        "\n",
        "print('The sum of {0} and {1} is {2}'.format(num1, num2, sum)) \n",
        "\n",
        "print('The subtraction {0} and {1} is {2}'.format(num1,num2,sum))\n",
        "print('The multiplication {0}and{1}is{2}'.format(num1,num2,sum))\n",
        "print('The division {0}and{1}is{2}'.format(num1,num2,sum))"
      ],
      "metadata": {
        "colab": {
          "base_uri": "https://localhost:8080/"
        },
        "id": "O7KFQy77ptJZ",
        "outputId": "40d752cc-2635-4b1f-f25e-0de4b47472c7"
      },
      "execution_count": 23,
      "outputs": [
        {
          "output_type": "stream",
          "name": "stdout",
          "text": [
            "Enter first number:10\n",
            "Enter second number:20\n",
            "The sum of 10 and 20 is 0.5\n",
            "The subtraction 10 and 20 is 0.5\n",
            "The multiplication 10and20is0.5\n",
            "The division 10and20is0.5\n"
          ]
        }
      ]
    }
  ]
}