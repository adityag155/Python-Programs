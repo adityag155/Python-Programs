{
  "nbformat": 4,
  "nbformat_minor": 0,
  "metadata": {
    "colab": {
      "provenance": [],
      "authorship_tag": "ABX9TyMrCm12VS6GrPwIhPtda8D6",
      "include_colab_link": true
    },
    "kernelspec": {
      "name": "python3",
      "display_name": "Python 3"
    },
    "language_info": {
      "name": "python"
    }
  },
  "cells": [
    {
      "cell_type": "markdown",
      "metadata": {
        "id": "view-in-github",
        "colab_type": "text"
      },
      "source": [
        "<a href=\"https://colab.research.google.com/github/adityag155/Python-Programs/blob/main/Untitled46.ipynb\" target=\"_parent\"><img src=\"https://colab.research.google.com/assets/colab-badge.svg\" alt=\"Open In Colab\"/></a>"
      ]
    },
    {
      "cell_type": "code",
      "execution_count": null,
      "metadata": {
        "colab": {
          "base_uri": "https://localhost:8080/"
        },
        "id": "csXKqzhJ0eM1",
        "outputId": "28a12820-da84-468d-d644-e610e2cf164b"
      },
      "outputs": [
        {
          "output_type": "stream",
          "name": "stdout",
          "text": [
            "Yes\n"
          ]
        }
      ],
      "source": [
        "#Pthon progran to check if a string is palindrome or not:\n",
        "\n",
        "def isPalindrome(str):\n",
        "    \n",
        "    #Run loop from 0 to len/2\n",
        "    for i in range(0, int(len(str)/2)):\n",
        "        if str[i] != str[len(str)-i-1]:\n",
        "            return False\n",
        "    return True\n",
        "\n",
        "#main function:\n",
        "s = \"malayalam\"\n",
        "ans = isPalindrome(s)\n",
        "\n",
        "if(ans):\n",
        "    print(\"Yes\")\n",
        "else:\n",
        "    print(\"No\")"
      ]
    },
    {
      "cell_type": "code",
      "source": [
        "#Python program to check whether the string is symmetrical or palinfrome:\n",
        "\n",
        "def palindrome(a):\n",
        "  \n",
        "    # finding the mid, start\n",
        "    # and last index of the string\n",
        "    mid = (len(a)-1)//2     #you can remove the -1 or you add <= sign in line 21 \n",
        "    start = 0                #so that you can compare the middle elements also.\n",
        "    last = len(a)-1\n",
        "    flag = 0\n",
        " \n",
        "    # A loop till the mid of the\n",
        "    # string\n",
        "    while(start <= mid):\n",
        "  \n",
        "        # comparing letters from right\n",
        "        # from the letters from left\n",
        "        if (a[start]== a[last]):\n",
        "             \n",
        "            start += 1\n",
        "            last -= 1\n",
        "             \n",
        "        else:\n",
        "            flag = 1\n",
        "            break;\n",
        "             \n",
        "    # Checking the flag variable to\n",
        "    # check if the string is palindrome\n",
        "    # or not\n",
        "    if flag == 0:\n",
        "        print(\"The entered string is palindrome\")\n",
        "    else:\n",
        "        print(\"The entered string is not palindrome\")\n",
        "         \n",
        "# Function to check whether the\n",
        "# string is symmetrical or not       \n",
        "def symmetry(a):\n",
        "     \n",
        "    n = len(a)\n",
        "    flag = 0\n",
        "     \n",
        "    # Check if the string's length\n",
        "    # is odd or even\n",
        "    if n%2:\n",
        "        mid = n//2 +1\n",
        "    else:\n",
        "        mid = n//2\n",
        "         \n",
        "    start1 = 0\n",
        "    start2 = mid\n",
        "     \n",
        "    while(start1 < mid and start2 < n):\n",
        "         \n",
        "        if (a[start1]== a[start2]):\n",
        "            start1 = start1 + 1\n",
        "            start2 = start2 + 1\n",
        "        else:\n",
        "            flag = 1\n",
        "            break\n",
        "      \n",
        "    # Checking the flag variable to\n",
        "    # check if the string is symmetrical\n",
        "    # or not\n",
        "    if flag == 0:\n",
        "        print(\"The entered string is symmetrical\")\n",
        "    else:\n",
        "        print(\"The entered string is not symmetrical\")\n",
        "         \n",
        "# Driver code\n",
        "string = 'amaama'\n",
        "palindrome(string)\n",
        "symmetry(string)"
      ],
      "metadata": {
        "colab": {
          "base_uri": "https://localhost:8080/"
        },
        "id": "FlPPooPl1qJj",
        "outputId": "5693c28e-bb19-4f34-ff50-7ba544009462"
      },
      "execution_count": 2,
      "outputs": [
        {
          "output_type": "stream",
          "name": "stdout",
          "text": [
            "The entered string is palindrome\n",
            "The entered string is symmetrical\n"
          ]
        }
      ]
    },
    {
      "cell_type": "code",
      "source": [
        "#Reverse words in a given string in python:\n",
        "\n",
        "def rev_sentence(sentence):\n",
        "    \n",
        "    #First split the string into words:\n",
        "    words = sentence.split(' ')\n",
        "    \n",
        "    #then reverse the split string list and join using space:\n",
        "    reverse_sentence = ' '.join(reversed(words))\n",
        "    \n",
        "    #finally return the joined string \n",
        "    return reverse_sentence\n",
        "\n",
        "if __name__ == \"__main__\":\n",
        "    input = 'geeks quiz pratice code'\n",
        "    print(rev_sentence(input))"
      ],
      "metadata": {
        "colab": {
          "base_uri": "https://localhost:8080/"
        },
        "id": "qAS96Lij2N8k",
        "outputId": "849df962-efc8-4c39-a16d-6ecfab467968"
      },
      "execution_count": 3,
      "outputs": [
        {
          "output_type": "stream",
          "name": "stdout",
          "text": [
            "code pratice quiz geeks\n"
          ]
        }
      ]
    },
    {
      "cell_type": "code",
      "source": [
        "#way to remove i'th character from string in python:\n",
        "\n",
        "#Initializing string\n",
        "test_str = \"GeeksForGeeks\"\n",
        "\n",
        "#printing original string:\n",
        "print(\"The original string is:\"+ test_str)\n",
        "\n",
        "#Removing char at pos3 using loop:\n",
        "new_str = \" \"\n",
        "for i in range(len(test_str)):\n",
        "    if i != 2:\n",
        "        new_str = new_str + test_str[i]\n",
        "        \n",
        "#printing string after removal:\n",
        "print(\"The string after removal of i'th character: \" + new_str)\n"
      ],
      "metadata": {
        "colab": {
          "base_uri": "https://localhost:8080/"
        },
        "id": "KwyJMmKo2ef-",
        "outputId": "b21061ad-6a7a-4b31-f6ad-c646b3315b22"
      },
      "execution_count": 4,
      "outputs": [
        {
          "output_type": "stream",
          "name": "stdout",
          "text": [
            "The original string is:GeeksForGeeks\n",
            "The string after removal of i'th character:  GeksForGeeks\n"
          ]
        }
      ]
    },
    {
      "cell_type": "code",
      "source": [
        "# Check if a substring is present in the given string:\n",
        "\n",
        "import re \n",
        "\n",
        "#Take input from user:\n",
        "MyString1 = \"A geek in a need is a geek inded\"\n",
        "MyString2 = \"geek\"\n",
        "\n",
        "#re.search() returns a match object if there is a match anywhere in the string:\n",
        "if re.search(MyString2, MyString1):\n",
        "    print(\"YES, string'{0}' is not present in string'{1}'\".format(MyString2, MyString1))\n",
        "else:\n",
        "    print(\"NO,string '{0}' is present in string '{1}'\".format(MyString2, MyString1))"
      ],
      "metadata": {
        "colab": {
          "base_uri": "https://localhost:8080/"
        },
        "id": "ZyqPPrCC3KpI",
        "outputId": "873b76d5-3a6f-4985-bf75-a1128b95f212"
      },
      "execution_count": 5,
      "outputs": [
        {
          "output_type": "stream",
          "name": "stdout",
          "text": [
            "YES, string'geek' is not present in string'A geek in a need is a geek inded'\n"
          ]
        }
      ]
    },
    {
      "cell_type": "code",
      "source": [
        "# Words frequency in string Shorthands:\n",
        "\n",
        "# initializing string\n",
        "test_str = 'Gfg is best . Geeks are good and Geeks like Gfg'\n",
        "  \n",
        "# printing original string\n",
        "print(\"The original string is : \" + str(test_str))\n",
        "  \n",
        "# Words Frequency in String Shorthands\n",
        "# Using dictionary comprehension + count() + split()\n",
        "res = {key: test_str.count(key) for key in test_str.split()}\n",
        "  \n",
        "# printing result \n",
        "print(\"The words frequency : \" + str(res))"
      ],
      "metadata": {
        "colab": {
          "base_uri": "https://localhost:8080/"
        },
        "id": "mJt47ky43ac5",
        "outputId": "4c57ea94-e3f6-46e6-e60d-42f70a200905"
      },
      "execution_count": 6,
      "outputs": [
        {
          "output_type": "stream",
          "name": "stdout",
          "text": [
            "The original string is : Gfg is best . Geeks are good and Geeks like Gfg\n",
            "The words frequency : {'Gfg': 2, 'is': 1, 'best': 1, '.': 1, 'Geeks': 2, 'are': 1, 'good': 1, 'and': 1, 'like': 1}\n"
          ]
        }
      ]
    }
  ]
}