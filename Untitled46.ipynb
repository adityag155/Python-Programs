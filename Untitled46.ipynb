{
  "nbformat": 4,
  "nbformat_minor": 0,
  "metadata": {
    "colab": {
      "provenance": [],
      "authorship_tag": "ABX9TyPB4W8fxl/yXm/fpWvzYFI6",
      "include_colab_link": true
    },
    "kernelspec": {
      "name": "python3",
      "display_name": "Python 3"
    },
    "language_info": {
      "name": "python"
    }
  },
  "cells": [
    {
      "cell_type": "markdown",
      "metadata": {
        "id": "view-in-github",
        "colab_type": "text"
      },
      "source": [
        "<a href=\"https://colab.research.google.com/github/adityag155/Python-Programs/blob/main/Untitled46.ipynb\" target=\"_parent\"><img src=\"https://colab.research.google.com/assets/colab-badge.svg\" alt=\"Open In Colab\"/></a>"
      ]
    },
    {
      "cell_type": "code",
      "execution_count": null,
      "metadata": {
        "colab": {
          "base_uri": "https://localhost:8080/"
        },
        "id": "csXKqzhJ0eM1",
        "outputId": "28a12820-da84-468d-d644-e610e2cf164b"
      },
      "outputs": [
        {
          "output_type": "stream",
          "name": "stdout",
          "text": [
            "Yes\n"
          ]
        }
      ],
      "source": [
        "#Pthon progran to check if a string is palindrome or not:\n",
        "\n",
        "def isPalindrome(str):\n",
        "    \n",
        "    #Run loop from 0 to len/2\n",
        "    for i in range(0, int(len(str)/2)):\n",
        "        if str[i] != str[len(str)-i-1]:\n",
        "            return False\n",
        "    return True\n",
        "\n",
        "#main function:\n",
        "s = \"malayalam\"\n",
        "ans = isPalindrome(s)\n",
        "\n",
        "if(ans):\n",
        "    print(\"Yes\")\n",
        "else:\n",
        "    print(\"No\")"
      ]
    },
    {
      "cell_type": "code",
      "source": [
        "#Python program to check whether the string is symmetrical or palinfrome:\n",
        "\n",
        "def palindrome(a):\n",
        "  \n",
        "    # finding the mid, start\n",
        "    # and last index of the string\n",
        "    mid = (len(a)-1)//2     #you can remove the -1 or you add <= sign in line 21 \n",
        "    start = 0                #so that you can compare the middle elements also.\n",
        "    last = len(a)-1\n",
        "    flag = 0\n",
        " \n",
        "    # A loop till the mid of the\n",
        "    # string\n",
        "    while(start <= mid):\n",
        "  \n",
        "        # comparing letters from right\n",
        "        # from the letters from left\n",
        "        if (a[start]== a[last]):\n",
        "             \n",
        "            start += 1\n",
        "            last -= 1\n",
        "             \n",
        "        else:\n",
        "            flag = 1\n",
        "            break;\n",
        "             \n",
        "    # Checking the flag variable to\n",
        "    # check if the string is palindrome\n",
        "    # or not\n",
        "    if flag == 0:\n",
        "        print(\"The entered string is palindrome\")\n",
        "    else:\n",
        "        print(\"The entered string is not palindrome\")\n",
        "         \n",
        "# Function to check whether the\n",
        "# string is symmetrical or not       \n",
        "def symmetry(a):\n",
        "     \n",
        "    n = len(a)\n",
        "    flag = 0\n",
        "     \n",
        "    # Check if the string's length\n",
        "    # is odd or even\n",
        "    if n%2:\n",
        "        mid = n//2 +1\n",
        "    else:\n",
        "        mid = n//2\n",
        "         \n",
        "    start1 = 0\n",
        "    start2 = mid\n",
        "     \n",
        "    while(start1 < mid and start2 < n):\n",
        "         \n",
        "        if (a[start1]== a[start2]):\n",
        "            start1 = start1 + 1\n",
        "            start2 = start2 + 1\n",
        "        else:\n",
        "            flag = 1\n",
        "            break\n",
        "      \n",
        "    # Checking the flag variable to\n",
        "    # check if the string is symmetrical\n",
        "    # or not\n",
        "    if flag == 0:\n",
        "        print(\"The entered string is symmetrical\")\n",
        "    else:\n",
        "        print(\"The entered string is not symmetrical\")\n",
        "         \n",
        "# Driver code\n",
        "string = 'amaama'\n",
        "palindrome(string)\n",
        "symmetry(string)"
      ],
      "metadata": {
        "colab": {
          "base_uri": "https://localhost:8080/"
        },
        "id": "FlPPooPl1qJj",
        "outputId": "5693c28e-bb19-4f34-ff50-7ba544009462"
      },
      "execution_count": 2,
      "outputs": [
        {
          "output_type": "stream",
          "name": "stdout",
          "text": [
            "The entered string is palindrome\n",
            "The entered string is symmetrical\n"
          ]
        }
      ]
    }
  ]
}