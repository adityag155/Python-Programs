{
  "nbformat": 4,
  "nbformat_minor": 0,
  "metadata": {
    "colab": {
      "provenance": [],
      "authorship_tag": "ABX9TyOKveJMNsI4ej7TdD4aS5Hx",
      "include_colab_link": true
    },
    "kernelspec": {
      "name": "python3",
      "display_name": "Python 3"
    },
    "language_info": {
      "name": "python"
    }
  },
  "cells": [
    {
      "cell_type": "markdown",
      "metadata": {
        "id": "view-in-github",
        "colab_type": "text"
      },
      "source": [
        "<a href=\"https://colab.research.google.com/github/adityag155/Python-Programs/blob/main/Untitled75.ipynb\" target=\"_parent\"><img src=\"https://colab.research.google.com/assets/colab-badge.svg\" alt=\"Open In Colab\"/></a>"
      ]
    },
    {
      "cell_type": "code",
      "execution_count": 1,
      "metadata": {
        "colab": {
          "base_uri": "https://localhost:8080/"
        },
        "id": "JFBD47NqlUyP",
        "outputId": "38404687-d9a2-4a0b-d6de-de3bdf6f5d13"
      },
      "outputs": [
        {
          "output_type": "stream",
          "name": "stdout",
          "text": [
            "The original list is : [5, 6, [], 3, [], [], 9]\n",
            "List after empty list removal : [5, 6, 3, 9]\n"
          ]
        }
      ],
      "source": [
        "#Python- Remove empty list from list:\n",
        "\n",
        "test_list = [5, 6, [], 3, [], [], 9]\n",
        "  \n",
        "# printing original list \n",
        "print(\"The original list is : \" + str(test_list))\n",
        "  \n",
        "# Remove empty List from List\n",
        "# using list comprehension\n",
        "res = [ele for ele in test_list if ele != []]\n",
        "print (\"List after empty list removal : \" + str(res))\n"
      ]
    },
    {
      "cell_type": "code",
      "source": [
        "#Python Cloning or Copying list:\n",
        "\n",
        "def Cloning(list1):\n",
        "    list1_copy = list(list1)\n",
        "    return list1_copy\n",
        "list1 = [2, 4, 6, 8, 10, 12]\n",
        "list2 = Cloning(list1)\n",
        "print(\"Original List:\", list1)\n",
        "print(\"After Cloning:\", list2)\n"
      ],
      "metadata": {
        "colab": {
          "base_uri": "https://localhost:8080/"
        },
        "id": "Jgjst76tn0kn",
        "outputId": "f6349075-92d2-4389-fe00-c8e96fb00f7e"
      },
      "execution_count": 2,
      "outputs": [
        {
          "output_type": "stream",
          "name": "stdout",
          "text": [
            "Original List: [2, 4, 6, 8, 10, 12]\n",
            "After Cloning: [2, 4, 6, 8, 10, 12]\n"
          ]
        }
      ]
    },
    {
      "cell_type": "code",
      "source": [
        "#Python Count occurrences of an element in a list:\n",
        "\n",
        "def countX(lst, x):\n",
        "    return lst.count(x)\n",
        " \n",
        "# Driver Code\n",
        "lst = [8, 6, 8, 10, 8, 20, 10, 8, 8]\n",
        "x = 8\n",
        "print('{} has occurred {} times'.format(x, countX(lst, x)))\n"
      ],
      "metadata": {
        "colab": {
          "base_uri": "https://localhost:8080/"
        },
        "id": "VwfNmzU2n9eC",
        "outputId": "26e030f4-5b13-4c9c-e01e-ffd15089e06c"
      },
      "execution_count": 3,
      "outputs": [
        {
          "output_type": "stream",
          "name": "stdout",
          "text": [
            "8 has occurred 5 times\n"
          ]
        }
      ]
    }
  ]
}