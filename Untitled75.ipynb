{
  "nbformat": 4,
  "nbformat_minor": 0,
  "metadata": {
    "colab": {
      "provenance": [],
      "authorship_tag": "ABX9TyNlNEP53jOTrR2UaxYOJeqC",
      "include_colab_link": true
    },
    "kernelspec": {
      "name": "python3",
      "display_name": "Python 3"
    },
    "language_info": {
      "name": "python"
    }
  },
  "cells": [
    {
      "cell_type": "markdown",
      "metadata": {
        "id": "view-in-github",
        "colab_type": "text"
      },
      "source": [
        "<a href=\"https://colab.research.google.com/github/adityag155/Python-Programs/blob/main/Untitled75.ipynb\" target=\"_parent\"><img src=\"https://colab.research.google.com/assets/colab-badge.svg\" alt=\"Open In Colab\"/></a>"
      ]
    },
    {
      "cell_type": "code",
      "execution_count": 1,
      "metadata": {
        "colab": {
          "base_uri": "https://localhost:8080/"
        },
        "id": "JFBD47NqlUyP",
        "outputId": "38404687-d9a2-4a0b-d6de-de3bdf6f5d13"
      },
      "outputs": [
        {
          "output_type": "stream",
          "name": "stdout",
          "text": [
            "The original list is : [5, 6, [], 3, [], [], 9]\n",
            "List after empty list removal : [5, 6, 3, 9]\n"
          ]
        }
      ],
      "source": [
        "#Python- Remove empty list from list:\n",
        "\n",
        "test_list = [5, 6, [], 3, [], [], 9]\n",
        "  \n",
        "# printing original list \n",
        "print(\"The original list is : \" + str(test_list))\n",
        "  \n",
        "# Remove empty List from List\n",
        "# using list comprehension\n",
        "res = [ele for ele in test_list if ele != []]\n",
        "print (\"List after empty list removal : \" + str(res))\n"
      ]
    },
    {
      "cell_type": "code",
      "source": [
        "#Python Cloning or Copying list:\n",
        "\n",
        "def Cloning(list1):\n",
        "    list1_copy = list(list1)\n",
        "    return list1_copy\n",
        "list1 = [2, 4, 6, 8, 10, 12]\n",
        "list2 = Cloning(list1)\n",
        "print(\"Original List:\", list1)\n",
        "print(\"After Cloning:\", list2)\n"
      ],
      "metadata": {
        "colab": {
          "base_uri": "https://localhost:8080/"
        },
        "id": "Jgjst76tn0kn",
        "outputId": "f6349075-92d2-4389-fe00-c8e96fb00f7e"
      },
      "execution_count": 2,
      "outputs": [
        {
          "output_type": "stream",
          "name": "stdout",
          "text": [
            "Original List: [2, 4, 6, 8, 10, 12]\n",
            "After Cloning: [2, 4, 6, 8, 10, 12]\n"
          ]
        }
      ]
    },
    {
      "cell_type": "code",
      "source": [
        "#Python Count occurrences of an element in a list:\n",
        "\n",
        "def countX(lst, x):\n",
        "    return lst.count(x)\n",
        " \n",
        "# Driver Code\n",
        "lst = [8, 6, 8, 10, 8, 20, 10, 8, 8]\n",
        "x = 8\n",
        "print('{} has occurred {} times'.format(x, countX(lst, x)))\n"
      ],
      "metadata": {
        "colab": {
          "base_uri": "https://localhost:8080/"
        },
        "id": "VwfNmzU2n9eC",
        "outputId": "26e030f4-5b13-4c9c-e01e-ffd15089e06c"
      },
      "execution_count": 3,
      "outputs": [
        {
          "output_type": "stream",
          "name": "stdout",
          "text": [
            "8 has occurred 5 times\n"
          ]
        }
      ]
    },
    {
      "cell_type": "code",
      "source": [
        "#Python Remove empty tuples from a list:\n",
        "#list of tuple function to remove empty tuples:\n",
        "#using list comprehension:\n",
        "\n",
        "def Remove (tuples):\n",
        "    tuples = [t for t in tuples if t]\n",
        "    return tuples\n",
        "tuples = [(), ('ram','15','8'),(),('laxman','sita'),('krishna','akbar','45'),('',''),()]\n",
        "print(Remove(tuples))\n"
      ],
      "metadata": {
        "colab": {
          "base_uri": "https://localhost:8080/"
        },
        "id": "5wVoGV-SoKnF",
        "outputId": "270a21b6-f4ae-4039-e86b-b4406803cd12"
      },
      "execution_count": 4,
      "outputs": [
        {
          "output_type": "stream",
          "name": "stdout",
          "text": [
            "[('ram', '15', '8'), ('laxman', 'sita'), ('krishna', 'akbar', '45'), ('', '')]\n"
          ]
        }
      ]
    },
    {
      "cell_type": "code",
      "source": [
        "#Python program to print duplicate from a list of integers:\n",
        "\n",
        "from collections import Counter\n",
        "l1 = [1,2,1,4,2,3,1,1,6,5,8,8,8,7,4,1,2,4,8,9,1]\n",
        "d = Counter(l1)\n",
        "print(d)\n",
        "new_list = list([item for item in d if d[item]>1])\n",
        "print(new_list)\n"
      ],
      "metadata": {
        "colab": {
          "base_uri": "https://localhost:8080/"
        },
        "id": "vRxeOXyNoTy-",
        "outputId": "aa373776-44b7-456c-e0e2-e60915e8071f"
      },
      "execution_count": 5,
      "outputs": [
        {
          "output_type": "stream",
          "name": "stdout",
          "text": [
            "Counter({1: 6, 8: 4, 2: 3, 4: 3, 3: 1, 6: 1, 5: 1, 7: 1, 9: 1})\n",
            "[1, 2, 4, 8]\n"
          ]
        }
      ]
    }
  ]
}