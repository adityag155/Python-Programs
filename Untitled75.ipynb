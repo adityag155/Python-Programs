{
  "nbformat": 4,
  "nbformat_minor": 0,
  "metadata": {
    "colab": {
      "provenance": [],
      "authorship_tag": "ABX9TyP/ICkdBxPN0d1LDOREeB34",
      "include_colab_link": true
    },
    "kernelspec": {
      "name": "python3",
      "display_name": "Python 3"
    },
    "language_info": {
      "name": "python"
    }
  },
  "cells": [
    {
      "cell_type": "markdown",
      "metadata": {
        "id": "view-in-github",
        "colab_type": "text"
      },
      "source": [
        "<a href=\"https://colab.research.google.com/github/adityag155/Python-Programs/blob/main/Untitled75.ipynb\" target=\"_parent\"><img src=\"https://colab.research.google.com/assets/colab-badge.svg\" alt=\"Open In Colab\"/></a>"
      ]
    },
    {
      "cell_type": "code",
      "execution_count": 1,
      "metadata": {
        "colab": {
          "base_uri": "https://localhost:8080/"
        },
        "id": "JFBD47NqlUyP",
        "outputId": "38404687-d9a2-4a0b-d6de-de3bdf6f5d13"
      },
      "outputs": [
        {
          "output_type": "stream",
          "name": "stdout",
          "text": [
            "The original list is : [5, 6, [], 3, [], [], 9]\n",
            "List after empty list removal : [5, 6, 3, 9]\n"
          ]
        }
      ],
      "source": [
        "#Python- Remove empty list from list:\n",
        "\n",
        "test_list = [5, 6, [], 3, [], [], 9]\n",
        "  \n",
        "# printing original list \n",
        "print(\"The original list is : \" + str(test_list))\n",
        "  \n",
        "# Remove empty List from List\n",
        "# using list comprehension\n",
        "res = [ele for ele in test_list if ele != []]\n",
        "print (\"List after empty list removal : \" + str(res))\n"
      ]
    }
  ]
}