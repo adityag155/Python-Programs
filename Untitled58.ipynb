{
  "nbformat": 4,
  "nbformat_minor": 0,
  "metadata": {
    "colab": {
      "provenance": [],
      "authorship_tag": "ABX9TyPm+Y2XdqsdK1V+7q9+7u64",
      "include_colab_link": true
    },
    "kernelspec": {
      "name": "python3",
      "display_name": "Python 3"
    },
    "language_info": {
      "name": "python"
    }
  },
  "cells": [
    {
      "cell_type": "markdown",
      "metadata": {
        "id": "view-in-github",
        "colab_type": "text"
      },
      "source": [
        "<a href=\"https://colab.research.google.com/github/adityag155/Python-Programs/blob/main/Untitled58.ipynb\" target=\"_parent\"><img src=\"https://colab.research.google.com/assets/colab-badge.svg\" alt=\"Open In Colab\"/></a>"
      ]
    },
    {
      "cell_type": "code",
      "source": [
        "#Python program for compound intrest:\n",
        "\n",
        "\n",
        "\n",
        "def compound_interest(principle, rate, time):\n",
        "\n",
        "    Amount = principle * (pow((1 + rate / 100), time))\n",
        "\n",
        "    CI = Amount - principle\n",
        "\n",
        "    print(\"Compound interest is\", CI)\n",
        "\n",
        "compound_interest(10000, 10.25, 5)"
      ],
      "metadata": {
        "colab": {
          "base_uri": "https://localhost:8080/"
        },
        "id": "sORj2Qd862Bp",
        "outputId": "cd030cc6-0e60-4207-89c8-308291478372"
      },
      "execution_count": 3,
      "outputs": [
        {
          "output_type": "stream",
          "name": "stdout",
          "text": [
            "Compound interest is 6288.946267774416\n"
          ]
        }
      ]
    },
    {
      "cell_type": "code",
      "source": [
        "#Python program to check Amstrong number:\n",
        "\n",
        "\n",
        "num=int(input(\"Enter a number:\"))\n",
        "\n",
        "sum=0\n",
        "temp=num\n",
        "\n",
        "while temp>0:\n",
        "\n",
        "    digit=temp%10\n",
        "\n",
        "    sum+=digit**3\n",
        "\n",
        "    temp//=10\n",
        "\n",
        "\n",
        "if num==sum:\n",
        "\n",
        "    print(num,\"is an Amstrong number\")\n",
        "\n",
        "else:\n",
        "\n",
        "    print(num,\"is not an Amstrong number\")"
      ],
      "metadata": {
        "colab": {
          "base_uri": "https://localhost:8080/"
        },
        "id": "gaKPkyIO8oES",
        "outputId": "71225c01-b971-40f1-9e8f-7dec93a7d745"
      },
      "execution_count": 4,
      "outputs": [
        {
          "output_type": "stream",
          "name": "stdout",
          "text": [
            "Enter a number:5\n",
            "5 is not an Amstrong number\n"
          ]
        }
      ]
    }
  ]
}