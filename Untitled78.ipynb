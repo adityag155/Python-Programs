{
  "nbformat": 4,
  "nbformat_minor": 0,
  "metadata": {
    "colab": {
      "provenance": [],
      "authorship_tag": "ABX9TyMb1XMWRAg1lKBxsXQ4D/OX",
      "include_colab_link": true
    },
    "kernelspec": {
      "name": "python3",
      "display_name": "Python 3"
    },
    "language_info": {
      "name": "python"
    }
  },
  "cells": [
    {
      "cell_type": "markdown",
      "metadata": {
        "id": "view-in-github",
        "colab_type": "text"
      },
      "source": [
        "<a href=\"https://colab.research.google.com/github/adityag155/Python-Programs/blob/main/Untitled78.ipynb\" target=\"_parent\"><img src=\"https://colab.research.google.com/assets/colab-badge.svg\" alt=\"Open In Colab\"/></a>"
      ]
    },
    {
      "cell_type": "code",
      "execution_count": 1,
      "metadata": {
        "colab": {
          "base_uri": "https://localhost:8080/"
        },
        "id": "RgoWeQzN0NKK",
        "outputId": "12839258-5444-45bb-ff91-8ce5d2c835d4"
      },
      "outputs": [
        {
          "output_type": "stream",
          "name": "stdout",
          "text": [
            "code pratice quiz adi\n"
          ]
        }
      ],
      "source": [
        "#Reverse words in a given string in python:\n",
        "\n",
        "def rev_sentence(sentence):\n",
        "    \n",
        "    #First split the string into words:\n",
        "    words = sentence.split(' ')\n",
        "    \n",
        "    #then reverse the split string list and join using space:\n",
        "    reverse_sentence = ' '.join(reversed(words))\n",
        "    \n",
        "    #finally return the joined string \n",
        "    return reverse_sentence\n",
        "\n",
        "if __name__ == \"__main__\":\n",
        "    input = 'adi quiz pratice code'\n",
        "    print(rev_sentence(input))\n"
      ]
    },
    {
      "cell_type": "code",
      "source": [
        "#way to remove i'th character from string in python:\n",
        "\n",
        "#Initializing string\n",
        "test_str = \"AdityaMadhukarGend\"\n",
        "\n",
        "#printing original string:\n",
        "print(\"The original string is:\"+ test_str)\n",
        "\n",
        "#Removing char at pos3 using loop:\n",
        "new_str = \" \"\n",
        "for i in range(len(test_str)):\n",
        "    if i != 2:\n",
        "        new_str = new_str + test_str[i]\n",
        "        \n",
        "#printing string after removal:\n",
        "print(\"The string after removal of i'th character: \" + new_str)\n"
      ],
      "metadata": {
        "colab": {
          "base_uri": "https://localhost:8080/"
        },
        "id": "Fxy4Ui3y0nMQ",
        "outputId": "13d46f9d-dbd8-4e71-b6db-01bac2478c4a"
      },
      "execution_count": 2,
      "outputs": [
        {
          "output_type": "stream",
          "name": "stdout",
          "text": [
            "The original string is:AdityaMadhukarGend\n",
            "The string after removal of i'th character:  AdtyaMadhukarGend\n"
          ]
        }
      ]
    },
    {
      "cell_type": "code",
      "source": [
        "__________________________________________________________________________________\n",
        "# Convert snake case to pascal case:\n",
        "\n",
        "#Initializing string:\n",
        "test_str = 'geeksforgeeks_is_best''\n",
        "\n",
        "#printing original string:\n",
        "print(\"The original string is:\" +test_str)\n",
        "\n",
        "#Convert snake case to pascal case using title() + replace()\n",
        "res = test_str.replace(\"_\",\"\").title().replace(\" \",\"\")\n",
        "\n",
        "#printing result:\n",
        "print(\"The String after changing case :\"+str(res))\n"
      ],
      "metadata": {
        "colab": {
          "base_uri": "https://localhost:8080/",
          "height": 130
        },
        "id": "KQZjRk3z1HD4",
        "outputId": "f87e3868-b2cf-49d2-b151-9d7ecf5bec82"
      },
      "execution_count": 5,
      "outputs": [
        {
          "output_type": "error",
          "ename": "SyntaxError",
          "evalue": "ignored",
          "traceback": [
            "\u001b[0;36m  File \u001b[0;32m\"<ipython-input-5-2d3682c957e3>\"\u001b[0;36m, line \u001b[0;32m5\u001b[0m\n\u001b[0;31m    test_str = 'geeksforgeeks_is_best''\u001b[0m\n\u001b[0m                                       ^\u001b[0m\n\u001b[0;31mSyntaxError\u001b[0m\u001b[0;31m:\u001b[0m EOL while scanning string literal\n"
          ]
        }
      ]
    },
    {
      "cell_type": "code",
      "source": [
        "# Convert snake case to pascal case:\n",
        "\n",
        "#Initializing string:\n",
        "test_str = 'Aditya_is_best'\n",
        "\n",
        "#printing original string:\n",
        "print(\"The original string is:\" +test_str)\n",
        "\n",
        "#Convert snake case to pascal case using title() + replace()\n",
        "res = test_str.replace(\"_\",\"\").title().replace(\" \",\"\")\n",
        "\n",
        "#printing result:\n",
        "print(\"The String after changing case :\"+str(res))\n"
      ],
      "metadata": {
        "colab": {
          "base_uri": "https://localhost:8080/"
        },
        "id": "dc5OsDLc1iST",
        "outputId": "b91ade5b-4ac2-4530-cdea-fa8bafe9ac34"
      },
      "execution_count": 7,
      "outputs": [
        {
          "output_type": "stream",
          "name": "stdout",
          "text": [
            "The original string is:Aditya_is_best\n",
            "The String after changing case :Adityaisbest\n"
          ]
        }
      ]
    },
    {
      "cell_type": "code",
      "source": [
        "# find length of string in python(4ways):\n",
        "#1st way:\n",
        "str=\"ADITYA\"\n",
        "print(len(str))\n"
      ],
      "metadata": {
        "colab": {
          "base_uri": "https://localhost:8080/"
        },
        "id": "XCL-NkFi11SI",
        "outputId": "3e9c187d-0f8b-45ec-a25c-8fbc6aaaf1a9"
      },
      "execution_count": 8,
      "outputs": [
        {
          "output_type": "stream",
          "name": "stdout",
          "text": [
            "6\n"
          ]
        }
      ]
    }
  ]
}