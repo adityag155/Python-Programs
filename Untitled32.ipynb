{
  "nbformat": 4,
  "nbformat_minor": 0,
  "metadata": {
    "colab": {
      "provenance": [],
      "authorship_tag": "ABX9TyMLK+H1EQJjnNphCltf4ME4",
      "include_colab_link": true
    },
    "kernelspec": {
      "name": "python3",
      "display_name": "Python 3"
    },
    "language_info": {
      "name": "python"
    }
  },
  "cells": [
    {
      "cell_type": "markdown",
      "metadata": {
        "id": "view-in-github",
        "colab_type": "text"
      },
      "source": [
        "<a href=\"https://colab.research.google.com/github/adityag155/Python-Programs/blob/main/Untitled32.ipynb\" target=\"_parent\"><img src=\"https://colab.research.google.com/assets/colab-badge.svg\" alt=\"Open In Colab\"/></a>"
      ]
    },
    {
      "cell_type": "code",
      "execution_count": 1,
      "metadata": {
        "colab": {
          "base_uri": "https://localhost:8080/"
        },
        "id": "uXjkU9thFY_L",
        "outputId": "0674ccfd-54e4-43ce-e5a9-7de5fe76a2c4"
      },
      "outputs": [
        {
          "output_type": "stream",
          "name": "stdout",
          "text": [
            "Counter({1: 6, 8: 4, 2: 3, 4: 3, 3: 1, 6: 1, 5: 1, 7: 1, 9: 1})\n",
            "[1, 2, 4, 8]\n"
          ]
        }
      ],
      "source": [
        "#Python program to print duplicate from a list of integers:\n",
        "\n",
        "from collections import Counter\n",
        "l1 = [1,2,1,4,2,3,1,1,6,5,8,8,8,7,4,1,2,4,8,9,1]\n",
        "d = Counter(l1)\n",
        "print(d)\n",
        "new_list = list([item for item in d if d[item]>1])\n",
        "print(new_list)"
      ]
    },
    {
      "cell_type": "code",
      "source": [
        "#Python program to find Cumulative sum of a list:\n",
        "\n",
        "def Cumulative(lists):\n",
        "    cu_list = []\n",
        "    length = len(lists)\n",
        "    cu_list = [sum(lists[0:x:1]) for x in range(0, length+1)]\n",
        "    return cu_list[1:]\n",
        "lists = [10, 20, 30, 40, 50]\n",
        "print(Cumulative(lists))\n"
      ],
      "metadata": {
        "colab": {
          "base_uri": "https://localhost:8080/"
        },
        "id": "pkSH9hXXGSiL",
        "outputId": "905cfa76-37ea-4ecf-eb52-801c926cf724"
      },
      "execution_count": 2,
      "outputs": [
        {
          "output_type": "stream",
          "name": "stdout",
          "text": [
            "[10, 30, 60, 100, 150]\n"
          ]
        }
      ]
    }
  ]
}