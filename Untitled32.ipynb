{
  "nbformat": 4,
  "nbformat_minor": 0,
  "metadata": {
    "colab": {
      "provenance": [],
      "authorship_tag": "ABX9TyPakysaH0vcjRJKCuwykOzx",
      "include_colab_link": true
    },
    "kernelspec": {
      "name": "python3",
      "display_name": "Python 3"
    },
    "language_info": {
      "name": "python"
    }
  },
  "cells": [
    {
      "cell_type": "markdown",
      "metadata": {
        "id": "view-in-github",
        "colab_type": "text"
      },
      "source": [
        "<a href=\"https://colab.research.google.com/github/adityag155/Python-Programs/blob/main/Untitled32.ipynb\" target=\"_parent\"><img src=\"https://colab.research.google.com/assets/colab-badge.svg\" alt=\"Open In Colab\"/></a>"
      ]
    },
    {
      "cell_type": "code",
      "execution_count": 1,
      "metadata": {
        "colab": {
          "base_uri": "https://localhost:8080/"
        },
        "id": "uXjkU9thFY_L",
        "outputId": "0674ccfd-54e4-43ce-e5a9-7de5fe76a2c4"
      },
      "outputs": [
        {
          "output_type": "stream",
          "name": "stdout",
          "text": [
            "Counter({1: 6, 8: 4, 2: 3, 4: 3, 3: 1, 6: 1, 5: 1, 7: 1, 9: 1})\n",
            "[1, 2, 4, 8]\n"
          ]
        }
      ],
      "source": [
        "#Python program to print duplicate from a list of integers:\n",
        "\n",
        "from collections import Counter\n",
        "l1 = [1,2,1,4,2,3,1,1,6,5,8,8,8,7,4,1,2,4,8,9,1]\n",
        "d = Counter(l1)\n",
        "print(d)\n",
        "new_list = list([item for item in d if d[item]>1])\n",
        "print(new_list)"
      ]
    },
    {
      "cell_type": "code",
      "source": [
        "#Python program to find Cumulative sum of a list:\n",
        "\n",
        "def Cumulative(lists):\n",
        "    cu_list = []\n",
        "    length = len(lists)\n",
        "    cu_list = [sum(lists[0:x:1]) for x in range(0, length+1)]\n",
        "    return cu_list[1:]\n",
        "lists = [10, 20, 30, 40, 50]\n",
        "print(Cumulative(lists))\n"
      ],
      "metadata": {
        "colab": {
          "base_uri": "https://localhost:8080/"
        },
        "id": "pkSH9hXXGSiL",
        "outputId": "905cfa76-37ea-4ecf-eb52-801c926cf724"
      },
      "execution_count": 2,
      "outputs": [
        {
          "output_type": "stream",
          "name": "stdout",
          "text": [
            "[10, 30, 60, 100, 150]\n"
          ]
        }
      ]
    },
    {
      "cell_type": "code",
      "source": [
        "#Python sum of number digit in list:\n",
        "test_list = [12, 67, 98, 34]\n",
        "print(\"The original list is:\" +str(test_list))\n",
        "res = []\n",
        "for ele in test_list:\n",
        "    sum = 0\n",
        "    for digit in str(ele):\n",
        "        sum += int(digit)\n",
        "    res.append(sum)\n",
        "print(\"List Integer Summetion :\" +str(res))"
      ],
      "metadata": {
        "colab": {
          "base_uri": "https://localhost:8080/"
        },
        "id": "yRUEiFCyGr6h",
        "outputId": "c499858c-fe08-42ad-9496-432354532411"
      },
      "execution_count": 3,
      "outputs": [
        {
          "output_type": "stream",
          "name": "stdout",
          "text": [
            "The original list is:[12, 67, 98, 34]\n",
            "List Integer Summetion :[3, 13, 17, 7]\n"
          ]
        }
      ]
    },
    {
      "cell_type": "code",
      "source": [
        "#Python sum of number digit in list:\n",
        "#Using loop + str()\n",
        "\n",
        "test_list = [12, 67, 98, 34]\n",
        "print(\"The original list is:\"+str(test_list))\n",
        "res = []\n",
        "for ele in test_list:\n",
        "    sum = 0\n",
        "    for digit in str (ele):\n",
        "        sum+= int(digit)\n",
        "    res.append(sum)\n",
        "print(\"Lst Integer Summation:\" +str(res))"
      ],
      "metadata": {
        "colab": {
          "base_uri": "https://localhost:8080/"
        },
        "id": "pspZ3BypG62N",
        "outputId": "6712c6ce-06ad-46e4-9bc3-d4129ed238e9"
      },
      "execution_count": 5,
      "outputs": [
        {
          "output_type": "stream",
          "name": "stdout",
          "text": [
            "The original list is:[12, 67, 98, 34]\n",
            "Lst Integer Summation:[3, 13, 17, 7]\n"
          ]
        }
      ]
    },
    {
      "cell_type": "code",
      "source": [
        "#Break a list into chunks of size N in python:\n",
        "\n",
        "my_list = ['geeks', 'for','geeks','like','geeky','nerdy','geek','love','questions','words','life']\n",
        "\n",
        "def divide_chunks(l , n):\n",
        "    #Looping till length l\n",
        "    for i in range(0, len(l), n):\n",
        "        yield l[i:i + n]\n",
        "#How many element each list should have\n",
        "n = 5\n",
        "x = list(divide_chunks(my_list, n))\n",
        "print(x)\n"
      ],
      "metadata": {
        "id": "bX3PmBc0HTrB",
        "outputId": "2a51668d-db93-4505-a9ef-d9edfe3923b8",
        "colab": {
          "base_uri": "https://localhost:8080/"
        }
      },
      "execution_count": 6,
      "outputs": [
        {
          "output_type": "stream",
          "name": "stdout",
          "text": [
            "[['geeks', 'for', 'geeks', 'like', 'geeky'], ['nerdy', 'geek', 'love', 'questions', 'words'], ['life']]\n"
          ]
        }
      ]
    }
  ]
}