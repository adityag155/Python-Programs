{
  "nbformat": 4,
  "nbformat_minor": 0,
  "metadata": {
    "colab": {
      "provenance": [],
      "authorship_tag": "ABX9TyPvSxY82JGMJ9uU+APRCXbD",
      "include_colab_link": true
    },
    "kernelspec": {
      "name": "python3",
      "display_name": "Python 3"
    },
    "language_info": {
      "name": "python"
    }
  },
  "cells": [
    {
      "cell_type": "markdown",
      "metadata": {
        "id": "view-in-github",
        "colab_type": "text"
      },
      "source": [
        "<a href=\"https://colab.research.google.com/github/adityag155/Python-Programs/blob/main/Untitled17.ipynb\" target=\"_parent\"><img src=\"https://colab.research.google.com/assets/colab-badge.svg\" alt=\"Open In Colab\"/></a>"
      ]
    },
    {
      "cell_type": "code",
      "source": [
        "#Package- Package is the container that contaion the various function to perform task\n",
        "class Nissan:\n",
        "    # First we create a constructor for this class\n",
        "    # and add members to it, here models\n",
        "    def __init__(self):\n",
        "        self.models = ['altima', '370z', 'cube', 'rogue']\n",
        "  \n",
        "    # A normal print function\n",
        "    def outModels(self):\n",
        "        print('These are the available models for Nissan')\n",
        "        for model in self.models:\n",
        "            print('\\t%s ' % model)\n",
        "\n",
        "ModNissan=Nissan()\n",
        "ModNissan.outModels()"
      ],
      "metadata": {
        "colab": {
          "base_uri": "https://localhost:8080/"
        },
        "id": "1W2gbfRMMvW3",
        "outputId": "9e34b9c4-6327-4a8a-d4be-b1a52f7bb627"
      },
      "execution_count": 8,
      "outputs": [
        {
          "output_type": "stream",
          "name": "stdout",
          "text": [
            "These are the available models for Nissan\n",
            "\taltima \n",
            "\t370z \n",
            "\tcube \n",
            "\trogue \n"
          ]
        }
      ]
    }
  ]
}