{
  "nbformat": 4,
  "nbformat_minor": 0,
  "metadata": {
    "colab": {
      "name": "python prog.ipynb",
      "provenance": [],
      "authorship_tag": "ABX9TyP+VJyduGQGLn0mKLQm+Jft",
      "include_colab_link": true
    },
    "kernelspec": {
      "name": "python3",
      "display_name": "Python 3"
    },
    "language_info": {
      "name": "python"
    }
  },
  "cells": [
    {
      "cell_type": "markdown",
      "metadata": {
        "id": "view-in-github",
        "colab_type": "text"
      },
      "source": [
        "<a href=\"https://colab.research.google.com/github/adityag155/Python-Programs/blob/main/python_prog.ipynb\" target=\"_parent\"><img src=\"https://colab.research.google.com/assets/colab-badge.svg\" alt=\"Open In Colab\"/></a>"
      ]
    },
    {
      "cell_type": "code",
      "execution_count": 1,
      "metadata": {
        "colab": {
          "base_uri": "https://localhost:8080/"
        },
        "id": "jl_a5xr_JZ5G",
        "outputId": "e7195612-e8e4-4fcc-ab0a-b33cff5dc0a0"
      },
      "outputs": [
        {
          "output_type": "stream",
          "name": "stdout",
          "text": [
            "10\n"
          ]
        }
      ],
      "source": [
        "val1 = 5\n",
        "val2 = 5\n",
        "\n",
        "res = val1 + val2\n",
        "print(res)"
      ]
    },
    {
      "cell_type": "code",
      "source": [
        "val1 = 4\n",
        "val2 = 5\n",
        "\n",
        "res1 = val1 - val2\n",
        "res2 = val1 * val2\n",
        "print(res1)\n",
        "print(res2)"
      ],
      "metadata": {
        "colab": {
          "base_uri": "https://localhost:8080/"
        },
        "id": "EfAU3aFqKKKP",
        "outputId": "9e8812c6-5ceb-4ca5-a6c4-6af0cd42d9e1"
      },
      "execution_count": 2,
      "outputs": [
        {
          "output_type": "stream",
          "name": "stdout",
          "text": [
            "-1\n",
            "20\n"
          ]
        }
      ]
    },
    {
      "cell_type": "code",
      "source": [
        "num1 = input('Enter first number')\n",
        "num2 = input('Enter second number')\n",
        "\n",
        "sum = int(num1) + int(num2)\n",
        "print('sum of {0} and {1} is {2}'.format(num1, num2, sum))"
      ],
      "metadata": {
        "colab": {
          "base_uri": "https://localhost:8080/"
        },
        "id": "UDXWa9WjLAUx",
        "outputId": "b8bf7206-6b8e-41b6-db16-4369ec3af682"
      },
      "execution_count": 3,
      "outputs": [
        {
          "output_type": "stream",
          "name": "stdout",
          "text": [
            "Enter first number10\n",
            "Enter second number20\n",
            "sum of 10 and 20 is 30\n"
          ]
        }
      ]
    },
    {
      "cell_type": "code",
      "source": [
        "#Python program on sub\n",
        "num1 = input('Enter first number')\n",
        "num2 = input('Enter Second number')\n",
        "\n",
        "sub = int(num1) - int(num2)\n",
        "print('substraction of {0} and {1} is {2}'.format(num1, num2, sub))"
      ],
      "metadata": {
        "colab": {
          "base_uri": "https://localhost:8080/"
        },
        "id": "KQ3JervCMh01",
        "outputId": "fb582c85-7516-4865-fffd-b756b3d9cd7a"
      },
      "execution_count": 4,
      "outputs": [
        {
          "output_type": "stream",
          "name": "stdout",
          "text": [
            "Enter first number40\n",
            "Enter Second number20\n",
            "substraction of 40 and 20 is 20\n"
          ]
        }
      ]
    },
    {
      "cell_type": "code",
      "source": [
        "#python program on float addition\n",
        "num1 = input('Enter First number')\n",
        "num2 = input('Enter Second number')\n",
        "\n",
        "sum = float(num1) + float(num2)\n",
        "print('sum of {0} and {1} is {2}'. format(num1, num2, sum))"
      ],
      "metadata": {
        "colab": {
          "base_uri": "https://localhost:8080/"
        },
        "id": "odu244RBOJv8",
        "outputId": "7934178d-c23c-4ee7-886c-52fbedf2cb07"
      },
      "execution_count": 5,
      "outputs": [
        {
          "output_type": "stream",
          "name": "stdout",
          "text": [
            "Enter First number12.40\n",
            "Enter Second number24.8\n",
            "sum of 12.40 and 24.8 is 37.2\n"
          ]
        }
      ]
    },
    {
      "cell_type": "code",
      "source": [
        "age=23\n",
        "name=\"Raj\"\n",
        "roll_no=12\n",
        "\n",
        "print(age)\n",
        "print(name)\n",
        "print(roll_no)"
      ],
      "metadata": {
        "colab": {
          "base_uri": "https://localhost:8080/"
        },
        "id": "uWZYrCmiQ4-b",
        "outputId": "daf86719-d25c-4f89-8619-38a369813cb1"
      },
      "execution_count": 8,
      "outputs": [
        {
          "output_type": "stream",
          "name": "stdout",
          "text": [
            "23\n",
            "Raj\n",
            "12\n"
          ]
        }
      ]
    },
    {
      "cell_type": "code",
      "source": [
        "print(id(age))"
      ],
      "metadata": {
        "colab": {
          "base_uri": "https://localhost:8080/"
        },
        "id": "xAoKmyhHRbaD",
        "outputId": "4c21f1f1-963a-46fa-be38-e367e4700aaa"
      },
      "execution_count": 9,
      "outputs": [
        {
          "output_type": "stream",
          "name": "stdout",
          "text": [
            "11256768\n"
          ]
        }
      ]
    },
    {
      "cell_type": "code",
      "source": [
        "#Take input from user\n",
        "\n",
        "name = input(\"Enter your name\")\n",
        "age = input(\"Enter your age\")\n",
        "\n",
        "print(name)\n",
        "print(age)"
      ],
      "metadata": {
        "colab": {
          "base_uri": "https://localhost:8080/"
        },
        "id": "Ptsvo6M2SIW2",
        "outputId": "62735c04-b81e-4d67-ef0d-f15b542b6e08"
      },
      "execution_count": 10,
      "outputs": [
        {
          "output_type": "stream",
          "name": "stdout",
          "text": [
            "Enter your nameRaj\n",
            "Enter your age22\n",
            "Raj\n",
            "22\n"
          ]
        }
      ]
    },
    {
      "cell_type": "code",
      "source": [
        "#Data types\n",
        "\n",
        "age = 22\n",
        "name = \"Raj\"\n",
        "price = 50.80\n",
        "\n",
        "print(type(age))\n",
        "print(type(name))\n",
        "print(type(price))"
      ],
      "metadata": {
        "colab": {
          "base_uri": "https://localhost:8080/"
        },
        "id": "O8c5jp_6Tvs8",
        "outputId": "3893dd33-d94c-417f-e518-7bcce43da381"
      },
      "execution_count": 13,
      "outputs": [
        {
          "output_type": "stream",
          "name": "stdout",
          "text": [
            "<class 'int'>\n",
            "<class 'str'>\n",
            "<class 'float'>\n"
          ]
        }
      ]
    },
    {
      "cell_type": "code",
      "source": [
        "#Take input from user\n",
        "\n",
        "rollno = input(\"Enter your rollno\")\n",
        "print(\"I know your rollno\", rollno)"
      ],
      "metadata": {
        "colab": {
          "base_uri": "https://localhost:8080/"
        },
        "id": "z81s9Tl3U5y_",
        "outputId": "a6d84365-ad46-4799-cdc2-acd47d1ce827"
      },
      "execution_count": 14,
      "outputs": [
        {
          "output_type": "stream",
          "name": "stdout",
          "text": [
            "Enter your rollno12\n",
            "I know your rollno 12\n"
          ]
        }
      ]
    },
    {
      "cell_type": "code",
      "source": [
        "#Convert Data type\n",
        "x = 10\n",
        "print(type(x))\n",
        "\n",
        "x=str(x)\n",
        "print(type(x))"
      ],
      "metadata": {
        "colab": {
          "base_uri": "https://localhost:8080/"
        },
        "id": "PfN5iBILWIu2",
        "outputId": "68aac05f-91a0-4a72-cb91-d423271a87b7"
      },
      "execution_count": 25,
      "outputs": [
        {
          "output_type": "stream",
          "name": "stdout",
          "text": [
            "<class 'int'>\n",
            "<class 'str'>\n"
          ]
        }
      ]
    },
    {
      "cell_type": "code",
      "source": [
        "#Different method for take input from user\n",
        "first = int(input(\"Enter first no\"))\n",
        "second = int(input(\"Enter second no\"))\n",
        "\n",
        "result = first + second\n",
        "print(\"result=\", result)  "
      ],
      "metadata": {
        "colab": {
          "base_uri": "https://localhost:8080/"
        },
        "id": "JLFGE0_hb9P7",
        "outputId": "56582e61-4bfd-4867-e88d-63d32cc81f46"
      },
      "execution_count": 26,
      "outputs": [
        {
          "output_type": "stream",
          "name": "stdout",
          "text": [
            "Enter first no10\n",
            "Enter second no20\n",
            "result= 30\n"
          ]
        }
      ]
    },
    {
      "cell_type": "code",
      "source": [
        "#Take input from user\n",
        "num1 = input(\"Enter first no\")\n",
        "num2 = input(\"Enter second no\")\n",
        "\n",
        "sum= int(num1) + int(num2)\n",
        "print('sum of {0} and {1} is {2}'.format(num1, num2, sum))\n"
      ],
      "metadata": {
        "colab": {
          "base_uri": "https://localhost:8080/"
        },
        "id": "a95CCWDadZty",
        "outputId": "f63af050-d2e1-4b18-ea40-6a3908277299"
      },
      "execution_count": 32,
      "outputs": [
        {
          "output_type": "stream",
          "name": "stdout",
          "text": [
            "Enter first no20\n",
            "Enter second no20\n",
            "sum of 20 and 20 is 40\n"
          ]
        }
      ]
    },
    {
      "cell_type": "code",
      "source": [
        "#Diff method of take i/p\n",
        "first = int(input(\"Enter first no\"))\n",
        "second = int(input(\"Enter second no\"))\n",
        "\n",
        "result = first + second\n",
        "print(\"result=\",result) "
      ],
      "metadata": {
        "colab": {
          "base_uri": "https://localhost:8080/"
        },
        "id": "qX-kdh_6fmOc",
        "outputId": "293efb6b-2286-4dc2-ea8e-108ae3a8ac11"
      },
      "execution_count": 33,
      "outputs": [
        {
          "output_type": "stream",
          "name": "stdout",
          "text": [
            "Enter first no10\n",
            "Enter second no10\n",
            "result= 20\n"
          ]
        }
      ]
    }
  ]
}