{
  "nbformat": 4,
  "nbformat_minor": 0,
  "metadata": {
    "colab": {
      "provenance": [],
      "authorship_tag": "ABX9TyNpzzoe79HOvy5AapRgnF8C",
      "include_colab_link": true
    },
    "kernelspec": {
      "name": "python3",
      "display_name": "Python 3"
    },
    "language_info": {
      "name": "python"
    }
  },
  "cells": [
    {
      "cell_type": "markdown",
      "metadata": {
        "id": "view-in-github",
        "colab_type": "text"
      },
      "source": [
        "<a href=\"https://colab.research.google.com/github/adityag155/Python-Programs/blob/main/Untitled71.ipynb\" target=\"_parent\"><img src=\"https://colab.research.google.com/assets/colab-badge.svg\" alt=\"Open In Colab\"/></a>"
      ]
    },
    {
      "cell_type": "code",
      "execution_count": 1,
      "metadata": {
        "colab": {
          "base_uri": "https://localhost:8080/"
        },
        "id": "tkR2ff7GWe0c",
        "outputId": "2d9fe153-797b-4a5a-9f98-872707303d0c"
      },
      "outputs": [
        {
          "output_type": "stream",
          "name": "stdout",
          "text": [
            "Yes\n"
          ]
        }
      ],
      "source": [
        "#Pthon progran to check if a string is palindrome or not:\n",
        "\n",
        "def isPalindrome(str):\n",
        "    \n",
        "    #Run loop from 0 to len/2\n",
        "    for i in range(0, int(len(str)/2)):\n",
        "        if str[i] != str[len(str)-i-1]:\n",
        "            return False\n",
        "    return True\n",
        "\n",
        "#main function:\n",
        "s = \"malayalam\"\n",
        "ans = isPalindrome(s)\n",
        "\n",
        "if(ans):\n",
        "    print(\"Yes\")\n",
        "else:\n",
        "    print(\"No\")\n"
      ]
    },
    {
      "cell_type": "code",
      "source": [],
      "metadata": {
        "id": "u_PehGH_W_dT"
      },
      "execution_count": null,
      "outputs": []
    }
  ]
}