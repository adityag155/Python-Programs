{
  "nbformat": 4,
  "nbformat_minor": 0,
  "metadata": {
    "colab": {
      "provenance": [],
      "authorship_tag": "ABX9TyNXuO5OwWVrxaISTd5j4ZGF",
      "include_colab_link": true
    },
    "kernelspec": {
      "name": "python3",
      "display_name": "Python 3"
    },
    "language_info": {
      "name": "python"
    }
  },
  "cells": [
    {
      "cell_type": "markdown",
      "metadata": {
        "id": "view-in-github",
        "colab_type": "text"
      },
      "source": [
        "<a href=\"https://colab.research.google.com/github/adityag155/Python-Programs/blob/main/Untitled43.ipynb\" target=\"_parent\"><img src=\"https://colab.research.google.com/assets/colab-badge.svg\" alt=\"Open In Colab\"/></a>"
      ]
    },
    {
      "cell_type": "code",
      "execution_count": 1,
      "metadata": {
        "colab": {
          "base_uri": "https://localhost:8080/"
        },
        "id": "EdvAH35RoF2_",
        "outputId": "6f9cab3e-f0a9-4739-9760-5fb8db59ecbd"
      },
      "outputs": [
        {
          "output_type": "stream",
          "name": "stdout",
          "text": [
            "The original string is:geeksforgeeks_is_best\n",
            "The String after changing case :Geeksforgeeksisbest\n"
          ]
        }
      ],
      "source": [
        "# Convert snake case to pascal case:\n",
        "\n",
        "#Initializing string:\n",
        "test_str = 'geeksforgeeks_is_best'\n",
        "\n",
        "#printing original string:\n",
        "print(\"The original string is:\" +test_str)\n",
        "\n",
        "#Convert snake case to pascal case using title() + replace()\n",
        "res = test_str.replace(\"_\",\"\").title().replace(\" \",\"\")\n",
        "\n",
        "#printing result:\n",
        "print(\"The String after changing case :\"+str(res))\n"
      ]
    },
    {
      "cell_type": "code",
      "source": [
        "# find length of string in python(4ways):\n",
        "#1st way:\n",
        "str=\"geeks\"\n",
        "print(len(str))"
      ],
      "metadata": {
        "colab": {
          "base_uri": "https://localhost:8080/"
        },
        "id": "PZL3c1-zp6x9",
        "outputId": "4ce7e10a-acf7-434f-c76b-54276bc86e4f"
      },
      "execution_count": 2,
      "outputs": [
        {
          "output_type": "stream",
          "name": "stdout",
          "text": [
            "5\n"
          ]
        }
      ]
    },
    {
      "cell_type": "code",
      "source": [
        "# Python program to print even length words in string:\n",
        "\n",
        "def printWords(s):\n",
        "    \n",
        "    #Split the string:\n",
        "    s = s.split(' ')\n",
        "    \n",
        "    #iterate in words of string:\n",
        "    for word in s:\n",
        "        \n",
        "        #if length is even:\n",
        "        if len(word)%2 == 0:\n",
        "            print(word)\n",
        "#Driver code:\n",
        "s = \"i am Aditya\"\n",
        "printWords(s)"
      ],
      "metadata": {
        "colab": {
          "base_uri": "https://localhost:8080/"
        },
        "id": "OMhSiBqiqP8G",
        "outputId": "6d5ecd71-23f4-4f9e-d83e-37455c3620f7"
      },
      "execution_count": 3,
      "outputs": [
        {
          "output_type": "stream",
          "name": "stdout",
          "text": [
            "am\n",
            "Aditya\n"
          ]
        }
      ]
    },
    {
      "cell_type": "code",
      "source": [
        "# python program to accept the strings which contains all vowels:\n",
        "\n",
        "def check(string):\n",
        "    string = string.lower()\n",
        "    \n",
        "    vowels = set(\"aeiou\")\n",
        "    \n",
        "    s = set({})\n",
        "    for char in string:\n",
        "        \n",
        "        if char in vowels:\n",
        "            s.add(char)\n",
        "        else:\n",
        "            pass\n",
        "    if len(s) == len(vowels):\n",
        "        print(\"Accepted\")\n",
        "    else:\n",
        "        print(\"Not Accepted\")\n",
        "\n",
        "#Driver code:\n",
        "if __name__ == \"__main__\":\n",
        "    string = \"SEEquoiaL\"\n",
        "    #callimg function\n",
        "    check(string)"
      ],
      "metadata": {
        "colab": {
          "base_uri": "https://localhost:8080/"
        },
        "id": "mbys-L0WqeUk",
        "outputId": "4f0be7ae-a4dd-4f53-90c5-8ad7cb2557e3"
      },
      "execution_count": 4,
      "outputs": [
        {
          "output_type": "stream",
          "name": "stdout",
          "text": [
            "Accepted\n"
          ]
        }
      ]
    }
  ]
}