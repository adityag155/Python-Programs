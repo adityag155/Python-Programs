{
  "nbformat": 4,
  "nbformat_minor": 0,
  "metadata": {
    "colab": {
      "provenance": [],
      "authorship_tag": "ABX9TyOxWHCh0My2nhY5tduScmUl",
      "include_colab_link": true
    },
    "kernelspec": {
      "name": "python3",
      "display_name": "Python 3"
    },
    "language_info": {
      "name": "python"
    }
  },
  "cells": [
    {
      "cell_type": "markdown",
      "metadata": {
        "id": "view-in-github",
        "colab_type": "text"
      },
      "source": [
        "<a href=\"https://colab.research.google.com/github/adityag155/Python-Programs/blob/main/Untitled43.ipynb\" target=\"_parent\"><img src=\"https://colab.research.google.com/assets/colab-badge.svg\" alt=\"Open In Colab\"/></a>"
      ]
    },
    {
      "cell_type": "code",
      "execution_count": 1,
      "metadata": {
        "colab": {
          "base_uri": "https://localhost:8080/"
        },
        "id": "EdvAH35RoF2_",
        "outputId": "6f9cab3e-f0a9-4739-9760-5fb8db59ecbd"
      },
      "outputs": [
        {
          "output_type": "stream",
          "name": "stdout",
          "text": [
            "The original string is:geeksforgeeks_is_best\n",
            "The String after changing case :Geeksforgeeksisbest\n"
          ]
        }
      ],
      "source": [
        "# Convert snake case to pascal case:\n",
        "\n",
        "#Initializing string:\n",
        "test_str = 'geeksforgeeks_is_best'\n",
        "\n",
        "#printing original string:\n",
        "print(\"The original string is:\" +test_str)\n",
        "\n",
        "#Convert snake case to pascal case using title() + replace()\n",
        "res = test_str.replace(\"_\",\"\").title().replace(\" \",\"\")\n",
        "\n",
        "#printing result:\n",
        "print(\"The String after changing case :\"+str(res))\n"
      ]
    }
  ]
}