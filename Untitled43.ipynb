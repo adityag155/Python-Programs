{
  "nbformat": 4,
  "nbformat_minor": 0,
  "metadata": {
    "colab": {
      "provenance": [],
      "authorship_tag": "ABX9TyM1LgCO/U0ZWryGcVS1z0sW",
      "include_colab_link": true
    },
    "kernelspec": {
      "name": "python3",
      "display_name": "Python 3"
    },
    "language_info": {
      "name": "python"
    }
  },
  "cells": [
    {
      "cell_type": "markdown",
      "metadata": {
        "id": "view-in-github",
        "colab_type": "text"
      },
      "source": [
        "<a href=\"https://colab.research.google.com/github/adityag155/Python-Programs/blob/main/Untitled43.ipynb\" target=\"_parent\"><img src=\"https://colab.research.google.com/assets/colab-badge.svg\" alt=\"Open In Colab\"/></a>"
      ]
    },
    {
      "cell_type": "code",
      "execution_count": 1,
      "metadata": {
        "colab": {
          "base_uri": "https://localhost:8080/"
        },
        "id": "EdvAH35RoF2_",
        "outputId": "6f9cab3e-f0a9-4739-9760-5fb8db59ecbd"
      },
      "outputs": [
        {
          "output_type": "stream",
          "name": "stdout",
          "text": [
            "The original string is:geeksforgeeks_is_best\n",
            "The String after changing case :Geeksforgeeksisbest\n"
          ]
        }
      ],
      "source": [
        "# Convert snake case to pascal case:\n",
        "\n",
        "#Initializing string:\n",
        "test_str = 'geeksforgeeks_is_best'\n",
        "\n",
        "#printing original string:\n",
        "print(\"The original string is:\" +test_str)\n",
        "\n",
        "#Convert snake case to pascal case using title() + replace()\n",
        "res = test_str.replace(\"_\",\"\").title().replace(\" \",\"\")\n",
        "\n",
        "#printing result:\n",
        "print(\"The String after changing case :\"+str(res))\n"
      ]
    },
    {
      "cell_type": "code",
      "source": [
        "# find length of string in python(4ways):\n",
        "#1st way:\n",
        "str=\"geeks\"\n",
        "print(len(str))"
      ],
      "metadata": {
        "colab": {
          "base_uri": "https://localhost:8080/"
        },
        "id": "PZL3c1-zp6x9",
        "outputId": "4ce7e10a-acf7-434f-c76b-54276bc86e4f"
      },
      "execution_count": 2,
      "outputs": [
        {
          "output_type": "stream",
          "name": "stdout",
          "text": [
            "5\n"
          ]
        }
      ]
    },
    {
      "cell_type": "code",
      "source": [
        "# Python program to print even length words in string:\n",
        "\n",
        "def printWords(s):\n",
        "    \n",
        "    #Split the string:\n",
        "    s = s.split(' ')\n",
        "    \n",
        "    #iterate in words of string:\n",
        "    for word in s:\n",
        "        \n",
        "        #if length is even:\n",
        "        if len(word)%2 == 0:\n",
        "            print(word)\n",
        "#Driver code:\n",
        "s = \"i am Aditya\"\n",
        "printWords(s)"
      ],
      "metadata": {
        "colab": {
          "base_uri": "https://localhost:8080/"
        },
        "id": "OMhSiBqiqP8G",
        "outputId": "6d5ecd71-23f4-4f9e-d83e-37455c3620f7"
      },
      "execution_count": 3,
      "outputs": [
        {
          "output_type": "stream",
          "name": "stdout",
          "text": [
            "am\n",
            "Aditya\n"
          ]
        }
      ]
    },
    {
      "cell_type": "code",
      "source": [
        "# python program to accept the strings which contains all vowels:\n",
        "\n",
        "def check(string):\n",
        "    string = string.lower()\n",
        "    \n",
        "    vowels = set(\"aeiou\")\n",
        "    \n",
        "    s = set({})\n",
        "    for char in string:\n",
        "        \n",
        "        if char in vowels:\n",
        "            s.add(char)\n",
        "        else:\n",
        "            pass\n",
        "    if len(s) == len(vowels):\n",
        "        print(\"Accepted\")\n",
        "    else:\n",
        "        print(\"Not Accepted\")\n",
        "\n",
        "#Driver code:\n",
        "if __name__ == \"__main__\":\n",
        "    string = \"SEEquoiaL\"\n",
        "    #callimg function\n",
        "    check(string)"
      ],
      "metadata": {
        "colab": {
          "base_uri": "https://localhost:8080/"
        },
        "id": "mbys-L0WqeUk",
        "outputId": "4f0be7ae-a4dd-4f53-90c5-8ad7cb2557e3"
      },
      "execution_count": 4,
      "outputs": [
        {
          "output_type": "stream",
          "name": "stdout",
          "text": [
            "Accepted\n"
          ]
        }
      ]
    },
    {
      "cell_type": "code",
      "source": [
        "# python count the number of matching chaacters in a pair of string:\n",
        "\n",
        "def count(str1, str2): \n",
        "    c, j = 0, 0\n",
        "      \n",
        "    for i in str1:    \n",
        "          \n",
        "        if str2.find(i)>= 0 and j == str1.find(i): \n",
        "            c += 1\n",
        "        j += 1\n",
        "    print ('No. of matching characters are : ', c)\n",
        "  \n",
        "# Main function\n",
        "def main(): \n",
        "    str1 ='aabcddekll12@' # first string\n",
        "    str2 ='bb2211@55k' # second string\n",
        "    count(str1, str2) # calling count function \n",
        "  \n",
        "# Driver Code\n",
        "if __name__==\"__main__\":\n",
        "    main()"
      ],
      "metadata": {
        "colab": {
          "base_uri": "https://localhost:8080/"
        },
        "id": "BDsfPLwNqqBu",
        "outputId": "63722a63-5b6c-41fe-9de5-66329c24e9c3"
      },
      "execution_count": 5,
      "outputs": [
        {
          "output_type": "stream",
          "name": "stdout",
          "text": [
            "No. of matching characters are :  5\n"
          ]
        }
      ]
    },
    {
      "cell_type": "code",
      "source": [
        "# Remove all duplicate from a given string in python:\n",
        "\n",
        "from collections import OrderedDict\n",
        "\n",
        "def remove_duplicate(s):\n",
        "    string=set(s)\n",
        "    string=\"\".join(string)\n",
        "    dup=\"\"\n",
        "    for i in s:\n",
        "        if(i in dup):\n",
        "            pass\n",
        "        else:\n",
        "            dup=dup+i\n",
        "    print(\"After removing: \",dup)\n",
        "    \n",
        "s=\"stdsrdthw\"\n",
        "print(s)\n",
        "print(remove_duplicate(s))"
      ],
      "metadata": {
        "id": "uY3nzZTdq17M",
        "outputId": "2b215f64-4c0f-49cf-acc1-d348f14ffd3c",
        "colab": {
          "base_uri": "https://localhost:8080/"
        }
      },
      "execution_count": 6,
      "outputs": [
        {
          "output_type": "stream",
          "name": "stdout",
          "text": [
            "stdsrdthw\n",
            "After removing:  stdrhw\n",
            "None\n"
          ]
        }
      ]
    }
  ]
}