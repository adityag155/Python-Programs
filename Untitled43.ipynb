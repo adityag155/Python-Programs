{
  "nbformat": 4,
  "nbformat_minor": 0,
  "metadata": {
    "colab": {
      "provenance": [],
      "authorship_tag": "ABX9TyNHVi5HjZxgG7pav1lHTfoe",
      "include_colab_link": true
    },
    "kernelspec": {
      "name": "python3",
      "display_name": "Python 3"
    },
    "language_info": {
      "name": "python"
    }
  },
  "cells": [
    {
      "cell_type": "markdown",
      "metadata": {
        "id": "view-in-github",
        "colab_type": "text"
      },
      "source": [
        "<a href=\"https://colab.research.google.com/github/adityag155/Python-Programs/blob/main/Untitled43.ipynb\" target=\"_parent\"><img src=\"https://colab.research.google.com/assets/colab-badge.svg\" alt=\"Open In Colab\"/></a>"
      ]
    },
    {
      "cell_type": "code",
      "execution_count": 1,
      "metadata": {
        "colab": {
          "base_uri": "https://localhost:8080/"
        },
        "id": "EdvAH35RoF2_",
        "outputId": "6f9cab3e-f0a9-4739-9760-5fb8db59ecbd"
      },
      "outputs": [
        {
          "output_type": "stream",
          "name": "stdout",
          "text": [
            "The original string is:geeksforgeeks_is_best\n",
            "The String after changing case :Geeksforgeeksisbest\n"
          ]
        }
      ],
      "source": [
        "# Convert snake case to pascal case:\n",
        "\n",
        "#Initializing string:\n",
        "test_str = 'geeksforgeeks_is_best'\n",
        "\n",
        "#printing original string:\n",
        "print(\"The original string is:\" +test_str)\n",
        "\n",
        "#Convert snake case to pascal case using title() + replace()\n",
        "res = test_str.replace(\"_\",\"\").title().replace(\" \",\"\")\n",
        "\n",
        "#printing result:\n",
        "print(\"The String after changing case :\"+str(res))\n"
      ]
    },
    {
      "cell_type": "code",
      "source": [
        "# find length of string in python(4ways):\n",
        "#1st way:\n",
        "str=\"geeks\"\n",
        "print(len(str))"
      ],
      "metadata": {
        "colab": {
          "base_uri": "https://localhost:8080/"
        },
        "id": "PZL3c1-zp6x9",
        "outputId": "4ce7e10a-acf7-434f-c76b-54276bc86e4f"
      },
      "execution_count": 2,
      "outputs": [
        {
          "output_type": "stream",
          "name": "stdout",
          "text": [
            "5\n"
          ]
        }
      ]
    },
    {
      "cell_type": "code",
      "source": [
        "# Python program to print even length words in string:\n",
        "\n",
        "def printWords(s):\n",
        "    \n",
        "    #Split the string:\n",
        "    s = s.split(' ')\n",
        "    \n",
        "    #iterate in words of string:\n",
        "    for word in s:\n",
        "        \n",
        "        #if length is even:\n",
        "        if len(word)%2 == 0:\n",
        "            print(word)\n",
        "#Driver code:\n",
        "s = \"i am Aditya\"\n",
        "printWords(s)"
      ],
      "metadata": {
        "colab": {
          "base_uri": "https://localhost:8080/"
        },
        "id": "OMhSiBqiqP8G",
        "outputId": "6d5ecd71-23f4-4f9e-d83e-37455c3620f7"
      },
      "execution_count": 3,
      "outputs": [
        {
          "output_type": "stream",
          "name": "stdout",
          "text": [
            "am\n",
            "Aditya\n"
          ]
        }
      ]
    },
    {
      "cell_type": "code",
      "source": [
        "# python program to accept the strings which contains all vowels:\n",
        "\n",
        "def check(string):\n",
        "    string = string.lower()\n",
        "    \n",
        "    vowels = set(\"aeiou\")\n",
        "    \n",
        "    s = set({})\n",
        "    for char in string:\n",
        "        \n",
        "        if char in vowels:\n",
        "            s.add(char)\n",
        "        else:\n",
        "            pass\n",
        "    if len(s) == len(vowels):\n",
        "        print(\"Accepted\")\n",
        "    else:\n",
        "        print(\"Not Accepted\")\n",
        "\n",
        "#Driver code:\n",
        "if __name__ == \"__main__\":\n",
        "    string = \"SEEquoiaL\"\n",
        "    #callimg function\n",
        "    check(string)"
      ],
      "metadata": {
        "colab": {
          "base_uri": "https://localhost:8080/"
        },
        "id": "mbys-L0WqeUk",
        "outputId": "4f0be7ae-a4dd-4f53-90c5-8ad7cb2557e3"
      },
      "execution_count": 4,
      "outputs": [
        {
          "output_type": "stream",
          "name": "stdout",
          "text": [
            "Accepted\n"
          ]
        }
      ]
    },
    {
      "cell_type": "code",
      "source": [
        "# python count the number of matching chaacters in a pair of string:\n",
        "\n",
        "def count(str1, str2): \n",
        "    c, j = 0, 0\n",
        "      \n",
        "    for i in str1:    \n",
        "          \n",
        "        if str2.find(i)>= 0 and j == str1.find(i): \n",
        "            c += 1\n",
        "        j += 1\n",
        "    print ('No. of matching characters are : ', c)\n",
        "  \n",
        "# Main function\n",
        "def main(): \n",
        "    str1 ='aabcddekll12@' # first string\n",
        "    str2 ='bb2211@55k' # second string\n",
        "    count(str1, str2) # calling count function \n",
        "  \n",
        "# Driver Code\n",
        "if __name__==\"__main__\":\n",
        "    main()"
      ],
      "metadata": {
        "colab": {
          "base_uri": "https://localhost:8080/"
        },
        "id": "BDsfPLwNqqBu",
        "outputId": "63722a63-5b6c-41fe-9de5-66329c24e9c3"
      },
      "execution_count": 5,
      "outputs": [
        {
          "output_type": "stream",
          "name": "stdout",
          "text": [
            "No. of matching characters are :  5\n"
          ]
        }
      ]
    },
    {
      "cell_type": "code",
      "source": [
        "# Remove all duplicate from a given string in python:\n",
        "\n",
        "from collections import OrderedDict\n",
        "\n",
        "def remove_duplicate(s):\n",
        "    string=set(s)\n",
        "    string=\"\".join(string)\n",
        "    dup=\"\"\n",
        "    for i in s:\n",
        "        if(i in dup):\n",
        "            pass\n",
        "        else:\n",
        "            dup=dup+i\n",
        "    print(\"After removing: \",dup)\n",
        "    \n",
        "s=\"stdsrdthw\"\n",
        "print(s)\n",
        "print(remove_duplicate(s))"
      ],
      "metadata": {
        "colab": {
          "base_uri": "https://localhost:8080/"
        },
        "id": "uY3nzZTdq17M",
        "outputId": "2b215f64-4c0f-49cf-acc1-d348f14ffd3c"
      },
      "execution_count": 6,
      "outputs": [
        {
          "output_type": "stream",
          "name": "stdout",
          "text": [
            "stdsrdthw\n",
            "After removing:  stdrhw\n",
            "None\n"
          ]
        }
      ]
    },
    {
      "cell_type": "code",
      "source": [
        "# Python program to check if string contains any special character:\n",
        "\n",
        "import re\n",
        "\n",
        "def run(string):\n",
        "    regex = re.compile('[@_!#$%^&*()<>?/\\|}{~:]')\n",
        "    \n",
        "    if(regex.search(string) == None):\n",
        "        print(\"String is accepted\")\n",
        "    else:\n",
        "        print(\"String is not accepted\")\n",
        "\n",
        "#Driver code:\n",
        "if __name__ == '__main__':\n",
        "    #Enter the string:\n",
        "    string = \"Geeks$For$Geeks\"\n",
        "    \n",
        "    #Calling run function:\n",
        "    run(string)"
      ],
      "metadata": {
        "colab": {
          "base_uri": "https://localhost:8080/"
        },
        "id": "FFVCBFbOrBJw",
        "outputId": "78d95f85-aa04-4fd6-809e-1aa194c51b4c"
      },
      "execution_count": 7,
      "outputs": [
        {
          "output_type": "stream",
          "name": "stdout",
          "text": [
            "String is not accepted\n"
          ]
        }
      ]
    },
    {
      "cell_type": "code",
      "source": [
        "# Python maximum frequency character in string:\n",
        "# initializing string \n",
        "test_str = \"GeeksforGeeks\"\n",
        "  \n",
        "# printing original string\n",
        "print (\"The original string is : \" + test_str)\n",
        "  \n",
        "# using naive method to get\n",
        "# Maximum frequency character in String\n",
        "all_freq = {}\n",
        "for i in test_str:\n",
        "    if i in all_freq:\n",
        "        all_freq[i] += 1\n",
        "    else:\n",
        "        all_freq[i] = 1\n",
        "res = max(all_freq, key = all_freq.get) \n",
        "  \n",
        "# printing result \n",
        "print (\"The maximum of all characters in GeeksforGeeks is : \" + str(res))"
      ],
      "metadata": {
        "colab": {
          "base_uri": "https://localhost:8080/",
          "height": 217
        },
        "id": "ngrTJ5HvrN5X",
        "outputId": "d7bb3e02-8af9-4dc9-c9fd-5065fb190cd5"
      },
      "execution_count": 8,
      "outputs": [
        {
          "output_type": "stream",
          "name": "stdout",
          "text": [
            "The original string is : GeeksforGeeks\n"
          ]
        },
        {
          "output_type": "error",
          "ename": "TypeError",
          "evalue": "ignored",
          "traceback": [
            "\u001b[0;31m---------------------------------------------------------------------------\u001b[0m",
            "\u001b[0;31mTypeError\u001b[0m                                 Traceback (most recent call last)",
            "\u001b[0;32m<ipython-input-8-5ae14df72bb6>\u001b[0m in \u001b[0;36m<module>\u001b[0;34m\u001b[0m\n\u001b[1;32m     17\u001b[0m \u001b[0;34m\u001b[0m\u001b[0m\n\u001b[1;32m     18\u001b[0m \u001b[0;31m# printing result\u001b[0m\u001b[0;34m\u001b[0m\u001b[0;34m\u001b[0m\u001b[0;34m\u001b[0m\u001b[0m\n\u001b[0;32m---> 19\u001b[0;31m \u001b[0mprint\u001b[0m \u001b[0;34m(\u001b[0m\u001b[0;34m\"The maximum of all characters in GeeksforGeeks is : \"\u001b[0m \u001b[0;34m+\u001b[0m \u001b[0mstr\u001b[0m\u001b[0;34m(\u001b[0m\u001b[0mres\u001b[0m\u001b[0;34m)\u001b[0m\u001b[0;34m)\u001b[0m\u001b[0;34m\u001b[0m\u001b[0;34m\u001b[0m\u001b[0m\n\u001b[0m",
            "\u001b[0;31mTypeError\u001b[0m: 'str' object is not callable"
          ]
        }
      ]
    }
  ]
}