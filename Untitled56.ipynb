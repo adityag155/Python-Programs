{
  "nbformat": 4,
  "nbformat_minor": 0,
  "metadata": {
    "colab": {
      "provenance": [],
      "authorship_tag": "ABX9TyNH4jRW6OpWWxCJq/gBRsjh",
      "include_colab_link": true
    },
    "kernelspec": {
      "name": "python3",
      "display_name": "Python 3"
    },
    "language_info": {
      "name": "python"
    }
  },
  "cells": [
    {
      "cell_type": "markdown",
      "metadata": {
        "id": "view-in-github",
        "colab_type": "text"
      },
      "source": [
        "<a href=\"https://colab.research.google.com/github/adityag155/Python-Programs/blob/main/Untitled56.ipynb\" target=\"_parent\"><img src=\"https://colab.research.google.com/assets/colab-badge.svg\" alt=\"Open In Colab\"/></a>"
      ]
    },
    {
      "cell_type": "code",
      "execution_count": 1,
      "metadata": {
        "colab": {
          "base_uri": "https://localhost:8080/"
        },
        "id": "3R2HS24eWPnH",
        "outputId": "d9592792-56cb-4581-8071-14fa59a586ca"
      },
      "outputs": [
        {
          "output_type": "stream",
          "name": "stdout",
          "text": [
            "Inner function: 30\n",
            "Outer function: 30\n"
          ]
        }
      ],
      "source": [
        "#nonlocal keyword\n",
        "def outside_function():\n",
        "    a = 20\n",
        "    def inside_function():\n",
        "        nonlocal a\n",
        "        a = 30\n",
        "        print(\"Inner function:\",a)\n",
        "    inside_function()\n",
        "    print(\"Outer function:\",a)\n",
        "outside_function()"
      ]
    },
    {
      "cell_type": "code",
      "source": [
        "#lambda keyword\n",
        "a= lambda x:x**2\n",
        "for i in range(1,6):\n",
        "    print(a(i))\n"
      ],
      "metadata": {
        "colab": {
          "base_uri": "https://localhost:8080/"
        },
        "id": "IK4RaeTsYgX8",
        "outputId": "4c5c580a-310d-4ac0-88b1-751577e5137f"
      },
      "execution_count": 2,
      "outputs": [
        {
          "output_type": "stream",
          "name": "stdout",
          "text": [
            "1\n",
            "4\n",
            "9\n",
            "16\n",
            "25\n"
          ]
        }
      ]
    },
    {
      "cell_type": "code",
      "source": [
        "#yield keyword\n",
        "def fun_Generator():\n",
        "    yield 1\n",
        "    yield 2\n",
        "    yield 3\n",
        "for value in fun_Generator():\n",
        "    print(value)"
      ],
      "metadata": {
        "colab": {
          "base_uri": "https://localhost:8080/"
        },
        "id": "0fuywIBLZHuB",
        "outputId": "9995c0de-4573-4f84-cee4-1ec5d8ab8c93"
      },
      "execution_count": 3,
      "outputs": [
        {
          "output_type": "stream",
          "name": "stdout",
          "text": [
            "1\n",
            "2\n",
            "3\n"
          ]
        }
      ]
    },
    {
      "cell_type": "code",
      "source": [
        "#None keyword\n",
        "def return_none():\n",
        "    a=10\n",
        "    b=20\n",
        "    c=a+b\n",
        "x=return_none()\n",
        "print(x)\n"
      ],
      "metadata": {
        "colab": {
          "base_uri": "https://localhost:8080/"
        },
        "id": "iNXK8sbeZSzG",
        "outputId": "4d3989ec-c61e-4f82-a8c9-10f7568e1f2e"
      },
      "execution_count": 4,
      "outputs": [
        {
          "output_type": "stream",
          "name": "stdout",
          "text": [
            "None\n"
          ]
        }
      ]
    },
    {
      "cell_type": "code",
      "source": [
        "#single line string\n",
        "text1='hello python'\n",
        "print(text1)\n"
      ],
      "metadata": {
        "colab": {
          "base_uri": "https://localhost:8080/"
        },
        "id": "lxNehyg2Zqma",
        "outputId": "00381238-f504-45e9-fa47-556ed8912738"
      },
      "execution_count": 5,
      "outputs": [
        {
          "output_type": "stream",
          "name": "stdout",
          "text": [
            "hello python\n"
          ]
        }
      ]
    },
    {
      "cell_type": "code",
      "source": [
        "#Numeric Literals\n",
        "x = 0b10100 #Binary Literals  \n",
        "y = 100 #Decimal Literal   \n",
        "z = 0o215 #Octal Literal  \n",
        "u = 0x12d #Hexadecimal Literal  \n",
        "  \n",
        "#Float Literal  \n",
        "float_1 = 100.5   \n",
        "float_2 = 1.5e2  \n",
        "  \n",
        "#Complex Literal   \n",
        "a = 5+3.14j  \n",
        "  \n",
        "print(x, y, z, u)  \n",
        "print(float_1, float_2)  \n",
        "print(a, a.imag, a.real)  \n"
      ],
      "metadata": {
        "colab": {
          "base_uri": "https://localhost:8080/"
        },
        "id": "8IdLOajKZ4xe",
        "outputId": "d3c6762e-aecb-4ce8-e706-1a9a088708d2"
      },
      "execution_count": 6,
      "outputs": [
        {
          "output_type": "stream",
          "name": "stdout",
          "text": [
            "20 100 141 301\n",
            "100.5 150.0\n",
            "(5+3.14j) 3.14 5.0\n"
          ]
        }
      ]
    }
  ]
}